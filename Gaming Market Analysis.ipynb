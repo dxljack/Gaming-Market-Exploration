{
 "cells": [
  {
   "cell_type": "markdown",
   "metadata": {},
   "source": [
    "As the launch of next generation gaming console around the corner, I think that it is nice to have an overview on the entire gaming market. I also want to have a deep analysis on how well the current generation consoles are doing, namely PS4 vs Xbox One.\n",
    "\n",
    "This project is for gamers who are interested in gaming on the more popular platform and for developers who want to continue putting resources on current generation consoles. This analysis will offer insights on which platform has stronger player base and which platform sells more copies of games, as well as what kind of impact the current generation consoles could possibly have on the next generation consoles."
   ]
  },
  {
   "cell_type": "markdown",
   "metadata": {},
   "source": [
    "#### Part 1: Analysis of gaming market in general"
   ]
  },
  {
   "cell_type": "code",
   "execution_count": null,
   "metadata": {},
   "outputs": [],
   "source": [
    "import pandas as pd\n",
    "import matplotlib.pyplot as plt\n",
    "from matplotlib.pyplot import *\n",
    "import seaborn as sns\n",
    "import sklearn\n",
    "import pickle\n",
    "from sklearn.preprocessing import StandardScaler, OneHotEncoder, LabelEncoder, OrdinalEncoder\n",
    "from sklearn.utils import column_or_1d\n",
    "from sklearn.compose import ColumnTransformer\n",
    "from sklearn.pipeline import Pipeline\n",
    "from sklearn.linear_model import LinearRegression, Ridge\n",
    "from sklearn.ensemble import RandomForestRegressor\n",
    "from sklearn.model_selection import GridSearchCV, train_test_split\n",
    "from sklearn.metrics import mean_squared_error, r2_score"
   ]
  },
  {
   "cell_type": "code",
   "execution_count": null,
   "metadata": {},
   "outputs": [],
   "source": [
    "df1=pd.read_csv('https://raw.githubusercontent.com/dxljack/Gaming-Market-Exploration/master/Dataset/Hardware%20Yearly%20Sales.csv')"
   ]
  },
  {
   "cell_type": "code",
   "execution_count": null,
   "metadata": {},
   "outputs": [],
   "source": [
    "df1"
   ]
  },
  {
   "cell_type": "code",
   "execution_count": null,
   "metadata": {},
   "outputs": [],
   "source": [
    "df2=pd.read_csv('https://raw.githubusercontent.com/dxljack/Gaming-Market-Exploration/master/Dataset/Hardware%20Total%20Sales.csv')"
   ]
  },
  {
   "cell_type": "code",
   "execution_count": null,
   "metadata": {},
   "outputs": [],
   "source": [
    "df2"
   ]
  },
  {
   "cell_type": "code",
   "execution_count": null,
   "metadata": {},
   "outputs": [],
   "source": [
    "df3=pd.read_csv('https://raw.githubusercontent.com/dxljack/Gaming-Market-Exploration/master/Dataset/vgsales-12-4-2019-short.csv')"
   ]
  },
  {
   "cell_type": "markdown",
   "metadata": {},
   "source": [
    "Because we really only care about Global_Sales, I will replace missing value in Global_Sales with Total_Shipped. Next, I will also replace missing values in Critic_Score with User_Score."
   ]
  },
  {
   "cell_type": "code",
   "execution_count": null,
   "metadata": {},
   "outputs": [],
   "source": [
    "df3[\"Global_Sales\"] = df3[\"Global_Sales\"].fillna(df3[\"Total_Shipped\"])"
   ]
  },
  {
   "cell_type": "code",
   "execution_count": null,
   "metadata": {},
   "outputs": [],
   "source": [
    "df3[\"Critic_Score\"] = df3[\"Critic_Score\"].fillna(df3[\"User_Score\"])"
   ]
  },
  {
   "cell_type": "code",
   "execution_count": null,
   "metadata": {},
   "outputs": [],
   "source": [
    "# fill in missing values in Global_Sales with mean value of each genre.\n",
    "df3['Global_Sales'] = df3['Global_Sales'].fillna(df3.groupby('Genre')['Global_Sales'].transform('mean'))"
   ]
  },
  {
   "cell_type": "code",
   "execution_count": null,
   "metadata": {},
   "outputs": [],
   "source": [
    "# fill in missing values in Critic_Score with mean value of each genre.\n",
    "df3['Critic_Score'] = df3['Critic_Score'].fillna(df3.groupby('Genre')['Critic_Score'].transform('mean'))"
   ]
  },
  {
   "cell_type": "code",
   "execution_count": null,
   "metadata": {},
   "outputs": [],
   "source": [
    "# round numerical values to 2 decimal places\n",
    "df3 = df3.round(2)"
   ]
  },
  {
   "cell_type": "code",
   "execution_count": null,
   "metadata": {},
   "outputs": [],
   "source": [
    "df3.head()"
   ]
  },
  {
   "cell_type": "code",
   "execution_count": null,
   "metadata": {},
   "outputs": [],
   "source": [
    "df3.isnull().sum()"
   ]
  },
  {
   "cell_type": "code",
   "execution_count": null,
   "metadata": {},
   "outputs": [],
   "source": [
    "df3.describe()"
   ]
  },
  {
   "cell_type": "code",
   "execution_count": null,
   "metadata": {},
   "outputs": [],
   "source": [
    "plt.plot(df1[\"Year\"], df1[\"PS4\"]/1000000, color='blue', label='PS4')\n",
    "plt.plot(df1[\"Year\"], df1[\"XOne\"]/1000000, color='red', label='XOne')\n",
    "plt.plot(df1[\"Year\"], df1[\"NS\"]/1000000, color='green', label='NS')\n",
    "plt.ylabel(\"Unit sold in millions\")\n",
    "plt.title('Console Yearly Sales')\n",
    "plt.xticks(df1['Year'])\n",
    "plt.legend(loc='best')\n",
    "plt.show()"
   ]
  },
  {
   "cell_type": "code",
   "execution_count": null,
   "metadata": {},
   "outputs": [],
   "source": [
    "plt.bar(df2[\"Year\"], df2[\"PS4\"]/1000000, 0.35, label=\"PS4\", color='lightskyblue')\n",
    "plt.bar(df2[\"Year\"]+0.35, df2[\"XOne\"]/1000000, 0.35, label=\"XOne\", color='lightcoral')\n",
    "plt.bar(df2[\"Year\"]+0.35, df2[\"NS\"]/1000000, 0.35, label=\"NS\", color='lightgreen')\n",
    "plt.ylabel(\"Unit sold in millions\")\n",
    "plt.title('Console Total Sales')\n",
    "plt.xticks(df2['Year']+0.35/2, ('2013','2014','2015','2016','2017','2018'))\n",
    "plt.legend(loc='best')\n",
    "plt.show()"
   ]
  },
  {
   "cell_type": "markdown",
   "metadata": {},
   "source": [
    "From early graphs, we can see that in term of sales, PS4 is in the lead compared to XOne and NS.\n",
    "Next, let us take a good of software in term of game sales, perhaps XOne will take the lead in this round.\n",
    "Here, NS falls behind is because that it was launched 4 years later."
   ]
  },
  {
   "cell_type": "code",
   "execution_count": null,
   "metadata": {},
   "outputs": [],
   "source": [
    "mask = (df3[\"Year\"] >= 2013) & (df3[\"Year\"] <= 2018)\n",
    "df31=df3.loc[mask]\n",
    "df31.head()"
   ]
  },
  {
   "cell_type": "code",
   "execution_count": null,
   "metadata": {},
   "outputs": [],
   "source": [
    "mask1 = (df31[\"Platform\"] == 'PS4') | (df31[\"Platform\"] == 'XOne') | (df31[\"Platform\"] == 'NS')\n",
    "df_3 = df31.loc[mask1]"
   ]
  },
  {
   "cell_type": "code",
   "execution_count": null,
   "metadata": {
    "scrolled": true
   },
   "outputs": [],
   "source": [
    "df_3.head()"
   ]
  },
  {
   "cell_type": "markdown",
   "metadata": {},
   "source": [
    "Extract the columns we need for further exploration."
   ]
  },
  {
   "cell_type": "code",
   "execution_count": null,
   "metadata": {},
   "outputs": [],
   "source": [
    "df_3=df_3[[\"Name\", \"Genre\", \"Platform\", \"Publisher\", \"Global_Sales\", \"Year\"]]"
   ]
  },
  {
   "cell_type": "code",
   "execution_count": null,
   "metadata": {
    "scrolled": false
   },
   "outputs": [],
   "source": [
    "df_3"
   ]
  },
  {
   "cell_type": "code",
   "execution_count": null,
   "metadata": {},
   "outputs": [],
   "source": [
    "df_3.isnull().sum()"
   ]
  },
  {
   "cell_type": "markdown",
   "metadata": {},
   "source": [
    "Let us group the remaining data by Platform and compute the sum of sales."
   ]
  },
  {
   "cell_type": "code",
   "execution_count": null,
   "metadata": {},
   "outputs": [],
   "source": [
    "df_31=df_3[[\"Platform\", \"Global_Sales\"]].groupby(\"Platform\").sum()"
   ]
  },
  {
   "cell_type": "code",
   "execution_count": null,
   "metadata": {},
   "outputs": [],
   "source": [
    "df_31.head()"
   ]
  },
  {
   "cell_type": "markdown",
   "metadata": {},
   "source": [
    "Above is the Global_Sales from 2013 to 2018."
   ]
  },
  {
   "cell_type": "code",
   "execution_count": null,
   "metadata": {},
   "outputs": [],
   "source": [
    "ax = sns.barplot(df_31.index, df_31[\"Global_Sales\"])\n",
    "ax.set(xlabel='Platform', ylabel='Global sales in millions')"
   ]
  },
  {
   "cell_type": "markdown",
   "metadata": {},
   "source": [
    "If you would like to see the yearly breakdown, here it is."
   ]
  },
  {
   "cell_type": "code",
   "execution_count": null,
   "metadata": {},
   "outputs": [],
   "source": [
    "df_32=df_3.groupby([\"Platform\", \"Year\"])[\"Global_Sales\"].sum()"
   ]
  },
  {
   "cell_type": "code",
   "execution_count": null,
   "metadata": {},
   "outputs": [],
   "source": [
    "df_32=df_32.to_frame()\n",
    "df_32"
   ]
  },
  {
   "cell_type": "code",
   "execution_count": null,
   "metadata": {},
   "outputs": [],
   "source": [
    "ax1 = df_32.unstack().plot(figsize=(8,6), kind='bar')\n",
    "ax1.legend([\"2013\",\"2014\",\"2015\",\"2016\",\"2017\",\"2018\"])\n",
    "ax1.set_ylabel(\"Global sales in millions\")"
   ]
  },
  {
   "cell_type": "markdown",
   "metadata": {},
   "source": [
    "At this point, we can see that XOne isn't really doing all the well for this generation. It falls behind PS4 every year. Now let us take a look at the exact market share in term of game sales. Note that we cannot explore the market share with PC, since we didnot take into account the PC sales."
   ]
  },
  {
   "cell_type": "code",
   "execution_count": null,
   "metadata": {},
   "outputs": [],
   "source": [
    "df_33=df_31/df_31[\"Global_Sales\"].sum()\n",
    "df_33"
   ]
  },
  {
   "cell_type": "code",
   "execution_count": null,
   "metadata": {},
   "outputs": [],
   "source": [
    "labels = 'NS', 'PS4', 'XOne'\n",
    "sizes = df_33[\"Global_Sales\"]\n",
    "colors = ['lightgreen', 'lightskyblue', 'lightcoral']\n",
    "explode = (0, 0.05, 0)  # only \"explode\" the 2nd slice (i.e. 'Hogs')\n",
    "\n",
    "ax2 = plt.pie(sizes, explode=explode, labels=labels, colors=colors, autopct='%1.1f%%', shadow=True, startangle=140)\n",
    "plt.axis('equal')\n",
    "plt.show()"
   ]
  },
  {
   "cell_type": "markdown",
   "metadata": {},
   "source": [
    "In summary, as far as current generation console goes, the winner is clearly the PS4. This will give a lot of confidence to the developers who will continue to make games for PS4 as time goes on, because even when the next generation launches, PS4 will still be supported many years to come. In addition, this will possibly promotes the sales of PS5 since the player base is high, it is very likely for those players to stay with PlayStation due to few main factors, including previous investments in games and friends in the same network, etc. This concludes the analysis on gaming market."
   ]
  },
  {
   "cell_type": "markdown",
   "metadata": {},
   "source": [
    "#### Part 2: Modeling and prediction on future game sales"
   ]
  },
  {
   "cell_type": "markdown",
   "metadata": {},
   "source": [
    "We can start by finding what kind of game is most popular through the year. For simplicity, we will continue using df_3 which consists of games from 2013 to 2018."
   ]
  },
  {
   "cell_type": "code",
   "execution_count": null,
   "metadata": {},
   "outputs": [],
   "source": [
    "df3.groupby('Genre')['Critic_Score'].mean()"
   ]
  },
  {
   "cell_type": "code",
   "execution_count": null,
   "metadata": {},
   "outputs": [],
   "source": [
    "df3.isnull().sum()"
   ]
  },
  {
   "cell_type": "code",
   "execution_count": null,
   "metadata": {},
   "outputs": [],
   "source": [
    "df_model = df3[[\"Name\", \"Platform\", \"Genre\", \"Publisher\", \"Critic_Score\", \"Global_Sales\", \"Year\"]]"
   ]
  },
  {
   "cell_type": "code",
   "execution_count": null,
   "metadata": {},
   "outputs": [],
   "source": [
    "df_model.head()"
   ]
  },
  {
   "cell_type": "code",
   "execution_count": null,
   "metadata": {},
   "outputs": [],
   "source": [
    "df_model.isnull().sum()"
   ]
  },
  {
   "cell_type": "code",
   "execution_count": null,
   "metadata": {
    "scrolled": true
   },
   "outputs": [],
   "source": [
    "top5_genre=df_model.groupby(['Genre'])['Global_Sales'].sum().sort_values(ascending=False).head(5)\n",
    "top5_genre"
   ]
  },
  {
   "cell_type": "code",
   "execution_count": null,
   "metadata": {
    "scrolled": true
   },
   "outputs": [],
   "source": [
    "top5_genre=top5_genre.to_frame()\n",
    "top5_genre_df = df_model[df_model[\"Genre\"].isin(top5_genre.index)]\n",
    "top5_genre_df.head()"
   ]
  },
  {
   "cell_type": "code",
   "execution_count": null,
   "metadata": {},
   "outputs": [],
   "source": [
    "top20_name=df_model.groupby(['Name'])['Global_Sales'].sum().sort_values(ascending=False).head(20)\n",
    "top20_name"
   ]
  },
  {
   "cell_type": "code",
   "execution_count": null,
   "metadata": {},
   "outputs": [],
   "source": [
    "top20_name=top20_name.to_frame()\n",
    "top20_name.head()"
   ]
  },
  {
   "cell_type": "code",
   "execution_count": null,
   "metadata": {},
   "outputs": [],
   "source": [
    "fig, ax2 = plt.subplots(figsize=(15,7))\n",
    "plt.barh(top20_name.index, top20_name[\"Global_Sales\"], align='center')\n",
    "plt.xlabel('Global sales in millions')\n",
    "ax2.invert_yaxis()\n",
    "plt.show()"
   ]
  },
  {
   "cell_type": "code",
   "execution_count": null,
   "metadata": {},
   "outputs": [],
   "source": [
    "fig, ax3 = plt.subplots(figsize=(15,7))\n",
    "sns.lineplot(x='Year', y='Global_Sales', hue='Genre', data=top5_genre_df, ci=None, ax=ax3)"
   ]
  },
  {
   "cell_type": "code",
   "execution_count": null,
   "metadata": {},
   "outputs": [],
   "source": [
    "top5_publisher=df_model.groupby(['Publisher'])['Global_Sales'].sum().sort_values(ascending=False).head(5)\n",
    "top5_publisher"
   ]
  },
  {
   "cell_type": "code",
   "execution_count": null,
   "metadata": {},
   "outputs": [],
   "source": [
    "top5_publisher=top5_publisher.to_frame()\n",
    "top5_publisher_df = df_model[df_model[\"Publisher\"].isin(top5_publisher.index)]\n",
    "top5_publisher_df.head()"
   ]
  },
  {
   "cell_type": "code",
   "execution_count": null,
   "metadata": {},
   "outputs": [],
   "source": [
    "fig, ax4 = plt.subplots(figsize=(15,7))\n",
    "sns.lineplot(x='Year', y='Global_Sales', hue='Publisher', data=top5_publisher_df, ci=None, ax=ax4)"
   ]
  },
  {
   "cell_type": "markdown",
   "metadata": {},
   "source": [
    "Now that we know what kind of games are popular, we can proceed building a linear model to predict sales with selected features, namely Genre and Publisher."
   ]
  },
  {
   "cell_type": "code",
   "execution_count": null,
   "metadata": {
    "scrolled": false
   },
   "outputs": [],
   "source": [
    "df_model = df_model[[\"Platform\", \"Genre\", \"Publisher\", \"Critic_Score\", \"Global_Sales\"]]\n",
    "df_model.head()"
   ]
  },
  {
   "cell_type": "code",
   "execution_count": null,
   "metadata": {},
   "outputs": [],
   "source": [
    "df_model.describe()"
   ]
  },
  {
   "cell_type": "code",
   "execution_count": null,
   "metadata": {},
   "outputs": [],
   "source": [
    "X = df_model[['Platform', 'Genre', 'Publisher', 'Critic_Score']]\n",
    "y = df_model['Global_Sales']"
   ]
  },
  {
   "cell_type": "code",
   "execution_count": null,
   "metadata": {},
   "outputs": [],
   "source": [
    "categorical_columns = ['Platform', 'Genre', 'Publisher']\n",
    "numerical_columns = ['Critic_Score']"
   ]
  },
  {
   "cell_type": "code",
   "execution_count": null,
   "metadata": {},
   "outputs": [],
   "source": [
    "features = ColumnTransformer([('categorical', OneHotEncoder(), categorical_columns),\n",
    "                              ('numerical', StandardScaler(), numerical_columns)])"
   ]
  },
  {
   "cell_type": "code",
   "execution_count": null,
   "metadata": {
    "scrolled": true
   },
   "outputs": [],
   "source": [
    "# Main model for interactive webapp\n",
    "# Linear regression without cross-validation\n",
    "lr = LinearRegression()\n",
    "pipe_lr = Pipeline([\n",
    "    ('features', features),\n",
    "    ('estimator', lr)\n",
    "])\n",
    "\n",
    "pipe_lr.fit(X, y)\n",
    "y_pred_lr = pipe_lr.predict(X)\n",
    "# The mean squared error\n",
    "print('Mean squared error: %.2f'\n",
    "      % mean_squared_error(y, y_pred_lr))\n",
    "# The r2 score\n",
    "print('R2 Score: %.2f'\n",
    "      % r2_score(y, y_pred_lr))"
   ]
  },
  {
   "cell_type": "code",
   "execution_count": null,
   "metadata": {},
   "outputs": [],
   "source": [
    "# Next let's try Ridge regression without cross-validation\n",
    "ridge = Ridge()\n",
    "pipe_ridge = Pipeline([\n",
    "    ('features', features),\n",
    "    ('estimator', ridge)\n",
    "])\n",
    "\n",
    "pipe_ridge.fit(X, y)\n",
    "y_pred_ridge = pipe_ridge.predict(X)\n",
    "# The mean squared error\n",
    "print('Mean squared error: %.2f'\n",
    "      % mean_squared_error(y, y_pred_ridge))\n",
    "# The r2 score\n",
    "print('R2 Score: %.2f'\n",
    "      % r2_score(y, y_pred_ridge))"
   ]
  },
  {
   "cell_type": "code",
   "execution_count": null,
   "metadata": {},
   "outputs": [],
   "source": [
    "# Ridge regression with cross-validation\n",
    "X_new = features.fit_transform(X,y)\n",
    "gs_ridge = GridSearchCV(\n",
    "                ridge,\n",
    "                {\"alpha\": np.arange(0, 15, 0.1)},  # range of hyperparameters to test\n",
    "                cv=10,  # 10-fold cross validation\n",
    "                n_jobs=2,  # run each hyperparameter in one of two parallel jobs\n",
    ")\n",
    "gs_ridge.fit(X_new, y)\n",
    "y_pred_ridge_gs = gs_ridge.predict(X_new)\n",
    "# The mean squared error\n",
    "print('Mean squared error: %.2f'\n",
    "      % mean_squared_error(y, y_pred_ridge_gs))\n",
    "# The r2 score\n",
    "print('R2 Score: %.2f'\n",
    "      % r2_score(y, y_pred_ridge_gs))"
   ]
  },
  {
   "cell_type": "code",
   "execution_count": null,
   "metadata": {},
   "outputs": [],
   "source": [
    "gs_ridge.best_params_"
   ]
  },
  {
   "cell_type": "code",
   "execution_count": null,
   "metadata": {},
   "outputs": [],
   "source": [
    "y_pred_ridge_gs"
   ]
  },
  {
   "cell_type": "code",
   "execution_count": null,
   "metadata": {},
   "outputs": [],
   "source": [
    "# RandomForest regression without cross-validation\n",
    "rf = RandomForestRegressor()\n",
    "pipe_rf = Pipeline([\n",
    "    ('features', features),\n",
    "    ('estimator', rf)\n",
    "])\n",
    "\n",
    "pipe_rf.fit(X, y)\n",
    "y_pred_rf = pipe_rf.predict(X)\n",
    "# The mean squared error\n",
    "print('Mean squared error: %.2f'\n",
    "      % mean_squared_error(y, y_pred_rf))\n",
    "# The r2 score\n",
    "print('R2 Score: %.2f'\n",
    "      % r2_score(y, y_pred_rf))"
   ]
  },
  {
   "cell_type": "code",
   "execution_count": null,
   "metadata": {
    "scrolled": true
   },
   "outputs": [],
   "source": [
    "# Testing model prediction by user input\n",
    "data = pd.DataFrame([('PS4', 'Shooter', 'Activision', 8)], columns = ['Platform' , 'Genre', 'Publisher' , 'Critic_Score'])"
   ]
  },
  {
   "cell_type": "code",
   "execution_count": null,
   "metadata": {},
   "outputs": [],
   "source": [
    "data"
   ]
  },
  {
   "cell_type": "code",
   "execution_count": null,
   "metadata": {},
   "outputs": [],
   "source": [
    "# Save predictive_model\n",
    "pickle.dump(pipe_rf, open('predictive_model.sav', 'wb'))"
   ]
  },
  {
   "cell_type": "code",
   "execution_count": null,
   "metadata": {},
   "outputs": [],
   "source": [
    "pipe_rf = pickle.load(open('predictive_model.sav', 'rb'))"
   ]
  },
  {
   "cell_type": "code",
   "execution_count": null,
   "metadata": {},
   "outputs": [],
   "source": [
    "# Results in millions\n",
    "pipe_rf.predict(data)"
   ]
  },
  {
   "cell_type": "code",
   "execution_count": null,
   "metadata": {
    "scrolled": true
   },
   "outputs": [],
   "source": [
    "# RandomForest regression with cross-validation\n",
    "X_new = features.fit_transform(X,y)\n",
    "gs_rf = GridSearchCV(\n",
    "                rf,\n",
    "                {\"max_depth\": [50,60,70]},  # range of hyperparameters to test\n",
    "                cv=10,  # 10-fold cross validation\n",
    "                n_jobs=2,  # run each hyperparameter in one of two parallel jobs\n",
    ")\n",
    "gs_rf.fit(X_new, y)\n",
    "y_pred_rf_gs = gs_rf.predict(X_new)\n",
    "# The mean squared error\n",
    "print('Mean squared error: %.2f'\n",
    "      % mean_squared_error(y, y_pred_rf_gs))\n",
    "# The r2 score\n",
    "print('R2 Score: %.2f'\n",
    "      % r2_score(y, y_pred_rf_gs))"
   ]
  },
  {
   "cell_type": "code",
   "execution_count": null,
   "metadata": {},
   "outputs": [],
   "source": [
    "gs_rf.best_params_"
   ]
  },
  {
   "cell_type": "code",
   "execution_count": null,
   "metadata": {},
   "outputs": [],
   "source": [
    "# Save best_predictive_model\n",
    "pickle.dump(gs_rf, open('best_predictive_model.sav', 'wb'))"
   ]
  },
  {
   "cell_type": "code",
   "execution_count": null,
   "metadata": {},
   "outputs": [],
   "source": [
    "gs_rf = pickle.load(open('best_predictive_model.sav', 'rb'))"
   ]
  },
  {
   "cell_type": "markdown",
   "metadata": {},
   "source": [
    "From LinearRegression, RidgeRegression to RandomForestRegressor, there is a noticeable improvement in model performance. Since the results from RandomForestRegressor with or without cross-validation are the same, I will simply use the former as my predictive model. Some additional thoughts, instead of using OneHotEncoding, What if I use Label Encoding with respect to certain hiearchy."
   ]
  },
  {
   "cell_type": "code",
   "execution_count": null,
   "metadata": {},
   "outputs": [],
   "source": [
    "# df_platform = df_model.groupby(['Platform'])['Global_Sales'].sum().sort_values().index"
   ]
  },
  {
   "cell_type": "code",
   "execution_count": null,
   "metadata": {},
   "outputs": [],
   "source": [
    "# df_genre = df_model.groupby(['Genre'])['Global_Sales'].sum().sort_values().index"
   ]
  },
  {
   "cell_type": "code",
   "execution_count": null,
   "metadata": {},
   "outputs": [],
   "source": [
    "# df_publisher = df_model.groupby(['Publisher'])['Global_Sales'].sum().sort_values().index"
   ]
  },
  {
   "cell_type": "code",
   "execution_count": null,
   "metadata": {},
   "outputs": [],
   "source": [
    "# # LabelEncoding with respect to chosen order\n",
    "# class LabelEncoder(LabelEncoder):\n",
    "\n",
    "#     def fit(self, y):\n",
    "#         y = column_or_1d(y, warn=True)\n",
    "#         self.classes_ = pd.Series(y).unique()\n",
    "#         return self"
   ]
  },
  {
   "cell_type": "code",
   "execution_count": null,
   "metadata": {},
   "outputs": [],
   "source": [
    "# le = LabelEncoder()"
   ]
  },
  {
   "cell_type": "code",
   "execution_count": null,
   "metadata": {},
   "outputs": [],
   "source": [
    "# le_platform = le.fit(df_platform)\n",
    "# le_platform.classes_"
   ]
  },
  {
   "cell_type": "code",
   "execution_count": null,
   "metadata": {},
   "outputs": [],
   "source": [
    "# c1 = le_platform.transform(df_model['Platform'])\n",
    "# df_model_new = pd.DataFrame()\n",
    "# df_model_new['Platform'] = c1"
   ]
  },
  {
   "cell_type": "code",
   "execution_count": null,
   "metadata": {},
   "outputs": [],
   "source": [
    "# le_genre = le.fit(df_genre)\n",
    "# le_genre.classes_"
   ]
  },
  {
   "cell_type": "code",
   "execution_count": null,
   "metadata": {},
   "outputs": [],
   "source": [
    "# c2 = le_genre.transform(df_model['Genre'])\n",
    "# df_model_new['Genre'] = c2"
   ]
  },
  {
   "cell_type": "code",
   "execution_count": null,
   "metadata": {
    "scrolled": true
   },
   "outputs": [],
   "source": [
    "# le_publisher = le.fit(df_publisher)\n",
    "# le_publisher.classes_"
   ]
  },
  {
   "cell_type": "code",
   "execution_count": null,
   "metadata": {},
   "outputs": [],
   "source": [
    "# c3 = le_publisher.transform(df_model['Publisher'])\n",
    "# df_model_new['Publisher'] = c3"
   ]
  },
  {
   "cell_type": "code",
   "execution_count": null,
   "metadata": {},
   "outputs": [],
   "source": [
    "# df_model_new['Critic_Score'] = df_model['Critic_Score']\n",
    "# df_model_new['Global_Sales'] = df_model['Global_Sales']"
   ]
  },
  {
   "cell_type": "code",
   "execution_count": null,
   "metadata": {},
   "outputs": [],
   "source": [
    "# # This is the final dataframe for modeling\n",
    "# df_model_new.head()"
   ]
  },
  {
   "cell_type": "code",
   "execution_count": null,
   "metadata": {},
   "outputs": [],
   "source": [
    "# X_model = df_model_new.loc[:, : 'Critic_Score']\n",
    "# X_model = StandardScaler().fit_transform(X_model)"
   ]
  },
  {
   "cell_type": "code",
   "execution_count": null,
   "metadata": {},
   "outputs": [],
   "source": [
    "# X_model"
   ]
  },
  {
   "cell_type": "code",
   "execution_count": null,
   "metadata": {},
   "outputs": [],
   "source": [
    "# y_model = df_model_new['Global_Sales']"
   ]
  },
  {
   "cell_type": "code",
   "execution_count": null,
   "metadata": {},
   "outputs": [],
   "source": [
    "# y_model.head()"
   ]
  },
  {
   "cell_type": "code",
   "execution_count": null,
   "metadata": {},
   "outputs": [],
   "source": [
    "# # New Linear regression without train-test-split and cross-validation\n",
    "# lr_est = LinearRegression()\n",
    "# lr_est.fit(X_model, y_model)\n",
    "# y_pred_lr_new = lr_est.predict(X_model)\n",
    "# # The mean squared error\n",
    "# print('Mean squared error: %.2f'\n",
    "#       % mean_squared_error(y_model, y_pred_lr_new))\n",
    "# # The r2 score\n",
    "# print('R2 Score: %.2f'\n",
    "#       % r2_score(y_model, y_pred_lr_new))"
   ]
  },
  {
   "cell_type": "code",
   "execution_count": null,
   "metadata": {},
   "outputs": [],
   "source": [
    "# X_train, X_test, y_train, y_test = train_test_split(X_model, y_model, test_size=0.25, random_state=42)\n",
    "# lr_est.fit(X_train, y_train)\n",
    "# y_pred_lr_new_split = lr_est.predict(X_test)\n",
    "# # The mean squared error\n",
    "# print('Mean squared error: %.2f'\n",
    "#       % mean_squared_error(y_test, y_pred_lr_new_split))\n",
    "# # The r2 score\n",
    "# print('R2 Score: %.2f'\n",
    "#       % r2_score(y_test, y_pred_lr_new_split))"
   ]
  },
  {
   "cell_type": "code",
   "execution_count": null,
   "metadata": {},
   "outputs": [],
   "source": [
    "# # New Ridge regression with train-split-test and cross-validation\n",
    "# gs_ridge_new = GridSearchCV(\n",
    "#                 ridge,\n",
    "#                 {\"alpha\": np.arange(0, 15, 0.1)},  # range of hyperparameters to test\n",
    "#                 cv=10,  # 10-fold cross validation\n",
    "#                 n_jobs=2,  # run each hyperparameter in one of two parallel jobs\n",
    "# )\n",
    "# gs_ridge_new.fit(X_train, y_train)\n",
    "# y_pred_ridge_gs_new = gs_ridge_new.predict(X_test)\n",
    "# # The mean squared error\n",
    "# print('Mean squared error: %.2f'\n",
    "#       % mean_squared_error(y_test, y_pred_ridge_gs_new))\n",
    "# # The r2 score\n",
    "# print('R2 Score: %.2f'\n",
    "#       % r2_score(y_test, y_pred_ridge_gs_new))"
   ]
  },
  {
   "cell_type": "code",
   "execution_count": null,
   "metadata": {},
   "outputs": [],
   "source": [
    "# gs_ridge_new.best_params_"
   ]
  },
  {
   "cell_type": "markdown",
   "metadata": {},
   "source": [
    "In summary, we have successfully predicted game global sales based on platform, genre, publisher and critic_score. As you can see above, the MSE is low as we would prefer. Ideally, top genre games and top publisher games will have bigger sales as well as popular platform games. I'm sure there is room for improvement in the model, this is yet to be explored. For now, this concludes the modeling and predicting."
   ]
  },
  {
   "cell_type": "markdown",
   "metadata": {},
   "source": [
    "#### Part 3. Building a gamne recommender system\n"
   ]
  },
  {
   "cell_type": "markdown",
   "metadata": {},
   "source": [
    "Now that we are done with business analytics, let's build a game recommender system for us consumers."
   ]
  },
  {
   "cell_type": "code",
   "execution_count": null,
   "metadata": {},
   "outputs": [],
   "source": [
    "# df4=pd.read_csv('https://raw.githubusercontent.com/dxljack/Gaming-Market-Exploration/master/Dataset/game%20descriptions.csv')"
   ]
  },
  {
   "cell_type": "code",
   "execution_count": null,
   "metadata": {},
   "outputs": [],
   "source": [
    "# df4 = df4[['name', 'desc_snippet']]"
   ]
  },
  {
   "cell_type": "code",
   "execution_count": null,
   "metadata": {},
   "outputs": [],
   "source": [
    "# df4['name'] = df4['name'].str.upper() "
   ]
  },
  {
   "cell_type": "code",
   "execution_count": null,
   "metadata": {},
   "outputs": [],
   "source": [
    "# # remove all non-ASCII characters\n",
    "# df4['name'] = df4['name'].str.encode('ascii', 'ignore').str.decode('ascii')"
   ]
  },
  {
   "cell_type": "code",
   "execution_count": null,
   "metadata": {
    "scrolled": true
   },
   "outputs": [],
   "source": [
    "# df4.head()"
   ]
  },
  {
   "cell_type": "code",
   "execution_count": null,
   "metadata": {
    "scrolled": true
   },
   "outputs": [],
   "source": [
    "# df4.info()"
   ]
  },
  {
   "cell_type": "code",
   "execution_count": null,
   "metadata": {},
   "outputs": [],
   "source": [
    "mask2 = (df3[\"Platform\"] == 'PS4') | (df3[\"Platform\"] == 'XOne') | (df3[\"Platform\"] == 'NS') | (df3[\"Platform\"] == 'PC')\n",
    "df_rec = df3.loc[mask2]"
   ]
  },
  {
   "cell_type": "code",
   "execution_count": null,
   "metadata": {},
   "outputs": [],
   "source": [
    "df_rec = df_rec[['Name', 'Platform', 'Genre', 'Publisher', 'Critic_Score', 'Year']]"
   ]
  },
  {
   "cell_type": "code",
   "execution_count": null,
   "metadata": {},
   "outputs": [],
   "source": [
    "df_rec.isnull().sum()"
   ]
  },
  {
   "cell_type": "code",
   "execution_count": null,
   "metadata": {},
   "outputs": [],
   "source": [
    "df_rec = df_rec.dropna(subset=['Year'])"
   ]
  },
  {
   "cell_type": "code",
   "execution_count": null,
   "metadata": {},
   "outputs": [],
   "source": [
    "# from sklearn.feature_extraction.text import TfidfVectorizer, CountVectorizer\n",
    "# from sklearn.metrics.pairwise import cosine_similarity\n",
    "# import nltk"
   ]
  },
  {
   "cell_type": "code",
   "execution_count": null,
   "metadata": {},
   "outputs": [],
   "source": [
    "df_rec['Critic_Score'] = df_rec['Critic_Score'].astype(int)\n",
    "df_rec['Year'] = df_rec['Year'].astype(int)"
   ]
  },
  {
   "cell_type": "code",
   "execution_count": null,
   "metadata": {
    "scrolled": true
   },
   "outputs": [],
   "source": [
    "df_rec['Critic_Score'] = df_rec['Critic_Score'].astype(str)\n",
    "df_rec['Year'] = df_rec['Year'].astype(str)"
   ]
  },
  {
   "cell_type": "code",
   "execution_count": null,
   "metadata": {},
   "outputs": [],
   "source": [
    "df_rec['Name'] = df_rec['Name'].str.upper() "
   ]
  },
  {
   "cell_type": "code",
   "execution_count": null,
   "metadata": {},
   "outputs": [],
   "source": [
    "# Remove quotations in game names\n",
    "df_rec['Name'] = df_rec['Name'].str.replace('\"','')"
   ]
  },
  {
   "cell_type": "code",
   "execution_count": null,
   "metadata": {},
   "outputs": [],
   "source": [
    "df_rec['Joined Column'] = df_rec[['Name', 'Genre', 'Publisher']].apply(lambda x: ', '.join(x), axis = 1)"
   ]
  },
  {
   "cell_type": "code",
   "execution_count": null,
   "metadata": {},
   "outputs": [],
   "source": [
    "df_rec.head()"
   ]
  },
  {
   "cell_type": "code",
   "execution_count": null,
   "metadata": {},
   "outputs": [],
   "source": [
    "# Save df_rec\n",
    "df_rec.to_pickle('recommender dataframe') "
   ]
  },
  {
   "cell_type": "code",
   "execution_count": null,
   "metadata": {},
   "outputs": [],
   "source": [
    "df_rec = pd.read_pickle('recommender dataframe')"
   ]
  },
  {
   "cell_type": "code",
   "execution_count": null,
   "metadata": {},
   "outputs": [],
   "source": [
    "# cv = CountVectorizer()\n",
    "# cv_matrix = cv.fit_transform(df_rec['Joined Column'])\n",
    "# cv_name = cv.get_feature_names()\n",
    "# cv_event = matrix.toarray()"
   ]
  },
  {
   "cell_type": "code",
   "execution_count": null,
   "metadata": {},
   "outputs": [],
   "source": [
    "# cosine_sim = cosine_similarity(cv_matrix, cv_matrix)\n",
    "# cosine_sim"
   ]
  },
  {
   "cell_type": "code",
   "execution_count": null,
   "metadata": {},
   "outputs": [],
   "source": [
    "# Compute jaccard similarity\n",
    "def get_jaccard_sim(str1, str2): \n",
    "    a = set(str1.split()) \n",
    "    b = set(str2.split())\n",
    "    c = a.intersection(b)\n",
    "    return float(len(c)) / (len(a) + len(b) - len(c))"
   ]
  },
  {
   "cell_type": "code",
   "execution_count": null,
   "metadata": {},
   "outputs": [],
   "source": [
    "# Recommend top 5 games\n",
    "def get_recommendation(name, platform):\n",
    "    df_rec1 = df_rec[['Name', 'Platform', 'Joined Column']]\n",
    "    df_rec_final = df_rec1[df_rec1['Platform'] == platform]\n",
    "    df_rec_final = df_rec_final[['Name', 'Joined Column']]\n",
    "    game_desc = df_rec_final.groupby('Name')['Joined Column'].apply(list).to_dict() # Convert dataframe to dictionary\n",
    "    rec_dict = {}\n",
    "    for k in game_desc.keys():\n",
    "        rec_dict[k] = get_jaccard_sim(game_desc[name][0], game_desc[k][0])\n",
    "    sort_dict = sorted(rec_dict.items(), key=lambda x: x[1], reverse=True)\n",
    "    return [tuple[0] for tuple in sort_dict[1:6]]"
   ]
  },
  {
   "cell_type": "code",
   "execution_count": null,
   "metadata": {},
   "outputs": [],
   "source": [
    "get_recommendation('GRAND THEFT AUTO V', 'PC')"
   ]
  },
  {
   "cell_type": "code",
   "execution_count": null,
   "metadata": {},
   "outputs": [],
   "source": [
    "# # combine rows with same game name and join strings\n",
    "# df_rec['Platform'] = df_rec.groupby(['Name', 'Genre'])['Platform'].transform(lambda x : ', '.join(x))"
   ]
  },
  {
   "cell_type": "code",
   "execution_count": null,
   "metadata": {},
   "outputs": [],
   "source": [
    "# df_rec = df_rec.drop_duplicates('Name')"
   ]
  },
  {
   "cell_type": "code",
   "execution_count": null,
   "metadata": {},
   "outputs": [],
   "source": [
    "# df_4_rec = df_rec.merge(df4, how='outer', left_on='Name', right_on='name')"
   ]
  },
  {
   "cell_type": "code",
   "execution_count": null,
   "metadata": {},
   "outputs": [],
   "source": [
    "# df_4_rec = df_4_rec[['Name', 'Platform', 'Genre', 'Publisher', 'Critic_Score', 'Year', 'desc_snippet']]"
   ]
  },
  {
   "cell_type": "code",
   "execution_count": null,
   "metadata": {},
   "outputs": [],
   "source": [
    "# df_4_rec = df_4_rec.astype(str)"
   ]
  },
  {
   "cell_type": "code",
   "execution_count": null,
   "metadata": {},
   "outputs": [],
   "source": [
    "# df_4_rec = df_4_rec[df_4_rec['Name'] !='nan']\n",
    "# df_4_rec = df_4_rec[df_4_rec['desc_snippet'] !='nan']"
   ]
  },
  {
   "cell_type": "code",
   "execution_count": null,
   "metadata": {
    "scrolled": false
   },
   "outputs": [],
   "source": [
    "# df_4_rec.info()"
   ]
  },
  {
   "cell_type": "code",
   "execution_count": null,
   "metadata": {},
   "outputs": [],
   "source": [
    "# # convert Critic_Score and Year into string \n",
    "# # Combine columns into one using join\n",
    "# df_4_rec['Joined Column'] = df_4_rec[['Platform', 'Genre', 'Publisher', 'Year', 'desc_snippet']].apply(lambda x: ', '.join(x), axis = 1)"
   ]
  },
  {
   "cell_type": "code",
   "execution_count": null,
   "metadata": {
    "scrolled": true
   },
   "outputs": [],
   "source": [
    "# df_4_rec.head()"
   ]
  },
  {
   "cell_type": "code",
   "execution_count": null,
   "metadata": {},
   "outputs": [],
   "source": [
    "# df_4_rec.info()"
   ]
  },
  {
   "cell_type": "code",
   "execution_count": null,
   "metadata": {},
   "outputs": [],
   "source": [
    "# df_4_rec['Name']"
   ]
  },
  {
   "cell_type": "code",
   "execution_count": null,
   "metadata": {},
   "outputs": [],
   "source": [
    "# tfv = TfidfVectorizer()\n",
    "# tfv_matrix = tfv.fit_transform(df_4_rec['Joined Column'])"
   ]
  },
  {
   "cell_type": "code",
   "execution_count": null,
   "metadata": {},
   "outputs": [],
   "source": [
    "# tfv_matrix.shape"
   ]
  },
  {
   "cell_type": "code",
   "execution_count": null,
   "metadata": {},
   "outputs": [],
   "source": [
    "# cosine_sim = cosine_similarity(tfv_matrix, tfv_matrix)"
   ]
  },
  {
   "cell_type": "code",
   "execution_count": null,
   "metadata": {},
   "outputs": [],
   "source": [
    "# cosine_sim.shape"
   ]
  },
  {
   "cell_type": "code",
   "execution_count": null,
   "metadata": {},
   "outputs": [],
   "source": [
    "# #Construct a reverse map of indices and game names\n",
    "# indices = pd.Series(df_4_rec.index, index=df_4_rec['Name']).drop_duplicates()"
   ]
  },
  {
   "cell_type": "code",
   "execution_count": null,
   "metadata": {
    "scrolled": true
   },
   "outputs": [],
   "source": [
    "# indices[:10]"
   ]
  },
  {
   "cell_type": "code",
   "execution_count": null,
   "metadata": {},
   "outputs": [],
   "source": [
    "# # Defining the function that takes in game name as input and returns the top 5 recommended games\n",
    "# def get_recommendations(name, cosine_sim = cosine_sim):\n",
    "    \n",
    "#     # Get the index of the game that matches the name\n",
    "#     idx = indices[name]\n",
    "\n",
    "#     # Get the pairwsie similarity scores of all games with that game\n",
    "#     sim_scores = list(enumerate(cosine_sim[idx]))\n",
    "\n",
    "#     # Sort the games based on the similarity scores\n",
    "#     sim_scores = sorted(sim_scores, key=lambda x: x[1], reverse=True)\n",
    "\n",
    "#     # Get the scores of the 5 most similar games\n",
    "#     sim_scores = sim_scores[1:11]\n",
    "\n",
    "#     # Get the game indices\n",
    "#     game_indices = [i[0] for i in sim_scores]\n",
    "\n",
    "#     # Return the top 5 recommended games\n",
    "#     return df_4_rec['Name'].iloc[game_indices]"
   ]
  },
  {
   "cell_type": "code",
   "execution_count": null,
   "metadata": {},
   "outputs": [],
   "source": [
    "# get_recommendations(\"CALL OF DUTY: WWII\")"
   ]
  }
 ],
 "metadata": {
  "kernelspec": {
   "display_name": "Python 3",
   "language": "python",
   "name": "python3"
  },
  "language_info": {
   "codemirror_mode": {
    "name": "ipython",
    "version": 3
   },
   "file_extension": ".py",
   "mimetype": "text/x-python",
   "name": "python",
   "nbconvert_exporter": "python",
   "pygments_lexer": "ipython3",
   "version": "3.7.4"
  }
 },
 "nbformat": 4,
 "nbformat_minor": 2
}

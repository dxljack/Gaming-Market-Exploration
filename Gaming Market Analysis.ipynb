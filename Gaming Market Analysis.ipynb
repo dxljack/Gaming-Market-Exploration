{
 "cells": [
  {
   "cell_type": "markdown",
   "metadata": {},
   "source": [
    "As the launch of next generation gaming console around the corner, I think that it is nice to have an overview on the entire gaming market. I also want to have a deep analysis on how well the current generation consoles are doing, namely PS4 vs Xbox One.\n",
    "\n",
    "This project is for gamers who are interested in gaming on the more popular platform and for developers who want to continue putting resources on current generation consoles. This analysis will offer insights on which platform has stronger player base and which platform sells more copies of games, as well as what kind of impact the current generation consoles could possibly have on the next generation consoles."
   ]
  },
  {
   "cell_type": "markdown",
   "metadata": {},
   "source": [
    "#### Part 1: Analysis of gaming market in general"
   ]
  },
  {
   "cell_type": "code",
   "execution_count": 1,
   "metadata": {},
   "outputs": [],
   "source": [
    "import pandas as pd\n",
    "pd.options.mode.chained_assignment = None\n",
    "import matplotlib.pyplot as plt\n",
    "from matplotlib.pyplot import *\n",
    "from wordcloud import WordCloud\n",
    "import seaborn as sns\n",
    "import networkx as nx\n",
    "\n",
    "import pickle\n",
    "import sklearn\n",
    "from sklearn.preprocessing import StandardScaler, OneHotEncoder, LabelEncoder, OrdinalEncoder\n",
    "from sklearn.utils import column_or_1d\n",
    "from sklearn.compose import ColumnTransformer\n",
    "from sklearn.pipeline import Pipeline\n",
    "from sklearn.linear_model import LinearRegression, Ridge\n",
    "from sklearn.ensemble import RandomForestRegressor\n",
    "from sklearn.model_selection import GridSearchCV, train_test_split\n",
    "from sklearn.metrics import mean_squared_error, r2_score\n",
    "from sklearn.feature_extraction.text import TfidfVectorizer\n",
    "from sklearn.metrics.pairwise import cosine_similarity\n",
    "\n",
    "from bokeh.io import output_file, show\n",
    "from bokeh.models import ColumnDataSource, Legend\n",
    "from bokeh.palettes import Category20\n",
    "from bokeh.plotting import figure\n",
    "from bokeh.models import CustomJS, Dropdown, Select\n",
    "from bokeh.embed import components\n",
    "from bokeh.io import export_png"
   ]
  },
  {
   "cell_type": "code",
   "execution_count": 2,
   "metadata": {},
   "outputs": [],
   "source": [
    "df1=pd.read_csv('https://raw.githubusercontent.com/dxljack/Gaming-Market-Exploration/master/Dataset/Hardware%20Yearly%20Sales.csv')"
   ]
  },
  {
   "cell_type": "code",
   "execution_count": 3,
   "metadata": {},
   "outputs": [
    {
     "data": {
      "text/html": [
       "<div>\n",
       "<style scoped>\n",
       "    .dataframe tbody tr th:only-of-type {\n",
       "        vertical-align: middle;\n",
       "    }\n",
       "\n",
       "    .dataframe tbody tr th {\n",
       "        vertical-align: top;\n",
       "    }\n",
       "\n",
       "    .dataframe thead th {\n",
       "        text-align: right;\n",
       "    }\n",
       "</style>\n",
       "<table border=\"1\" class=\"dataframe\">\n",
       "  <thead>\n",
       "    <tr style=\"text-align: right;\">\n",
       "      <th></th>\n",
       "      <th>Year</th>\n",
       "      <th>PS4</th>\n",
       "      <th>XOne</th>\n",
       "      <th>NS</th>\n",
       "    </tr>\n",
       "  </thead>\n",
       "  <tbody>\n",
       "    <tr>\n",
       "      <th>0</th>\n",
       "      <td>2013</td>\n",
       "      <td>4430139</td>\n",
       "      <td>3075770</td>\n",
       "      <td>0</td>\n",
       "    </tr>\n",
       "    <tr>\n",
       "      <th>1</th>\n",
       "      <td>2014</td>\n",
       "      <td>14560282</td>\n",
       "      <td>7908581</td>\n",
       "      <td>0</td>\n",
       "    </tr>\n",
       "    <tr>\n",
       "      <th>2</th>\n",
       "      <td>2015</td>\n",
       "      <td>17510227</td>\n",
       "      <td>8631257</td>\n",
       "      <td>0</td>\n",
       "    </tr>\n",
       "    <tr>\n",
       "      <th>3</th>\n",
       "      <td>2016</td>\n",
       "      <td>17590843</td>\n",
       "      <td>8368621</td>\n",
       "      <td>0</td>\n",
       "    </tr>\n",
       "    <tr>\n",
       "      <th>4</th>\n",
       "      <td>2017</td>\n",
       "      <td>19808528</td>\n",
       "      <td>7644053</td>\n",
       "      <td>13116268</td>\n",
       "    </tr>\n",
       "  </tbody>\n",
       "</table>\n",
       "</div>"
      ],
      "text/plain": [
       "   Year       PS4     XOne        NS\n",
       "0  2013   4430139  3075770         0\n",
       "1  2014  14560282  7908581         0\n",
       "2  2015  17510227  8631257         0\n",
       "3  2016  17590843  8368621         0\n",
       "4  2017  19808528  7644053  13116268"
      ]
     },
     "execution_count": 3,
     "metadata": {},
     "output_type": "execute_result"
    }
   ],
   "source": [
    "df1.head()"
   ]
  },
  {
   "cell_type": "code",
   "execution_count": 4,
   "metadata": {},
   "outputs": [],
   "source": [
    "df2=pd.read_csv('https://raw.githubusercontent.com/dxljack/Gaming-Market-Exploration/master/Dataset/Hardware%20Total%20Sales.csv')"
   ]
  },
  {
   "cell_type": "code",
   "execution_count": 5,
   "metadata": {},
   "outputs": [
    {
     "data": {
      "text/html": [
       "<div>\n",
       "<style scoped>\n",
       "    .dataframe tbody tr th:only-of-type {\n",
       "        vertical-align: middle;\n",
       "    }\n",
       "\n",
       "    .dataframe tbody tr th {\n",
       "        vertical-align: top;\n",
       "    }\n",
       "\n",
       "    .dataframe thead th {\n",
       "        text-align: right;\n",
       "    }\n",
       "</style>\n",
       "<table border=\"1\" class=\"dataframe\">\n",
       "  <thead>\n",
       "    <tr style=\"text-align: right;\">\n",
       "      <th></th>\n",
       "      <th>Year</th>\n",
       "      <th>PS4</th>\n",
       "      <th>XOne</th>\n",
       "      <th>NS</th>\n",
       "    </tr>\n",
       "  </thead>\n",
       "  <tbody>\n",
       "    <tr>\n",
       "      <th>0</th>\n",
       "      <td>2013</td>\n",
       "      <td>4430139</td>\n",
       "      <td>3075770</td>\n",
       "      <td>0</td>\n",
       "    </tr>\n",
       "    <tr>\n",
       "      <th>1</th>\n",
       "      <td>2014</td>\n",
       "      <td>19045310</td>\n",
       "      <td>10984351</td>\n",
       "      <td>0</td>\n",
       "    </tr>\n",
       "    <tr>\n",
       "      <th>2</th>\n",
       "      <td>2015</td>\n",
       "      <td>36667145</td>\n",
       "      <td>19640765</td>\n",
       "      <td>0</td>\n",
       "    </tr>\n",
       "    <tr>\n",
       "      <th>3</th>\n",
       "      <td>2016</td>\n",
       "      <td>53490988</td>\n",
       "      <td>27924386</td>\n",
       "      <td>0</td>\n",
       "    </tr>\n",
       "    <tr>\n",
       "      <th>4</th>\n",
       "      <td>2017</td>\n",
       "      <td>73528627</td>\n",
       "      <td>34306680</td>\n",
       "      <td>13116268</td>\n",
       "    </tr>\n",
       "  </tbody>\n",
       "</table>\n",
       "</div>"
      ],
      "text/plain": [
       "   Year       PS4      XOne        NS\n",
       "0  2013   4430139   3075770         0\n",
       "1  2014  19045310  10984351         0\n",
       "2  2015  36667145  19640765         0\n",
       "3  2016  53490988  27924386         0\n",
       "4  2017  73528627  34306680  13116268"
      ]
     },
     "execution_count": 5,
     "metadata": {},
     "output_type": "execute_result"
    }
   ],
   "source": [
    "df2.head()"
   ]
  },
  {
   "cell_type": "code",
   "execution_count": 6,
   "metadata": {},
   "outputs": [],
   "source": [
    "df3=pd.read_csv('https://raw.githubusercontent.com/dxljack/Gaming-Market-Exploration/master/Dataset/vgsales-12-4-2019-short.csv')"
   ]
  },
  {
   "cell_type": "code",
   "execution_count": 7,
   "metadata": {},
   "outputs": [
    {
     "data": {
      "text/html": [
       "<div>\n",
       "<style scoped>\n",
       "    .dataframe tbody tr th:only-of-type {\n",
       "        vertical-align: middle;\n",
       "    }\n",
       "\n",
       "    .dataframe tbody tr th {\n",
       "        vertical-align: top;\n",
       "    }\n",
       "\n",
       "    .dataframe thead th {\n",
       "        text-align: right;\n",
       "    }\n",
       "</style>\n",
       "<table border=\"1\" class=\"dataframe\">\n",
       "  <thead>\n",
       "    <tr style=\"text-align: right;\">\n",
       "      <th></th>\n",
       "      <th>Rank</th>\n",
       "      <th>Name</th>\n",
       "      <th>Genre</th>\n",
       "      <th>ESRB_Rating</th>\n",
       "      <th>Platform</th>\n",
       "      <th>Publisher</th>\n",
       "      <th>Developer</th>\n",
       "      <th>Critic_Score</th>\n",
       "      <th>User_Score</th>\n",
       "      <th>Total_Shipped</th>\n",
       "      <th>Global_Sales</th>\n",
       "      <th>NA_Sales</th>\n",
       "      <th>PAL_Sales</th>\n",
       "      <th>JP_Sales</th>\n",
       "      <th>Other_Sales</th>\n",
       "      <th>Year</th>\n",
       "    </tr>\n",
       "  </thead>\n",
       "  <tbody>\n",
       "    <tr>\n",
       "      <th>0</th>\n",
       "      <td>1</td>\n",
       "      <td>Wii Sports</td>\n",
       "      <td>Sports</td>\n",
       "      <td>E</td>\n",
       "      <td>Wii</td>\n",
       "      <td>Nintendo</td>\n",
       "      <td>Nintendo EAD</td>\n",
       "      <td>7.7</td>\n",
       "      <td>NaN</td>\n",
       "      <td>82.86</td>\n",
       "      <td>NaN</td>\n",
       "      <td>NaN</td>\n",
       "      <td>NaN</td>\n",
       "      <td>NaN</td>\n",
       "      <td>NaN</td>\n",
       "      <td>2006.0</td>\n",
       "    </tr>\n",
       "    <tr>\n",
       "      <th>1</th>\n",
       "      <td>2</td>\n",
       "      <td>Super Mario Bros.</td>\n",
       "      <td>Platform</td>\n",
       "      <td>NaN</td>\n",
       "      <td>NES</td>\n",
       "      <td>Nintendo</td>\n",
       "      <td>Nintendo EAD</td>\n",
       "      <td>10.0</td>\n",
       "      <td>NaN</td>\n",
       "      <td>40.24</td>\n",
       "      <td>NaN</td>\n",
       "      <td>NaN</td>\n",
       "      <td>NaN</td>\n",
       "      <td>NaN</td>\n",
       "      <td>NaN</td>\n",
       "      <td>1985.0</td>\n",
       "    </tr>\n",
       "    <tr>\n",
       "      <th>2</th>\n",
       "      <td>3</td>\n",
       "      <td>Mario Kart Wii</td>\n",
       "      <td>Racing</td>\n",
       "      <td>E</td>\n",
       "      <td>Wii</td>\n",
       "      <td>Nintendo</td>\n",
       "      <td>Nintendo EAD</td>\n",
       "      <td>8.2</td>\n",
       "      <td>9.1</td>\n",
       "      <td>37.14</td>\n",
       "      <td>NaN</td>\n",
       "      <td>NaN</td>\n",
       "      <td>NaN</td>\n",
       "      <td>NaN</td>\n",
       "      <td>NaN</td>\n",
       "      <td>2008.0</td>\n",
       "    </tr>\n",
       "    <tr>\n",
       "      <th>3</th>\n",
       "      <td>4</td>\n",
       "      <td>PlayerUnknown's Battlegrounds</td>\n",
       "      <td>Shooter</td>\n",
       "      <td>NaN</td>\n",
       "      <td>PC</td>\n",
       "      <td>PUBG Corporation</td>\n",
       "      <td>PUBG Corporation</td>\n",
       "      <td>NaN</td>\n",
       "      <td>NaN</td>\n",
       "      <td>36.60</td>\n",
       "      <td>NaN</td>\n",
       "      <td>NaN</td>\n",
       "      <td>NaN</td>\n",
       "      <td>NaN</td>\n",
       "      <td>NaN</td>\n",
       "      <td>2017.0</td>\n",
       "    </tr>\n",
       "    <tr>\n",
       "      <th>4</th>\n",
       "      <td>5</td>\n",
       "      <td>Wii Sports Resort</td>\n",
       "      <td>Sports</td>\n",
       "      <td>E</td>\n",
       "      <td>Wii</td>\n",
       "      <td>Nintendo</td>\n",
       "      <td>Nintendo EAD</td>\n",
       "      <td>8.0</td>\n",
       "      <td>8.8</td>\n",
       "      <td>33.09</td>\n",
       "      <td>NaN</td>\n",
       "      <td>NaN</td>\n",
       "      <td>NaN</td>\n",
       "      <td>NaN</td>\n",
       "      <td>NaN</td>\n",
       "      <td>2009.0</td>\n",
       "    </tr>\n",
       "  </tbody>\n",
       "</table>\n",
       "</div>"
      ],
      "text/plain": [
       "   Rank                           Name     Genre ESRB_Rating Platform  \\\n",
       "0     1                     Wii Sports    Sports           E      Wii   \n",
       "1     2              Super Mario Bros.  Platform         NaN      NES   \n",
       "2     3                 Mario Kart Wii    Racing           E      Wii   \n",
       "3     4  PlayerUnknown's Battlegrounds   Shooter         NaN       PC   \n",
       "4     5              Wii Sports Resort    Sports           E      Wii   \n",
       "\n",
       "          Publisher         Developer  Critic_Score  User_Score  \\\n",
       "0          Nintendo      Nintendo EAD           7.7         NaN   \n",
       "1          Nintendo      Nintendo EAD          10.0         NaN   \n",
       "2          Nintendo      Nintendo EAD           8.2         9.1   \n",
       "3  PUBG Corporation  PUBG Corporation           NaN         NaN   \n",
       "4          Nintendo      Nintendo EAD           8.0         8.8   \n",
       "\n",
       "   Total_Shipped  Global_Sales  NA_Sales  PAL_Sales  JP_Sales  Other_Sales  \\\n",
       "0          82.86           NaN       NaN        NaN       NaN          NaN   \n",
       "1          40.24           NaN       NaN        NaN       NaN          NaN   \n",
       "2          37.14           NaN       NaN        NaN       NaN          NaN   \n",
       "3          36.60           NaN       NaN        NaN       NaN          NaN   \n",
       "4          33.09           NaN       NaN        NaN       NaN          NaN   \n",
       "\n",
       "     Year  \n",
       "0  2006.0  \n",
       "1  1985.0  \n",
       "2  2008.0  \n",
       "3  2017.0  \n",
       "4  2009.0  "
      ]
     },
     "execution_count": 7,
     "metadata": {},
     "output_type": "execute_result"
    }
   ],
   "source": [
    "df3.head()"
   ]
  },
  {
   "cell_type": "markdown",
   "metadata": {},
   "source": [
    "Because we really only care about Global_Sales, I will replace missing value in Global_Sales with Total_Shipped. Next, I will also replace missing values in Critic_Score with User_Score."
   ]
  },
  {
   "cell_type": "code",
   "execution_count": 8,
   "metadata": {},
   "outputs": [],
   "source": [
    "df3[\"Global_Sales\"] = df3[\"Global_Sales\"].fillna(df3[\"Total_Shipped\"])"
   ]
  },
  {
   "cell_type": "code",
   "execution_count": 9,
   "metadata": {},
   "outputs": [],
   "source": [
    "df3[\"Critic_Score\"] = df3[\"Critic_Score\"].fillna(df3[\"User_Score\"])"
   ]
  },
  {
   "cell_type": "code",
   "execution_count": 10,
   "metadata": {},
   "outputs": [],
   "source": [
    "# fill in missing values in Global_Sales with mean value of each genre.\n",
    "df3['Global_Sales'] = df3['Global_Sales'].fillna(df3.groupby('Genre')['Global_Sales'].transform('mean'))"
   ]
  },
  {
   "cell_type": "code",
   "execution_count": 11,
   "metadata": {},
   "outputs": [],
   "source": [
    "# fill in missing values in Critic_Score with mean value of each genre.\n",
    "df3['Critic_Score'] = df3['Critic_Score'].fillna(df3.groupby('Genre')['Critic_Score'].transform('mean'))"
   ]
  },
  {
   "cell_type": "code",
   "execution_count": 12,
   "metadata": {},
   "outputs": [],
   "source": [
    "# round numerical values to 2 decimal places\n",
    "df3 = df3.round(2)"
   ]
  },
  {
   "cell_type": "code",
   "execution_count": 13,
   "metadata": {},
   "outputs": [
    {
     "data": {
      "text/html": [
       "<div>\n",
       "<style scoped>\n",
       "    .dataframe tbody tr th:only-of-type {\n",
       "        vertical-align: middle;\n",
       "    }\n",
       "\n",
       "    .dataframe tbody tr th {\n",
       "        vertical-align: top;\n",
       "    }\n",
       "\n",
       "    .dataframe thead th {\n",
       "        text-align: right;\n",
       "    }\n",
       "</style>\n",
       "<table border=\"1\" class=\"dataframe\">\n",
       "  <thead>\n",
       "    <tr style=\"text-align: right;\">\n",
       "      <th></th>\n",
       "      <th>Rank</th>\n",
       "      <th>Name</th>\n",
       "      <th>Genre</th>\n",
       "      <th>ESRB_Rating</th>\n",
       "      <th>Platform</th>\n",
       "      <th>Publisher</th>\n",
       "      <th>Developer</th>\n",
       "      <th>Critic_Score</th>\n",
       "      <th>User_Score</th>\n",
       "      <th>Total_Shipped</th>\n",
       "      <th>Global_Sales</th>\n",
       "      <th>NA_Sales</th>\n",
       "      <th>PAL_Sales</th>\n",
       "      <th>JP_Sales</th>\n",
       "      <th>Other_Sales</th>\n",
       "      <th>Year</th>\n",
       "    </tr>\n",
       "  </thead>\n",
       "  <tbody>\n",
       "    <tr>\n",
       "      <th>0</th>\n",
       "      <td>1</td>\n",
       "      <td>Wii Sports</td>\n",
       "      <td>Sports</td>\n",
       "      <td>E</td>\n",
       "      <td>Wii</td>\n",
       "      <td>Nintendo</td>\n",
       "      <td>Nintendo EAD</td>\n",
       "      <td>7.70</td>\n",
       "      <td>NaN</td>\n",
       "      <td>82.86</td>\n",
       "      <td>82.86</td>\n",
       "      <td>NaN</td>\n",
       "      <td>NaN</td>\n",
       "      <td>NaN</td>\n",
       "      <td>NaN</td>\n",
       "      <td>2006.0</td>\n",
       "    </tr>\n",
       "    <tr>\n",
       "      <th>1</th>\n",
       "      <td>2</td>\n",
       "      <td>Super Mario Bros.</td>\n",
       "      <td>Platform</td>\n",
       "      <td>NaN</td>\n",
       "      <td>NES</td>\n",
       "      <td>Nintendo</td>\n",
       "      <td>Nintendo EAD</td>\n",
       "      <td>10.00</td>\n",
       "      <td>NaN</td>\n",
       "      <td>40.24</td>\n",
       "      <td>40.24</td>\n",
       "      <td>NaN</td>\n",
       "      <td>NaN</td>\n",
       "      <td>NaN</td>\n",
       "      <td>NaN</td>\n",
       "      <td>1985.0</td>\n",
       "    </tr>\n",
       "    <tr>\n",
       "      <th>2</th>\n",
       "      <td>3</td>\n",
       "      <td>Mario Kart Wii</td>\n",
       "      <td>Racing</td>\n",
       "      <td>E</td>\n",
       "      <td>Wii</td>\n",
       "      <td>Nintendo</td>\n",
       "      <td>Nintendo EAD</td>\n",
       "      <td>8.20</td>\n",
       "      <td>9.1</td>\n",
       "      <td>37.14</td>\n",
       "      <td>37.14</td>\n",
       "      <td>NaN</td>\n",
       "      <td>NaN</td>\n",
       "      <td>NaN</td>\n",
       "      <td>NaN</td>\n",
       "      <td>2008.0</td>\n",
       "    </tr>\n",
       "    <tr>\n",
       "      <th>3</th>\n",
       "      <td>4</td>\n",
       "      <td>PlayerUnknown's Battlegrounds</td>\n",
       "      <td>Shooter</td>\n",
       "      <td>NaN</td>\n",
       "      <td>PC</td>\n",
       "      <td>PUBG Corporation</td>\n",
       "      <td>PUBG Corporation</td>\n",
       "      <td>7.28</td>\n",
       "      <td>NaN</td>\n",
       "      <td>36.60</td>\n",
       "      <td>36.60</td>\n",
       "      <td>NaN</td>\n",
       "      <td>NaN</td>\n",
       "      <td>NaN</td>\n",
       "      <td>NaN</td>\n",
       "      <td>2017.0</td>\n",
       "    </tr>\n",
       "    <tr>\n",
       "      <th>4</th>\n",
       "      <td>5</td>\n",
       "      <td>Wii Sports Resort</td>\n",
       "      <td>Sports</td>\n",
       "      <td>E</td>\n",
       "      <td>Wii</td>\n",
       "      <td>Nintendo</td>\n",
       "      <td>Nintendo EAD</td>\n",
       "      <td>8.00</td>\n",
       "      <td>8.8</td>\n",
       "      <td>33.09</td>\n",
       "      <td>33.09</td>\n",
       "      <td>NaN</td>\n",
       "      <td>NaN</td>\n",
       "      <td>NaN</td>\n",
       "      <td>NaN</td>\n",
       "      <td>2009.0</td>\n",
       "    </tr>\n",
       "  </tbody>\n",
       "</table>\n",
       "</div>"
      ],
      "text/plain": [
       "   Rank                           Name     Genre ESRB_Rating Platform  \\\n",
       "0     1                     Wii Sports    Sports           E      Wii   \n",
       "1     2              Super Mario Bros.  Platform         NaN      NES   \n",
       "2     3                 Mario Kart Wii    Racing           E      Wii   \n",
       "3     4  PlayerUnknown's Battlegrounds   Shooter         NaN       PC   \n",
       "4     5              Wii Sports Resort    Sports           E      Wii   \n",
       "\n",
       "          Publisher         Developer  Critic_Score  User_Score  \\\n",
       "0          Nintendo      Nintendo EAD          7.70         NaN   \n",
       "1          Nintendo      Nintendo EAD         10.00         NaN   \n",
       "2          Nintendo      Nintendo EAD          8.20         9.1   \n",
       "3  PUBG Corporation  PUBG Corporation          7.28         NaN   \n",
       "4          Nintendo      Nintendo EAD          8.00         8.8   \n",
       "\n",
       "   Total_Shipped  Global_Sales  NA_Sales  PAL_Sales  JP_Sales  Other_Sales  \\\n",
       "0          82.86         82.86       NaN        NaN       NaN          NaN   \n",
       "1          40.24         40.24       NaN        NaN       NaN          NaN   \n",
       "2          37.14         37.14       NaN        NaN       NaN          NaN   \n",
       "3          36.60         36.60       NaN        NaN       NaN          NaN   \n",
       "4          33.09         33.09       NaN        NaN       NaN          NaN   \n",
       "\n",
       "     Year  \n",
       "0  2006.0  \n",
       "1  1985.0  \n",
       "2  2008.0  \n",
       "3  2017.0  \n",
       "4  2009.0  "
      ]
     },
     "execution_count": 13,
     "metadata": {},
     "output_type": "execute_result"
    }
   ],
   "source": [
    "df3.head()"
   ]
  },
  {
   "cell_type": "code",
   "execution_count": 14,
   "metadata": {},
   "outputs": [
    {
     "data": {
      "text/plain": [
       "Rank                 0\n",
       "Name                 0\n",
       "Genre                0\n",
       "ESRB_Rating      32169\n",
       "Platform             0\n",
       "Publisher            0\n",
       "Developer           17\n",
       "Critic_Score         0\n",
       "User_Score       55457\n",
       "Total_Shipped    53965\n",
       "Global_Sales         0\n",
       "NA_Sales         42828\n",
       "PAL_Sales        42603\n",
       "JP_Sales         48749\n",
       "Other_Sales      40270\n",
       "Year               979\n",
       "dtype: int64"
      ]
     },
     "execution_count": 14,
     "metadata": {},
     "output_type": "execute_result"
    }
   ],
   "source": [
    "df3.isnull().sum()"
   ]
  },
  {
   "cell_type": "code",
   "execution_count": 15,
   "metadata": {},
   "outputs": [
    {
     "data": {
      "text/html": [
       "<div>\n",
       "<style scoped>\n",
       "    .dataframe tbody tr th:only-of-type {\n",
       "        vertical-align: middle;\n",
       "    }\n",
       "\n",
       "    .dataframe tbody tr th {\n",
       "        vertical-align: top;\n",
       "    }\n",
       "\n",
       "    .dataframe thead th {\n",
       "        text-align: right;\n",
       "    }\n",
       "</style>\n",
       "<table border=\"1\" class=\"dataframe\">\n",
       "  <thead>\n",
       "    <tr style=\"text-align: right;\">\n",
       "      <th></th>\n",
       "      <th>Rank</th>\n",
       "      <th>Critic_Score</th>\n",
       "      <th>User_Score</th>\n",
       "      <th>Total_Shipped</th>\n",
       "      <th>Global_Sales</th>\n",
       "      <th>NA_Sales</th>\n",
       "      <th>PAL_Sales</th>\n",
       "      <th>JP_Sales</th>\n",
       "      <th>Other_Sales</th>\n",
       "      <th>Year</th>\n",
       "    </tr>\n",
       "  </thead>\n",
       "  <tbody>\n",
       "    <tr>\n",
       "      <th>count</th>\n",
       "      <td>55792.000000</td>\n",
       "      <td>55792.000000</td>\n",
       "      <td>335.000000</td>\n",
       "      <td>1827.000000</td>\n",
       "      <td>55792.000000</td>\n",
       "      <td>12964.000000</td>\n",
       "      <td>13189.000000</td>\n",
       "      <td>7043.000000</td>\n",
       "      <td>15522.000000</td>\n",
       "      <td>54813.000000</td>\n",
       "    </tr>\n",
       "    <tr>\n",
       "      <th>mean</th>\n",
       "      <td>27896.500000</td>\n",
       "      <td>7.175042</td>\n",
       "      <td>8.253433</td>\n",
       "      <td>1.887258</td>\n",
       "      <td>0.484119</td>\n",
       "      <td>0.275541</td>\n",
       "      <td>0.155263</td>\n",
       "      <td>0.110402</td>\n",
       "      <td>0.044719</td>\n",
       "      <td>2005.659095</td>\n",
       "    </tr>\n",
       "    <tr>\n",
       "      <th>std</th>\n",
       "      <td>16105.907446</td>\n",
       "      <td>0.562451</td>\n",
       "      <td>1.401489</td>\n",
       "      <td>4.195693</td>\n",
       "      <td>0.953450</td>\n",
       "      <td>0.512809</td>\n",
       "      <td>0.399257</td>\n",
       "      <td>0.184673</td>\n",
       "      <td>0.129554</td>\n",
       "      <td>8.355585</td>\n",
       "    </tr>\n",
       "    <tr>\n",
       "      <th>min</th>\n",
       "      <td>1.000000</td>\n",
       "      <td>1.000000</td>\n",
       "      <td>2.000000</td>\n",
       "      <td>0.030000</td>\n",
       "      <td>0.000000</td>\n",
       "      <td>0.000000</td>\n",
       "      <td>0.000000</td>\n",
       "      <td>0.000000</td>\n",
       "      <td>0.000000</td>\n",
       "      <td>1970.000000</td>\n",
       "    </tr>\n",
       "    <tr>\n",
       "      <th>25%</th>\n",
       "      <td>13948.750000</td>\n",
       "      <td>6.880000</td>\n",
       "      <td>7.800000</td>\n",
       "      <td>0.200000</td>\n",
       "      <td>0.250000</td>\n",
       "      <td>0.050000</td>\n",
       "      <td>0.010000</td>\n",
       "      <td>0.020000</td>\n",
       "      <td>0.000000</td>\n",
       "      <td>2000.000000</td>\n",
       "    </tr>\n",
       "    <tr>\n",
       "      <th>50%</th>\n",
       "      <td>27896.500000</td>\n",
       "      <td>7.280000</td>\n",
       "      <td>8.500000</td>\n",
       "      <td>0.590000</td>\n",
       "      <td>0.370000</td>\n",
       "      <td>0.120000</td>\n",
       "      <td>0.040000</td>\n",
       "      <td>0.050000</td>\n",
       "      <td>0.010000</td>\n",
       "      <td>2008.000000</td>\n",
       "    </tr>\n",
       "    <tr>\n",
       "      <th>75%</th>\n",
       "      <td>41844.250000</td>\n",
       "      <td>7.360000</td>\n",
       "      <td>9.100000</td>\n",
       "      <td>1.800000</td>\n",
       "      <td>0.550000</td>\n",
       "      <td>0.290000</td>\n",
       "      <td>0.140000</td>\n",
       "      <td>0.120000</td>\n",
       "      <td>0.040000</td>\n",
       "      <td>2011.000000</td>\n",
       "    </tr>\n",
       "    <tr>\n",
       "      <th>max</th>\n",
       "      <td>55792.000000</td>\n",
       "      <td>10.000000</td>\n",
       "      <td>10.000000</td>\n",
       "      <td>82.860000</td>\n",
       "      <td>82.860000</td>\n",
       "      <td>9.760000</td>\n",
       "      <td>9.850000</td>\n",
       "      <td>2.690000</td>\n",
       "      <td>3.120000</td>\n",
       "      <td>2020.000000</td>\n",
       "    </tr>\n",
       "  </tbody>\n",
       "</table>\n",
       "</div>"
      ],
      "text/plain": [
       "               Rank  Critic_Score  User_Score  Total_Shipped  Global_Sales  \\\n",
       "count  55792.000000  55792.000000  335.000000    1827.000000  55792.000000   \n",
       "mean   27896.500000      7.175042    8.253433       1.887258      0.484119   \n",
       "std    16105.907446      0.562451    1.401489       4.195693      0.953450   \n",
       "min        1.000000      1.000000    2.000000       0.030000      0.000000   \n",
       "25%    13948.750000      6.880000    7.800000       0.200000      0.250000   \n",
       "50%    27896.500000      7.280000    8.500000       0.590000      0.370000   \n",
       "75%    41844.250000      7.360000    9.100000       1.800000      0.550000   \n",
       "max    55792.000000     10.000000   10.000000      82.860000     82.860000   \n",
       "\n",
       "           NA_Sales     PAL_Sales     JP_Sales   Other_Sales          Year  \n",
       "count  12964.000000  13189.000000  7043.000000  15522.000000  54813.000000  \n",
       "mean       0.275541      0.155263     0.110402      0.044719   2005.659095  \n",
       "std        0.512809      0.399257     0.184673      0.129554      8.355585  \n",
       "min        0.000000      0.000000     0.000000      0.000000   1970.000000  \n",
       "25%        0.050000      0.010000     0.020000      0.000000   2000.000000  \n",
       "50%        0.120000      0.040000     0.050000      0.010000   2008.000000  \n",
       "75%        0.290000      0.140000     0.120000      0.040000   2011.000000  \n",
       "max        9.760000      9.850000     2.690000      3.120000   2020.000000  "
      ]
     },
     "execution_count": 15,
     "metadata": {},
     "output_type": "execute_result"
    }
   ],
   "source": [
    "df3.describe()"
   ]
  },
  {
   "cell_type": "code",
   "execution_count": 16,
   "metadata": {},
   "outputs": [
    {
     "data": {
      "image/png": "[encoded data removed]",
      "text/plain": [
       "<Figure size 432x288 with 1 Axes>"
      ]
     },
     "metadata": {
      "needs_background": "light"
     },
     "output_type": "display_data"
    }
   ],
   "source": [
    "plt.plot(df1[\"Year\"], df1[\"PS4\"]/1000000, color='blue', label='PS4')\n",
    "plt.plot(df1[\"Year\"], df1[\"XOne\"]/1000000, color='red', label='XOne')\n",
    "plt.plot(df1[\"Year\"], df1[\"NS\"]/1000000, color='green', label='NS')\n",
    "plt.ylabel(\"Unit sold in millions\")\n",
    "plt.title('Console Yearly Sales')\n",
    "plt.xticks(df1['Year'])\n",
    "plt.legend(loc='best')\n",
    "plt.show()"
   ]
  },
  {
   "cell_type": "code",
   "execution_count": 17,
   "metadata": {},
   "outputs": [
    {
     "data": {
      "image/png": "[encoded data removed]",
      "text/plain": [
       "<Figure size 432x288 with 1 Axes>"
      ]
     },
     "metadata": {
      "needs_background": "light"
     },
     "output_type": "display_data"
    }
   ],
   "source": [
    "plt.bar(df2[\"Year\"], df2[\"PS4\"]/1000000, 0.35, label=\"PS4\", color='lightskyblue')\n",
    "plt.bar(df2[\"Year\"]+0.35, df2[\"XOne\"]/1000000, 0.35, label=\"XOne\", color='lightcoral')\n",
    "plt.bar(df2[\"Year\"]+0.35, df2[\"NS\"]/1000000, 0.35, label=\"NS\", color='lightgreen')\n",
    "plt.ylabel(\"Unit sold in millions\")\n",
    "plt.title('Console Total Sales')\n",
    "plt.xticks(df2['Year']+0.35/2, ('2013','2014','2015','2016','2017','2018'))\n",
    "plt.legend(loc='best')\n",
    "plt.show()"
   ]
  },
  {
   "cell_type": "markdown",
   "metadata": {},
   "source": [
    "From early graphs, we can see that in term of sales, PS4 is in the lead compared to XOne and NS.\n",
    "Next, let us take a good of software in term of game sales, perhaps XOne will take the lead in this round.\n",
    "Here, NS falls behind is because that it was launched 4 years later."
   ]
  },
  {
   "cell_type": "code",
   "execution_count": 18,
   "metadata": {},
   "outputs": [
    {
     "data": {
      "text/html": [
       "<div>\n",
       "<style scoped>\n",
       "    .dataframe tbody tr th:only-of-type {\n",
       "        vertical-align: middle;\n",
       "    }\n",
       "\n",
       "    .dataframe tbody tr th {\n",
       "        vertical-align: top;\n",
       "    }\n",
       "\n",
       "    .dataframe thead th {\n",
       "        text-align: right;\n",
       "    }\n",
       "</style>\n",
       "<table border=\"1\" class=\"dataframe\">\n",
       "  <thead>\n",
       "    <tr style=\"text-align: right;\">\n",
       "      <th></th>\n",
       "      <th>Rank</th>\n",
       "      <th>Name</th>\n",
       "      <th>Genre</th>\n",
       "      <th>ESRB_Rating</th>\n",
       "      <th>Platform</th>\n",
       "      <th>Publisher</th>\n",
       "      <th>Developer</th>\n",
       "      <th>Critic_Score</th>\n",
       "      <th>User_Score</th>\n",
       "      <th>Total_Shipped</th>\n",
       "      <th>Global_Sales</th>\n",
       "      <th>NA_Sales</th>\n",
       "      <th>PAL_Sales</th>\n",
       "      <th>JP_Sales</th>\n",
       "      <th>Other_Sales</th>\n",
       "      <th>Year</th>\n",
       "    </tr>\n",
       "  </thead>\n",
       "  <tbody>\n",
       "    <tr>\n",
       "      <th>3</th>\n",
       "      <td>4</td>\n",
       "      <td>PlayerUnknown's Battlegrounds</td>\n",
       "      <td>Shooter</td>\n",
       "      <td>NaN</td>\n",
       "      <td>PC</td>\n",
       "      <td>PUBG Corporation</td>\n",
       "      <td>PUBG Corporation</td>\n",
       "      <td>7.28</td>\n",
       "      <td>NaN</td>\n",
       "      <td>36.60</td>\n",
       "      <td>36.60</td>\n",
       "      <td>NaN</td>\n",
       "      <td>NaN</td>\n",
       "      <td>NaN</td>\n",
       "      <td>NaN</td>\n",
       "      <td>2017.0</td>\n",
       "    </tr>\n",
       "    <tr>\n",
       "      <th>19</th>\n",
       "      <td>20</td>\n",
       "      <td>Grand Theft Auto V</td>\n",
       "      <td>Action</td>\n",
       "      <td>M</td>\n",
       "      <td>PS3</td>\n",
       "      <td>Rockstar Games</td>\n",
       "      <td>Rockstar North</td>\n",
       "      <td>9.40</td>\n",
       "      <td>NaN</td>\n",
       "      <td>NaN</td>\n",
       "      <td>20.32</td>\n",
       "      <td>6.37</td>\n",
       "      <td>9.85</td>\n",
       "      <td>0.99</td>\n",
       "      <td>3.12</td>\n",
       "      <td>2013.0</td>\n",
       "    </tr>\n",
       "    <tr>\n",
       "      <th>20</th>\n",
       "      <td>21</td>\n",
       "      <td>Grand Theft Auto V</td>\n",
       "      <td>Action</td>\n",
       "      <td>M</td>\n",
       "      <td>PS4</td>\n",
       "      <td>Rockstar Games</td>\n",
       "      <td>Rockstar North</td>\n",
       "      <td>9.70</td>\n",
       "      <td>NaN</td>\n",
       "      <td>NaN</td>\n",
       "      <td>19.39</td>\n",
       "      <td>6.06</td>\n",
       "      <td>9.71</td>\n",
       "      <td>0.60</td>\n",
       "      <td>3.02</td>\n",
       "      <td>2014.0</td>\n",
       "    </tr>\n",
       "    <tr>\n",
       "      <th>28</th>\n",
       "      <td>29</td>\n",
       "      <td>Pokemon X/Y</td>\n",
       "      <td>Role-Playing</td>\n",
       "      <td>E</td>\n",
       "      <td>3DS</td>\n",
       "      <td>Nintendo</td>\n",
       "      <td>Game Freak</td>\n",
       "      <td>8.90</td>\n",
       "      <td>9.7</td>\n",
       "      <td>16.37</td>\n",
       "      <td>16.37</td>\n",
       "      <td>NaN</td>\n",
       "      <td>NaN</td>\n",
       "      <td>NaN</td>\n",
       "      <td>NaN</td>\n",
       "      <td>2013.0</td>\n",
       "    </tr>\n",
       "    <tr>\n",
       "      <th>31</th>\n",
       "      <td>32</td>\n",
       "      <td>Pokemon Sun/Moon</td>\n",
       "      <td>Role-Playing</td>\n",
       "      <td>E</td>\n",
       "      <td>3DS</td>\n",
       "      <td>Nintendo</td>\n",
       "      <td>Game Freak</td>\n",
       "      <td>9.00</td>\n",
       "      <td>NaN</td>\n",
       "      <td>16.14</td>\n",
       "      <td>16.14</td>\n",
       "      <td>NaN</td>\n",
       "      <td>NaN</td>\n",
       "      <td>NaN</td>\n",
       "      <td>NaN</td>\n",
       "      <td>2016.0</td>\n",
       "    </tr>\n",
       "  </tbody>\n",
       "</table>\n",
       "</div>"
      ],
      "text/plain": [
       "    Rank                           Name         Genre ESRB_Rating Platform  \\\n",
       "3      4  PlayerUnknown's Battlegrounds       Shooter         NaN       PC   \n",
       "19    20             Grand Theft Auto V        Action           M      PS3   \n",
       "20    21             Grand Theft Auto V        Action           M      PS4   \n",
       "28    29                    Pokemon X/Y  Role-Playing           E      3DS   \n",
       "31    32               Pokemon Sun/Moon  Role-Playing           E      3DS   \n",
       "\n",
       "           Publisher         Developer  Critic_Score  User_Score  \\\n",
       "3   PUBG Corporation  PUBG Corporation          7.28         NaN   \n",
       "19    Rockstar Games    Rockstar North          9.40         NaN   \n",
       "20    Rockstar Games    Rockstar North          9.70         NaN   \n",
       "28          Nintendo        Game Freak          8.90         9.7   \n",
       "31          Nintendo        Game Freak          9.00         NaN   \n",
       "\n",
       "    Total_Shipped  Global_Sales  NA_Sales  PAL_Sales  JP_Sales  Other_Sales  \\\n",
       "3           36.60         36.60       NaN        NaN       NaN          NaN   \n",
       "19            NaN         20.32      6.37       9.85      0.99         3.12   \n",
       "20            NaN         19.39      6.06       9.71      0.60         3.02   \n",
       "28          16.37         16.37       NaN        NaN       NaN          NaN   \n",
       "31          16.14         16.14       NaN        NaN       NaN          NaN   \n",
       "\n",
       "      Year  \n",
       "3   2017.0  \n",
       "19  2013.0  \n",
       "20  2014.0  \n",
       "28  2013.0  \n",
       "31  2016.0  "
      ]
     },
     "execution_count": 18,
     "metadata": {},
     "output_type": "execute_result"
    }
   ],
   "source": [
    "mask = (df3[\"Year\"] >= 2013) & (df3[\"Year\"] <= 2018)\n",
    "df31=df3.loc[mask]\n",
    "df31.head()"
   ]
  },
  {
   "cell_type": "code",
   "execution_count": 19,
   "metadata": {},
   "outputs": [],
   "source": [
    "mask1 = (df31[\"Platform\"] == 'PS4') | (df31[\"Platform\"] == 'XOne') | (df31[\"Platform\"] == 'NS') | (df31[\"Platform\"] == 'PC')\n",
    "df_3 = df31.loc[mask1]"
   ]
  },
  {
   "cell_type": "code",
   "execution_count": 20,
   "metadata": {
    "scrolled": true
   },
   "outputs": [
    {
     "data": {
      "text/html": [
       "<div>\n",
       "<style scoped>\n",
       "    .dataframe tbody tr th:only-of-type {\n",
       "        vertical-align: middle;\n",
       "    }\n",
       "\n",
       "    .dataframe tbody tr th {\n",
       "        vertical-align: top;\n",
       "    }\n",
       "\n",
       "    .dataframe thead th {\n",
       "        text-align: right;\n",
       "    }\n",
       "</style>\n",
       "<table border=\"1\" class=\"dataframe\">\n",
       "  <thead>\n",
       "    <tr style=\"text-align: right;\">\n",
       "      <th></th>\n",
       "      <th>Rank</th>\n",
       "      <th>Name</th>\n",
       "      <th>Genre</th>\n",
       "      <th>ESRB_Rating</th>\n",
       "      <th>Platform</th>\n",
       "      <th>Publisher</th>\n",
       "      <th>Developer</th>\n",
       "      <th>Critic_Score</th>\n",
       "      <th>User_Score</th>\n",
       "      <th>Total_Shipped</th>\n",
       "      <th>Global_Sales</th>\n",
       "      <th>NA_Sales</th>\n",
       "      <th>PAL_Sales</th>\n",
       "      <th>JP_Sales</th>\n",
       "      <th>Other_Sales</th>\n",
       "      <th>Year</th>\n",
       "    </tr>\n",
       "  </thead>\n",
       "  <tbody>\n",
       "    <tr>\n",
       "      <th>3</th>\n",
       "      <td>4</td>\n",
       "      <td>PlayerUnknown's Battlegrounds</td>\n",
       "      <td>Shooter</td>\n",
       "      <td>NaN</td>\n",
       "      <td>PC</td>\n",
       "      <td>PUBG Corporation</td>\n",
       "      <td>PUBG Corporation</td>\n",
       "      <td>7.28</td>\n",
       "      <td>NaN</td>\n",
       "      <td>36.60</td>\n",
       "      <td>36.60</td>\n",
       "      <td>NaN</td>\n",
       "      <td>NaN</td>\n",
       "      <td>NaN</td>\n",
       "      <td>NaN</td>\n",
       "      <td>2017.0</td>\n",
       "    </tr>\n",
       "    <tr>\n",
       "      <th>20</th>\n",
       "      <td>21</td>\n",
       "      <td>Grand Theft Auto V</td>\n",
       "      <td>Action</td>\n",
       "      <td>M</td>\n",
       "      <td>PS4</td>\n",
       "      <td>Rockstar Games</td>\n",
       "      <td>Rockstar North</td>\n",
       "      <td>9.70</td>\n",
       "      <td>NaN</td>\n",
       "      <td>NaN</td>\n",
       "      <td>19.39</td>\n",
       "      <td>6.06</td>\n",
       "      <td>9.71</td>\n",
       "      <td>0.60</td>\n",
       "      <td>3.02</td>\n",
       "      <td>2014.0</td>\n",
       "    </tr>\n",
       "    <tr>\n",
       "      <th>34</th>\n",
       "      <td>35</td>\n",
       "      <td>Call of Duty: Black Ops 3</td>\n",
       "      <td>Shooter</td>\n",
       "      <td>M</td>\n",
       "      <td>PS4</td>\n",
       "      <td>Activision</td>\n",
       "      <td>Treyarch</td>\n",
       "      <td>7.28</td>\n",
       "      <td>NaN</td>\n",
       "      <td>NaN</td>\n",
       "      <td>15.09</td>\n",
       "      <td>6.18</td>\n",
       "      <td>6.05</td>\n",
       "      <td>0.41</td>\n",
       "      <td>2.44</td>\n",
       "      <td>2015.0</td>\n",
       "    </tr>\n",
       "    <tr>\n",
       "      <th>35</th>\n",
       "      <td>36</td>\n",
       "      <td>Mario Kart 8 Deluxe</td>\n",
       "      <td>Racing</td>\n",
       "      <td>E</td>\n",
       "      <td>NS</td>\n",
       "      <td>Nintendo</td>\n",
       "      <td>Nintendo EPD</td>\n",
       "      <td>9.30</td>\n",
       "      <td>NaN</td>\n",
       "      <td>15.02</td>\n",
       "      <td>15.02</td>\n",
       "      <td>NaN</td>\n",
       "      <td>NaN</td>\n",
       "      <td>NaN</td>\n",
       "      <td>NaN</td>\n",
       "      <td>2017.0</td>\n",
       "    </tr>\n",
       "    <tr>\n",
       "      <th>45</th>\n",
       "      <td>46</td>\n",
       "      <td>Red Dead Redemption 2</td>\n",
       "      <td>Action-Adventure</td>\n",
       "      <td>M</td>\n",
       "      <td>PS4</td>\n",
       "      <td>Rockstar Games</td>\n",
       "      <td>Rockstar Games</td>\n",
       "      <td>9.80</td>\n",
       "      <td>NaN</td>\n",
       "      <td>NaN</td>\n",
       "      <td>13.94</td>\n",
       "      <td>5.26</td>\n",
       "      <td>6.21</td>\n",
       "      <td>0.21</td>\n",
       "      <td>2.26</td>\n",
       "      <td>2018.0</td>\n",
       "    </tr>\n",
       "  </tbody>\n",
       "</table>\n",
       "</div>"
      ],
      "text/plain": [
       "    Rank                           Name             Genre ESRB_Rating  \\\n",
       "3      4  PlayerUnknown's Battlegrounds           Shooter         NaN   \n",
       "20    21             Grand Theft Auto V            Action           M   \n",
       "34    35      Call of Duty: Black Ops 3           Shooter           M   \n",
       "35    36            Mario Kart 8 Deluxe            Racing           E   \n",
       "45    46          Red Dead Redemption 2  Action-Adventure           M   \n",
       "\n",
       "   Platform         Publisher         Developer  Critic_Score  User_Score  \\\n",
       "3        PC  PUBG Corporation  PUBG Corporation          7.28         NaN   \n",
       "20      PS4    Rockstar Games    Rockstar North          9.70         NaN   \n",
       "34      PS4        Activision          Treyarch          7.28         NaN   \n",
       "35       NS          Nintendo      Nintendo EPD          9.30         NaN   \n",
       "45      PS4    Rockstar Games    Rockstar Games          9.80         NaN   \n",
       "\n",
       "    Total_Shipped  Global_Sales  NA_Sales  PAL_Sales  JP_Sales  Other_Sales  \\\n",
       "3           36.60         36.60       NaN        NaN       NaN          NaN   \n",
       "20            NaN         19.39      6.06       9.71      0.60         3.02   \n",
       "34            NaN         15.09      6.18       6.05      0.41         2.44   \n",
       "35          15.02         15.02       NaN        NaN       NaN          NaN   \n",
       "45            NaN         13.94      5.26       6.21      0.21         2.26   \n",
       "\n",
       "      Year  \n",
       "3   2017.0  \n",
       "20  2014.0  \n",
       "34  2015.0  \n",
       "35  2017.0  \n",
       "45  2018.0  "
      ]
     },
     "execution_count": 20,
     "metadata": {},
     "output_type": "execute_result"
    }
   ],
   "source": [
    "df_3.head()"
   ]
  },
  {
   "cell_type": "markdown",
   "metadata": {},
   "source": [
    "Extract the columns we need for further exploration."
   ]
  },
  {
   "cell_type": "code",
   "execution_count": 21,
   "metadata": {},
   "outputs": [],
   "source": [
    "df_3=df_3[[\"Name\", \"Genre\", \"Platform\", \"Publisher\", \"Global_Sales\", \"Year\"]]"
   ]
  },
  {
   "cell_type": "code",
   "execution_count": 22,
   "metadata": {
    "scrolled": false
   },
   "outputs": [
    {
     "data": {
      "text/html": [
       "<div>\n",
       "<style scoped>\n",
       "    .dataframe tbody tr th:only-of-type {\n",
       "        vertical-align: middle;\n",
       "    }\n",
       "\n",
       "    .dataframe tbody tr th {\n",
       "        vertical-align: top;\n",
       "    }\n",
       "\n",
       "    .dataframe thead th {\n",
       "        text-align: right;\n",
       "    }\n",
       "</style>\n",
       "<table border=\"1\" class=\"dataframe\">\n",
       "  <thead>\n",
       "    <tr style=\"text-align: right;\">\n",
       "      <th></th>\n",
       "      <th>Name</th>\n",
       "      <th>Genre</th>\n",
       "      <th>Platform</th>\n",
       "      <th>Publisher</th>\n",
       "      <th>Global_Sales</th>\n",
       "      <th>Year</th>\n",
       "    </tr>\n",
       "  </thead>\n",
       "  <tbody>\n",
       "    <tr>\n",
       "      <th>3</th>\n",
       "      <td>PlayerUnknown's Battlegrounds</td>\n",
       "      <td>Shooter</td>\n",
       "      <td>PC</td>\n",
       "      <td>PUBG Corporation</td>\n",
       "      <td>36.60</td>\n",
       "      <td>2017.0</td>\n",
       "    </tr>\n",
       "    <tr>\n",
       "      <th>20</th>\n",
       "      <td>Grand Theft Auto V</td>\n",
       "      <td>Action</td>\n",
       "      <td>PS4</td>\n",
       "      <td>Rockstar Games</td>\n",
       "      <td>19.39</td>\n",
       "      <td>2014.0</td>\n",
       "    </tr>\n",
       "    <tr>\n",
       "      <th>34</th>\n",
       "      <td>Call of Duty: Black Ops 3</td>\n",
       "      <td>Shooter</td>\n",
       "      <td>PS4</td>\n",
       "      <td>Activision</td>\n",
       "      <td>15.09</td>\n",
       "      <td>2015.0</td>\n",
       "    </tr>\n",
       "    <tr>\n",
       "      <th>35</th>\n",
       "      <td>Mario Kart 8 Deluxe</td>\n",
       "      <td>Racing</td>\n",
       "      <td>NS</td>\n",
       "      <td>Nintendo</td>\n",
       "      <td>15.02</td>\n",
       "      <td>2017.0</td>\n",
       "    </tr>\n",
       "    <tr>\n",
       "      <th>45</th>\n",
       "      <td>Red Dead Redemption 2</td>\n",
       "      <td>Action-Adventure</td>\n",
       "      <td>PS4</td>\n",
       "      <td>Rockstar Games</td>\n",
       "      <td>13.94</td>\n",
       "      <td>2018.0</td>\n",
       "    </tr>\n",
       "    <tr>\n",
       "      <th>...</th>\n",
       "      <td>...</td>\n",
       "      <td>...</td>\n",
       "      <td>...</td>\n",
       "      <td>...</td>\n",
       "      <td>...</td>\n",
       "      <td>...</td>\n",
       "    </tr>\n",
       "    <tr>\n",
       "      <th>55775</th>\n",
       "      <td>ZOMBIE GOLD RUSH</td>\n",
       "      <td>Action</td>\n",
       "      <td>NS</td>\n",
       "      <td>Amazing Inc.</td>\n",
       "      <td>0.47</td>\n",
       "      <td>2017.0</td>\n",
       "    </tr>\n",
       "    <tr>\n",
       "      <th>55776</th>\n",
       "      <td>Zombillie</td>\n",
       "      <td>Puzzle</td>\n",
       "      <td>NS</td>\n",
       "      <td>Forever Entertainment S.A.</td>\n",
       "      <td>0.30</td>\n",
       "      <td>2018.0</td>\n",
       "    </tr>\n",
       "    <tr>\n",
       "      <th>55777</th>\n",
       "      <td>Zone of the Enders: The 2nd Runner MARS</td>\n",
       "      <td>Simulation</td>\n",
       "      <td>PC</td>\n",
       "      <td>Konami</td>\n",
       "      <td>0.38</td>\n",
       "      <td>2018.0</td>\n",
       "    </tr>\n",
       "    <tr>\n",
       "      <th>55778</th>\n",
       "      <td>Zoo Tycoon: Ultimate Animal Collection</td>\n",
       "      <td>Simulation</td>\n",
       "      <td>XOne</td>\n",
       "      <td>Microsoft Studios</td>\n",
       "      <td>0.38</td>\n",
       "      <td>2017.0</td>\n",
       "    </tr>\n",
       "    <tr>\n",
       "      <th>55779</th>\n",
       "      <td>Zoo Tycoon: Ultimate Animal Collection</td>\n",
       "      <td>Simulation</td>\n",
       "      <td>PC</td>\n",
       "      <td>THQ Nordic</td>\n",
       "      <td>0.38</td>\n",
       "      <td>2018.0</td>\n",
       "    </tr>\n",
       "  </tbody>\n",
       "</table>\n",
       "<p>5589 rows × 6 columns</p>\n",
       "</div>"
      ],
      "text/plain": [
       "                                          Name             Genre Platform  \\\n",
       "3                PlayerUnknown's Battlegrounds           Shooter       PC   \n",
       "20                          Grand Theft Auto V            Action      PS4   \n",
       "34                   Call of Duty: Black Ops 3           Shooter      PS4   \n",
       "35                         Mario Kart 8 Deluxe            Racing       NS   \n",
       "45                       Red Dead Redemption 2  Action-Adventure      PS4   \n",
       "...                                        ...               ...      ...   \n",
       "55775                         ZOMBIE GOLD RUSH            Action       NS   \n",
       "55776                                Zombillie            Puzzle       NS   \n",
       "55777  Zone of the Enders: The 2nd Runner MARS        Simulation       PC   \n",
       "55778   Zoo Tycoon: Ultimate Animal Collection        Simulation     XOne   \n",
       "55779   Zoo Tycoon: Ultimate Animal Collection        Simulation       PC   \n",
       "\n",
       "                        Publisher  Global_Sales    Year  \n",
       "3                PUBG Corporation         36.60  2017.0  \n",
       "20                 Rockstar Games         19.39  2014.0  \n",
       "34                     Activision         15.09  2015.0  \n",
       "35                       Nintendo         15.02  2017.0  \n",
       "45                 Rockstar Games         13.94  2018.0  \n",
       "...                           ...           ...     ...  \n",
       "55775                Amazing Inc.          0.47  2017.0  \n",
       "55776  Forever Entertainment S.A.          0.30  2018.0  \n",
       "55777                      Konami          0.38  2018.0  \n",
       "55778           Microsoft Studios          0.38  2017.0  \n",
       "55779                  THQ Nordic          0.38  2018.0  \n",
       "\n",
       "[5589 rows x 6 columns]"
      ]
     },
     "execution_count": 22,
     "metadata": {},
     "output_type": "execute_result"
    }
   ],
   "source": [
    "df_3"
   ]
  },
  {
   "cell_type": "code",
   "execution_count": 23,
   "metadata": {},
   "outputs": [
    {
     "data": {
      "text/plain": [
       "Name            0\n",
       "Genre           0\n",
       "Platform        0\n",
       "Publisher       0\n",
       "Global_Sales    0\n",
       "Year            0\n",
       "dtype: int64"
      ]
     },
     "execution_count": 23,
     "metadata": {},
     "output_type": "execute_result"
    }
   ],
   "source": [
    "df_3.isnull().sum()"
   ]
  },
  {
   "cell_type": "markdown",
   "metadata": {},
   "source": [
    "Let us group the remaining data by Platform and compute the sum of sales."
   ]
  },
  {
   "cell_type": "code",
   "execution_count": 24,
   "metadata": {},
   "outputs": [],
   "source": [
    "df_31=df_3[[\"Platform\", \"Global_Sales\"]].groupby(\"Platform\").sum()"
   ]
  },
  {
   "cell_type": "code",
   "execution_count": 25,
   "metadata": {},
   "outputs": [
    {
     "data": {
      "text/html": [
       "<div>\n",
       "<style scoped>\n",
       "    .dataframe tbody tr th:only-of-type {\n",
       "        vertical-align: middle;\n",
       "    }\n",
       "\n",
       "    .dataframe tbody tr th {\n",
       "        vertical-align: top;\n",
       "    }\n",
       "\n",
       "    .dataframe thead th {\n",
       "        text-align: right;\n",
       "    }\n",
       "</style>\n",
       "<table border=\"1\" class=\"dataframe\">\n",
       "  <thead>\n",
       "    <tr style=\"text-align: right;\">\n",
       "      <th></th>\n",
       "      <th>Global_Sales</th>\n",
       "    </tr>\n",
       "    <tr>\n",
       "      <th>Platform</th>\n",
       "      <th></th>\n",
       "    </tr>\n",
       "  </thead>\n",
       "  <tbody>\n",
       "    <tr>\n",
       "      <th>NS</th>\n",
       "      <td>428.42</td>\n",
       "    </tr>\n",
       "    <tr>\n",
       "      <th>PC</th>\n",
       "      <td>1092.68</td>\n",
       "    </tr>\n",
       "    <tr>\n",
       "      <th>PS4</th>\n",
       "      <td>895.09</td>\n",
       "    </tr>\n",
       "    <tr>\n",
       "      <th>XOne</th>\n",
       "      <td>467.08</td>\n",
       "    </tr>\n",
       "  </tbody>\n",
       "</table>\n",
       "</div>"
      ],
      "text/plain": [
       "          Global_Sales\n",
       "Platform              \n",
       "NS              428.42\n",
       "PC             1092.68\n",
       "PS4             895.09\n",
       "XOne            467.08"
      ]
     },
     "execution_count": 25,
     "metadata": {},
     "output_type": "execute_result"
    }
   ],
   "source": [
    "df_31.head()"
   ]
  },
  {
   "cell_type": "markdown",
   "metadata": {},
   "source": [
    "Above is the Global_Sales from 2013 to 2018."
   ]
  },
  {
   "cell_type": "code",
   "execution_count": 26,
   "metadata": {},
   "outputs": [
    {
     "name": "stderr",
     "output_type": "stream",
     "text": [
      "/Users/xin/opt/anaconda3/lib/python3.8/site-packages/seaborn/_decorators.py:36: FutureWarning: Pass the following variables as keyword args: x, y. From version 0.12, the only valid positional argument will be `data`, and passing other arguments without an explicit keyword will result in an error or misinterpretation.\n",
      "  warnings.warn(\n"
     ]
    },
    {
     "data": {
      "text/plain": [
       "[Text(0.5, 0, 'Platform'), Text(0, 0.5, 'Global sales in millions')]"
      ]
     },
     "execution_count": 26,
     "metadata": {},
     "output_type": "execute_result"
    },
    {
     "data": {
      "image/png": "[encoded data removed]",
      "text/plain": [
       "<Figure size 432x288 with 1 Axes>"
      ]
     },
     "metadata": {
      "needs_background": "light"
     },
     "output_type": "display_data"
    }
   ],
   "source": [
    "ax = sns.barplot(df_31.index, df_31[\"Global_Sales\"])\n",
    "ax.set(xlabel='Platform', ylabel='Global sales in millions')"
   ]
  },
  {
   "cell_type": "markdown",
   "metadata": {},
   "source": [
    "If you would like to see the yearly breakdown, here it is."
   ]
  },
  {
   "cell_type": "code",
   "execution_count": 27,
   "metadata": {},
   "outputs": [],
   "source": [
    "df_32=df_3.groupby([\"Platform\", \"Year\"])[\"Global_Sales\"].sum()"
   ]
  },
  {
   "cell_type": "code",
   "execution_count": 28,
   "metadata": {},
   "outputs": [
    {
     "data": {
      "text/html": [
       "<div>\n",
       "<style scoped>\n",
       "    .dataframe tbody tr th:only-of-type {\n",
       "        vertical-align: middle;\n",
       "    }\n",
       "\n",
       "    .dataframe tbody tr th {\n",
       "        vertical-align: top;\n",
       "    }\n",
       "\n",
       "    .dataframe thead th {\n",
       "        text-align: right;\n",
       "    }\n",
       "</style>\n",
       "<table border=\"1\" class=\"dataframe\">\n",
       "  <thead>\n",
       "    <tr style=\"text-align: right;\">\n",
       "      <th></th>\n",
       "      <th></th>\n",
       "      <th>Global_Sales</th>\n",
       "    </tr>\n",
       "    <tr>\n",
       "      <th>Platform</th>\n",
       "      <th>Year</th>\n",
       "      <th></th>\n",
       "    </tr>\n",
       "  </thead>\n",
       "  <tbody>\n",
       "    <tr>\n",
       "      <th rowspan=\"2\" valign=\"top\">NS</th>\n",
       "      <th>2017.0</th>\n",
       "      <td>213.12</td>\n",
       "    </tr>\n",
       "    <tr>\n",
       "      <th>2018.0</th>\n",
       "      <td>215.30</td>\n",
       "    </tr>\n",
       "    <tr>\n",
       "      <th rowspan=\"6\" valign=\"top\">PC</th>\n",
       "      <th>2013.0</th>\n",
       "      <td>166.15</td>\n",
       "    </tr>\n",
       "    <tr>\n",
       "      <th>2014.0</th>\n",
       "      <td>334.69</td>\n",
       "    </tr>\n",
       "    <tr>\n",
       "      <th>2015.0</th>\n",
       "      <td>193.92</td>\n",
       "    </tr>\n",
       "    <tr>\n",
       "      <th>2016.0</th>\n",
       "      <td>140.01</td>\n",
       "    </tr>\n",
       "    <tr>\n",
       "      <th>2017.0</th>\n",
       "      <td>138.88</td>\n",
       "    </tr>\n",
       "    <tr>\n",
       "      <th>2018.0</th>\n",
       "      <td>119.03</td>\n",
       "    </tr>\n",
       "    <tr>\n",
       "      <th rowspan=\"6\" valign=\"top\">PS4</th>\n",
       "      <th>2013.0</th>\n",
       "      <td>35.09</td>\n",
       "    </tr>\n",
       "    <tr>\n",
       "      <th>2014.0</th>\n",
       "      <td>138.08</td>\n",
       "    </tr>\n",
       "    <tr>\n",
       "      <th>2015.0</th>\n",
       "      <td>180.31</td>\n",
       "    </tr>\n",
       "    <tr>\n",
       "      <th>2016.0</th>\n",
       "      <td>180.08</td>\n",
       "    </tr>\n",
       "    <tr>\n",
       "      <th>2017.0</th>\n",
       "      <td>201.39</td>\n",
       "    </tr>\n",
       "    <tr>\n",
       "      <th>2018.0</th>\n",
       "      <td>160.14</td>\n",
       "    </tr>\n",
       "    <tr>\n",
       "      <th rowspan=\"6\" valign=\"top\">XOne</th>\n",
       "      <th>2013.0</th>\n",
       "      <td>26.23</td>\n",
       "    </tr>\n",
       "    <tr>\n",
       "      <th>2014.0</th>\n",
       "      <td>75.44</td>\n",
       "    </tr>\n",
       "    <tr>\n",
       "      <th>2015.0</th>\n",
       "      <td>96.90</td>\n",
       "    </tr>\n",
       "    <tr>\n",
       "      <th>2016.0</th>\n",
       "      <td>85.76</td>\n",
       "    </tr>\n",
       "    <tr>\n",
       "      <th>2017.0</th>\n",
       "      <td>95.56</td>\n",
       "    </tr>\n",
       "    <tr>\n",
       "      <th>2018.0</th>\n",
       "      <td>87.19</td>\n",
       "    </tr>\n",
       "  </tbody>\n",
       "</table>\n",
       "</div>"
      ],
      "text/plain": [
       "                 Global_Sales\n",
       "Platform Year                \n",
       "NS       2017.0        213.12\n",
       "         2018.0        215.30\n",
       "PC       2013.0        166.15\n",
       "         2014.0        334.69\n",
       "         2015.0        193.92\n",
       "         2016.0        140.01\n",
       "         2017.0        138.88\n",
       "         2018.0        119.03\n",
       "PS4      2013.0         35.09\n",
       "         2014.0        138.08\n",
       "         2015.0        180.31\n",
       "         2016.0        180.08\n",
       "         2017.0        201.39\n",
       "         2018.0        160.14\n",
       "XOne     2013.0         26.23\n",
       "         2014.0         75.44\n",
       "         2015.0         96.90\n",
       "         2016.0         85.76\n",
       "         2017.0         95.56\n",
       "         2018.0         87.19"
      ]
     },
     "execution_count": 28,
     "metadata": {},
     "output_type": "execute_result"
    }
   ],
   "source": [
    "df_32=df_32.to_frame()\n",
    "df_32"
   ]
  },
  {
   "cell_type": "code",
   "execution_count": 29,
   "metadata": {},
   "outputs": [
    {
     "data": {
      "text/plain": [
       "Text(0, 0.5, 'Global sales in millions')"
      ]
     },
     "execution_count": 29,
     "metadata": {},
     "output_type": "execute_result"
    },
    {
     "data": {
      "image/png": "[encoded data removed]",
      "text/plain": [
       "<Figure size 576x432 with 1 Axes>"
      ]
     },
     "metadata": {
      "needs_background": "light"
     },
     "output_type": "display_data"
    }
   ],
   "source": [
    "# In 2014, many articles suggest that PC global games sales surpassed consoles\n",
    "ax1 = df_32.unstack().plot(figsize=(8,6), kind='bar')\n",
    "ax1.legend([\"2013\",\"2014\",\"2015\",\"2016\",\"2017\",\"2018\"])\n",
    "ax1.set_ylabel(\"Global sales in millions\")"
   ]
  },
  {
   "cell_type": "markdown",
   "metadata": {},
   "source": [
    "At this point, we can see that XOne isn't really doing all the well for this generation. It falls behind PS4 every year. Overall, pc gaming market is very strong. Now let us take a look at the exact market share in term of game sales. Note that we cannot explore the market share with PC, since we didnot take into account the PC sales."
   ]
  },
  {
   "cell_type": "code",
   "execution_count": 30,
   "metadata": {},
   "outputs": [
    {
     "data": {
      "text/html": [
       "<div>\n",
       "<style scoped>\n",
       "    .dataframe tbody tr th:only-of-type {\n",
       "        vertical-align: middle;\n",
       "    }\n",
       "\n",
       "    .dataframe tbody tr th {\n",
       "        vertical-align: top;\n",
       "    }\n",
       "\n",
       "    .dataframe thead th {\n",
       "        text-align: right;\n",
       "    }\n",
       "</style>\n",
       "<table border=\"1\" class=\"dataframe\">\n",
       "  <thead>\n",
       "    <tr style=\"text-align: right;\">\n",
       "      <th></th>\n",
       "      <th>Global_Sales</th>\n",
       "    </tr>\n",
       "    <tr>\n",
       "      <th>Platform</th>\n",
       "      <th></th>\n",
       "    </tr>\n",
       "  </thead>\n",
       "  <tbody>\n",
       "    <tr>\n",
       "      <th>NS</th>\n",
       "      <td>0.148588</td>\n",
       "    </tr>\n",
       "    <tr>\n",
       "      <th>PC</th>\n",
       "      <td>0.378972</td>\n",
       "    </tr>\n",
       "    <tr>\n",
       "      <th>PS4</th>\n",
       "      <td>0.310443</td>\n",
       "    </tr>\n",
       "    <tr>\n",
       "      <th>XOne</th>\n",
       "      <td>0.161997</td>\n",
       "    </tr>\n",
       "  </tbody>\n",
       "</table>\n",
       "</div>"
      ],
      "text/plain": [
       "          Global_Sales\n",
       "Platform              \n",
       "NS            0.148588\n",
       "PC            0.378972\n",
       "PS4           0.310443\n",
       "XOne          0.161997"
      ]
     },
     "execution_count": 30,
     "metadata": {},
     "output_type": "execute_result"
    }
   ],
   "source": [
    "df_33=df_31/df_31[\"Global_Sales\"].sum()\n",
    "df_33"
   ]
  },
  {
   "cell_type": "code",
   "execution_count": 31,
   "metadata": {},
   "outputs": [],
   "source": [
    "arr = df2[df2['Year']==2018].iloc[:,1:].to_numpy()[0]"
   ]
  },
  {
   "cell_type": "code",
   "execution_count": 32,
   "metadata": {},
   "outputs": [
    {
     "data": {
      "image/png": "[encoded data removed]",
      "text/plain": [
       "<Figure size 432x288 with 1 Axes>"
      ]
     },
     "metadata": {},
     "output_type": "display_data"
    }
   ],
   "source": [
    "labels = 'PS4', 'XOne', 'NS'\n",
    "sizes = arr\n",
    "colors = ['lightskyblue', 'lightgreen', 'lightcoral']\n",
    "explode = (0.05, 0, 0)  # only \"explode\" the 1st slice (i.e. 'PS4')\n",
    "\n",
    "ax21 = plt.pie(sizes, explode=explode, labels=labels, colors=colors, autopct='%1.1f%%', startangle=140)\n",
    "plt.axis('equal')\n",
    "plt.show()"
   ]
  },
  {
   "cell_type": "markdown",
   "metadata": {},
   "source": [
    "From early observation, PS4 seems to be the better platform to sell newly released games since it has more units sold."
   ]
  },
  {
   "cell_type": "code",
   "execution_count": 33,
   "metadata": {},
   "outputs": [
    {
     "data": {
      "text/plain": [
       "Platform\n",
       "NS      0.148588\n",
       "PC      0.378972\n",
       "PS4     0.310443\n",
       "XOne    0.161997\n",
       "Name: Global_Sales, dtype: float64"
      ]
     },
     "execution_count": 33,
     "metadata": {},
     "output_type": "execute_result"
    }
   ],
   "source": [
    "df_33[\"Global_Sales\"]"
   ]
  },
  {
   "cell_type": "code",
   "execution_count": 34,
   "metadata": {},
   "outputs": [
    {
     "data": {
      "image/png": "[encoded data removed]",
      "text/plain": [
       "<Figure size 432x288 with 1 Axes>"
      ]
     },
     "metadata": {},
     "output_type": "display_data"
    }
   ],
   "source": [
    "labels = 'NS', 'PC', 'PS4', 'XOne'\n",
    "sizes = df_33[\"Global_Sales\"]\n",
    "colors = ['lightcoral', 'orange', 'lightskyblue', 'lightgreen']\n",
    "explode = (0, 0.05, 0, 0)  # only \"explode\" the 2nd slice (i.e. 'PC')\n",
    "\n",
    "ax22 = plt.pie(sizes, explode=explode, labels=labels, colors=colors, autopct='%1.1f%%', startangle=140)\n",
    "plt.axis('equal')\n",
    "plt.show()"
   ]
  },
  {
   "cell_type": "markdown",
   "metadata": {},
   "source": [
    "PC and PS4 are in the lead of game sales."
   ]
  },
  {
   "cell_type": "markdown",
   "metadata": {},
   "source": [
    "In summary, as far as current generation console goes, the winner is clearly the PS4. This will give a lot of confidence to the developers who will continue to make games for PS4 as time goes on, because even when the next generation launches, PS4 will still be supported many years to come. In addition, this will possibly promotes the sales of PS5 since the player base is high, it is very likely for those players to stay with PlayStation due to few main factors, including previous investments in games and friends in the same network, etc. This concludes the analysis on gaming market."
   ]
  },
  {
   "cell_type": "markdown",
   "metadata": {},
   "source": [
    "#### Part 2: More visualizations"
   ]
  },
  {
   "cell_type": "markdown",
   "metadata": {},
   "source": [
    "We can start by finding what kind of game is most popular through the year. For simplicity, we will continue using df_3 which consists of games from 2013 to 2018."
   ]
  },
  {
   "cell_type": "code",
   "execution_count": 35,
   "metadata": {},
   "outputs": [
    {
     "data": {
      "text/plain": [
       "Genre\n",
       "Action              6.850457\n",
       "Action-Adventure    7.700000\n",
       "Adventure           7.359724\n",
       "Board Game          5.300000\n",
       "Education           7.500000\n",
       "Fighting            7.389324\n",
       "MMO                 7.880270\n",
       "Misc                6.880158\n",
       "Music               7.910256\n",
       "Party               6.050667\n",
       "Platform            7.329437\n",
       "Puzzle              7.240032\n",
       "Racing              7.099340\n",
       "Role-Playing        7.469725\n",
       "Sandbox             9.200000\n",
       "Shooter             7.280148\n",
       "Simulation          6.939591\n",
       "Sports              7.290423\n",
       "Strategy            7.419786\n",
       "Visual Novel        8.500000\n",
       "Name: Critic_Score, dtype: float64"
      ]
     },
     "execution_count": 35,
     "metadata": {},
     "output_type": "execute_result"
    }
   ],
   "source": [
    "df3.groupby('Genre')['Critic_Score'].mean()"
   ]
  },
  {
   "cell_type": "code",
   "execution_count": 36,
   "metadata": {},
   "outputs": [
    {
     "data": {
      "text/plain": [
       "Rank                 0\n",
       "Name                 0\n",
       "Genre                0\n",
       "ESRB_Rating      32169\n",
       "Platform             0\n",
       "Publisher            0\n",
       "Developer           17\n",
       "Critic_Score         0\n",
       "User_Score       55457\n",
       "Total_Shipped    53965\n",
       "Global_Sales         0\n",
       "NA_Sales         42828\n",
       "PAL_Sales        42603\n",
       "JP_Sales         48749\n",
       "Other_Sales      40270\n",
       "Year               979\n",
       "dtype: int64"
      ]
     },
     "execution_count": 36,
     "metadata": {},
     "output_type": "execute_result"
    }
   ],
   "source": [
    "df3.isnull().sum()"
   ]
  },
  {
   "cell_type": "code",
   "execution_count": 37,
   "metadata": {},
   "outputs": [],
   "source": [
    "df_model = df3[[\"Name\", \"Platform\", \"Genre\", \"Publisher\", \"Critic_Score\", \"Global_Sales\", \"Year\"]]"
   ]
  },
  {
   "cell_type": "code",
   "execution_count": 38,
   "metadata": {},
   "outputs": [
    {
     "data": {
      "text/html": [
       "<div>\n",
       "<style scoped>\n",
       "    .dataframe tbody tr th:only-of-type {\n",
       "        vertical-align: middle;\n",
       "    }\n",
       "\n",
       "    .dataframe tbody tr th {\n",
       "        vertical-align: top;\n",
       "    }\n",
       "\n",
       "    .dataframe thead th {\n",
       "        text-align: right;\n",
       "    }\n",
       "</style>\n",
       "<table border=\"1\" class=\"dataframe\">\n",
       "  <thead>\n",
       "    <tr style=\"text-align: right;\">\n",
       "      <th></th>\n",
       "      <th>Name</th>\n",
       "      <th>Platform</th>\n",
       "      <th>Genre</th>\n",
       "      <th>Publisher</th>\n",
       "      <th>Critic_Score</th>\n",
       "      <th>Global_Sales</th>\n",
       "      <th>Year</th>\n",
       "    </tr>\n",
       "  </thead>\n",
       "  <tbody>\n",
       "    <tr>\n",
       "      <th>0</th>\n",
       "      <td>Wii Sports</td>\n",
       "      <td>Wii</td>\n",
       "      <td>Sports</td>\n",
       "      <td>Nintendo</td>\n",
       "      <td>7.70</td>\n",
       "      <td>82.86</td>\n",
       "      <td>2006.0</td>\n",
       "    </tr>\n",
       "    <tr>\n",
       "      <th>1</th>\n",
       "      <td>Super Mario Bros.</td>\n",
       "      <td>NES</td>\n",
       "      <td>Platform</td>\n",
       "      <td>Nintendo</td>\n",
       "      <td>10.00</td>\n",
       "      <td>40.24</td>\n",
       "      <td>1985.0</td>\n",
       "    </tr>\n",
       "    <tr>\n",
       "      <th>2</th>\n",
       "      <td>Mario Kart Wii</td>\n",
       "      <td>Wii</td>\n",
       "      <td>Racing</td>\n",
       "      <td>Nintendo</td>\n",
       "      <td>8.20</td>\n",
       "      <td>37.14</td>\n",
       "      <td>2008.0</td>\n",
       "    </tr>\n",
       "    <tr>\n",
       "      <th>3</th>\n",
       "      <td>PlayerUnknown's Battlegrounds</td>\n",
       "      <td>PC</td>\n",
       "      <td>Shooter</td>\n",
       "      <td>PUBG Corporation</td>\n",
       "      <td>7.28</td>\n",
       "      <td>36.60</td>\n",
       "      <td>2017.0</td>\n",
       "    </tr>\n",
       "    <tr>\n",
       "      <th>4</th>\n",
       "      <td>Wii Sports Resort</td>\n",
       "      <td>Wii</td>\n",
       "      <td>Sports</td>\n",
       "      <td>Nintendo</td>\n",
       "      <td>8.00</td>\n",
       "      <td>33.09</td>\n",
       "      <td>2009.0</td>\n",
       "    </tr>\n",
       "  </tbody>\n",
       "</table>\n",
       "</div>"
      ],
      "text/plain": [
       "                            Name Platform     Genre         Publisher  \\\n",
       "0                     Wii Sports      Wii    Sports          Nintendo   \n",
       "1              Super Mario Bros.      NES  Platform          Nintendo   \n",
       "2                 Mario Kart Wii      Wii    Racing          Nintendo   \n",
       "3  PlayerUnknown's Battlegrounds       PC   Shooter  PUBG Corporation   \n",
       "4              Wii Sports Resort      Wii    Sports          Nintendo   \n",
       "\n",
       "   Critic_Score  Global_Sales    Year  \n",
       "0          7.70         82.86  2006.0  \n",
       "1         10.00         40.24  1985.0  \n",
       "2          8.20         37.14  2008.0  \n",
       "3          7.28         36.60  2017.0  \n",
       "4          8.00         33.09  2009.0  "
      ]
     },
     "execution_count": 38,
     "metadata": {},
     "output_type": "execute_result"
    }
   ],
   "source": [
    "df_model.head()"
   ]
  },
  {
   "cell_type": "code",
   "execution_count": 39,
   "metadata": {
    "scrolled": false
   },
   "outputs": [
    {
     "data": {
      "text/plain": [
       "Name              0\n",
       "Platform          0\n",
       "Genre             0\n",
       "Publisher         0\n",
       "Critic_Score      0\n",
       "Global_Sales      0\n",
       "Year            979\n",
       "dtype: int64"
      ]
     },
     "execution_count": 39,
     "metadata": {},
     "output_type": "execute_result"
    }
   ],
   "source": [
    "df_model.isnull().sum()"
   ]
  },
  {
   "cell_type": "code",
   "execution_count": 40,
   "metadata": {},
   "outputs": [],
   "source": [
    "# Save df_model\n",
    "df_model.to_pickle('visual_dataframe') "
   ]
  },
  {
   "cell_type": "code",
   "execution_count": 41,
   "metadata": {},
   "outputs": [],
   "source": [
    "df_model = pd.read_pickle('visual_dataframe')"
   ]
  },
  {
   "cell_type": "markdown",
   "metadata": {},
   "source": [
    "1. For each platform, find out which genre is most popular."
   ]
  },
  {
   "cell_type": "code",
   "execution_count": 42,
   "metadata": {},
   "outputs": [],
   "source": [
    "df_ps4 = df_model[df_model['Platform']=='PS4']\n",
    "df_ps4_genre = df_ps4.groupby('Genre')['Global_Sales'].sum().sort_values(ascending=False).head(5)"
   ]
  },
  {
   "cell_type": "code",
   "execution_count": 43,
   "metadata": {},
   "outputs": [],
   "source": [
    "# output_file(\"bar_charts1.html\")\n",
    "\n",
    "# genres = df_ps4_genre.index.values.tolist()\n",
    "# sales = df_ps4_genre.values.tolist()\n",
    "\n",
    "# source = ColumnDataSource(data=dict(genres=genres, sales=sales, color=Category20[5]))\n",
    "\n",
    "# p = figure(x_range=genres, y_range=[0,300], plot_height=500, title=\"Top5 genres on PS4\",\n",
    "#            toolbar_location=None, tools=\"\")\n",
    "\n",
    "# p.vbar(x='genres', top='sales', width=0.75, color='color', legend=\"genres\", source=source)\n",
    "\n",
    "# p.xgrid.grid_line_color = None\n",
    "# p.legend.orientation = \"vertical\"\n",
    "# p.legend.location = \"top_right\"\n",
    "\n",
    "# show(p)"
   ]
  },
  {
   "cell_type": "code",
   "execution_count": 44,
   "metadata": {},
   "outputs": [],
   "source": [
    "df_xone = df_model[df_model['Platform']=='XOne']\n",
    "df_xone_genre = df_xone.groupby('Genre')['Global_Sales'].sum().sort_values(ascending=False).head(5)"
   ]
  },
  {
   "cell_type": "code",
   "execution_count": 45,
   "metadata": {},
   "outputs": [],
   "source": [
    "# output_file(\"bar_charts1.html\")\n",
    "\n",
    "# genres = df_xone_genre.index.values.tolist()\n",
    "# sales = df_xone_genre.values.tolist()\n",
    "\n",
    "# source = ColumnDataSource(data=dict(genres=genres, sales=sales, color=Category20[5]))\n",
    "\n",
    "# p = figure(x_range=genres, y_range=[0,200], plot_height=500, title=\"Top5 genres on XOne\",\n",
    "#            toolbar_location=None, tools=\"\")\n",
    "\n",
    "# p.vbar(x='genres', top='sales', width=0.75, color='color', legend=\"genres\", source=source)\n",
    "\n",
    "# p.xgrid.grid_line_color = None\n",
    "# p.legend.orientation = \"vertical\"\n",
    "# p.legend.location = \"top_right\"\n",
    "\n",
    "# show(p)"
   ]
  },
  {
   "cell_type": "code",
   "execution_count": 46,
   "metadata": {},
   "outputs": [],
   "source": [
    "df_ns = df_model[df_model['Platform']=='NS']\n",
    "df_ns_genre = df_ns.groupby('Genre')['Global_Sales'].sum().sort_values(ascending=False).head(5)"
   ]
  },
  {
   "cell_type": "code",
   "execution_count": 47,
   "metadata": {},
   "outputs": [],
   "source": [
    "# output_file(\"bar_charts1.html\")\n",
    "\n",
    "# genres = df_ns_genre.index.values.tolist()\n",
    "# sales = df_ns_genre.values.tolist()\n",
    "\n",
    "# source = ColumnDataSource(data=dict(genres=genres, sales=sales, color=Category20[5]))\n",
    "\n",
    "# p = figure(x_range=genres, y_range=[0,150], plot_height=500, title=\"Top5 genres on NS\",\n",
    "#            toolbar_location=None, tools=\"\")\n",
    "\n",
    "# p.vbar(x='genres', top='sales', width=0.75, color='color', legend=\"genres\", source=source)\n",
    "\n",
    "# p.xgrid.grid_line_color = None\n",
    "# p.legend.orientation = \"vertical\"\n",
    "# p.legend.location = \"top_right\"\n",
    "\n",
    "# show(p)"
   ]
  },
  {
   "cell_type": "code",
   "execution_count": 48,
   "metadata": {},
   "outputs": [],
   "source": [
    "df_pc = df_model[df_model['Platform']=='PC']\n",
    "df_pc_genre = df_pc.groupby('Genre')['Global_Sales'].sum().sort_values(ascending=False).head(5)"
   ]
  },
  {
   "cell_type": "code",
   "execution_count": 49,
   "metadata": {},
   "outputs": [],
   "source": [
    "# output_file(\"bar_charts1.html\")\n",
    "\n",
    "# genres = df_pc_genre.index.values.tolist()\n",
    "# sales = df_pc_genre.values.tolist()\n",
    "\n",
    "# source = ColumnDataSource(data=dict(genres=genres, sales=sales, color=Category20[5]))\n",
    "\n",
    "# p = figure(x_range=genres, y_range=[0,900], plot_height=500, title=\"Top5 genres on PC\",\n",
    "#            toolbar_location=None, tools=\"\")\n",
    "\n",
    "# p.vbar(x='genres', top='sales', width=0.75, color='color', legend=\"genres\", source=source)\n",
    "\n",
    "# p.xgrid.grid_line_color = None\n",
    "# p.legend.orientation = \"vertical\"\n",
    "# p.legend.location = \"top_right\"\n",
    "\n",
    "# show(p)"
   ]
  },
  {
   "cell_type": "markdown",
   "metadata": {},
   "source": [
    "2. For each platform, find out which publisher is most pupular."
   ]
  },
  {
   "cell_type": "code",
   "execution_count": 50,
   "metadata": {},
   "outputs": [],
   "source": [
    "df_ps4_publisher = df_ps4.groupby('Publisher')['Global_Sales'].sum().sort_values(ascending=False).head(5)"
   ]
  },
  {
   "cell_type": "code",
   "execution_count": 51,
   "metadata": {},
   "outputs": [],
   "source": [
    "# output_file(\"bar_charts2.html\")\n",
    "\n",
    "# publishers = df_ps4_publisher.index.values.tolist()\n",
    "# sales = df_ps4_publisher.values.tolist()\n",
    "\n",
    "# source = ColumnDataSource(data=dict(publishers=publishers, sales=sales, color=Category20[5]))\n",
    "\n",
    "# p = figure(x_range=publishers, y_range=[0,150], plot_height=500, title=\"Top5 publishers on PS4\",\n",
    "#            toolbar_location=None, tools=\"\")\n",
    "\n",
    "# p.vbar(x='publishers', top='sales', width=0.75, color='color', legend=\"publishers\", source=source)\n",
    "\n",
    "# p.xgrid.grid_line_color = None\n",
    "# p.legend.orientation = \"vertical\"\n",
    "# p.legend.location = \"top_right\"\n",
    "\n",
    "# show(p)"
   ]
  },
  {
   "cell_type": "code",
   "execution_count": 52,
   "metadata": {},
   "outputs": [],
   "source": [
    "df_xone_publisher = df_xone.groupby('Publisher')['Global_Sales'].sum().sort_values(ascending=False).head(5)"
   ]
  },
  {
   "cell_type": "code",
   "execution_count": 53,
   "metadata": {},
   "outputs": [],
   "source": [
    "# output_file(\"bar_charts2.html\")\n",
    "\n",
    "# publishers = df_xone_publisher.index.values.tolist()\n",
    "# sales = df_xone_publisher.values.tolist()\n",
    "\n",
    "# source = ColumnDataSource(data=dict(publishers=publishers, sales=sales, color=Category20[5]))\n",
    "\n",
    "# p = figure(x_range=publishers, y_range=[0,100], plot_height=500, title=\"Top5 publishers on XOne\",\n",
    "#            toolbar_location=None, tools=\"\")\n",
    "\n",
    "# p.vbar(x='publishers', top='sales', width=0.75, color='color', legend=\"publishers\", source=source)\n",
    "\n",
    "# p.xgrid.grid_line_color = None\n",
    "# p.legend.orientation = \"vertical\"\n",
    "# p.legend.location = \"top_right\"\n",
    "\n",
    "# show(p)"
   ]
  },
  {
   "cell_type": "code",
   "execution_count": 54,
   "metadata": {},
   "outputs": [],
   "source": [
    "df_ns_publisher = df_ns.groupby('Publisher')['Global_Sales'].sum().sort_values(ascending=False).head(5)"
   ]
  },
  {
   "cell_type": "code",
   "execution_count": 55,
   "metadata": {},
   "outputs": [],
   "source": [
    "# output_file(\"bar_charts2.html\")\n",
    "\n",
    "# publishers = df_ns_publisher.index.values.tolist()\n",
    "# sales = df_ns_publisher.values.tolist()\n",
    "\n",
    "# source = ColumnDataSource(data=dict(publishers=publishers, sales=sales, color=Category20[5]))\n",
    "\n",
    "# p = figure(x_range=publishers, y_range=[0,150], plot_height=500, title=\"Top5 publishers on NS\",\n",
    "#            toolbar_location=None, tools=\"\")\n",
    "\n",
    "# p.vbar(x='publishers', top='sales', width=0.75, color='color', legend=\"publishers\", source=source)\n",
    "\n",
    "# p.xgrid.grid_line_color = None\n",
    "# p.legend.orientation = \"vertical\"\n",
    "# p.legend.location = \"top_right\"\n",
    "\n",
    "# show(p)"
   ]
  },
  {
   "cell_type": "code",
   "execution_count": 56,
   "metadata": {},
   "outputs": [],
   "source": [
    "df_pc_publisher = df_pc.groupby('Publisher')['Global_Sales'].sum().sort_values(ascending=False).head(5)"
   ]
  },
  {
   "cell_type": "code",
   "execution_count": 57,
   "metadata": {},
   "outputs": [],
   "source": [
    "# output_file(\"bar_charts2.html\")\n",
    "\n",
    "# publishers = df_pc_publisher.index.values.tolist()\n",
    "# sales = df_pc_publisher.values.tolist()\n",
    "\n",
    "# source = ColumnDataSource(data=dict(publishers=publishers, sales=sales, color=Category20[5]))\n",
    "\n",
    "# p = figure(x_range=publishers, y_range=[0,1200], plot_height=500, title=\"Top5 publishers on PC\",\n",
    "#            toolbar_location=None, tools=\"\")\n",
    "\n",
    "# p.vbar(x='publishers', top='sales', width=0.75, color='color', legend=\"publishers\", source=source)\n",
    "\n",
    "# p.xgrid.grid_line_color = None\n",
    "# p.legend.orientation = \"vertical\"\n",
    "# p.legend.location = \"top_right\"\n",
    "\n",
    "# show(p)"
   ]
  },
  {
   "cell_type": "markdown",
   "metadata": {},
   "source": [
    "3. Overall top5_genres, top20_games and top5_publishers."
   ]
  },
  {
   "cell_type": "code",
   "execution_count": 58,
   "metadata": {},
   "outputs": [
    {
     "data": {
      "text/plain": [
       "Genre\n",
       "Shooter     3710.91\n",
       "Action      3619.11\n",
       "Misc        3516.49\n",
       "Platform    2933.69\n",
       "Sports      2878.70\n",
       "Name: Global_Sales, dtype: float64"
      ]
     },
     "execution_count": 58,
     "metadata": {},
     "output_type": "execute_result"
    }
   ],
   "source": [
    "top5_genre=df_model.groupby(['Genre'])['Global_Sales'].sum().sort_values(ascending=False).head(5)\n",
    "top5_genre"
   ]
  },
  {
   "cell_type": "code",
   "execution_count": 59,
   "metadata": {
    "scrolled": true
   },
   "outputs": [
    {
     "data": {
      "text/html": [
       "<div>\n",
       "<style scoped>\n",
       "    .dataframe tbody tr th:only-of-type {\n",
       "        vertical-align: middle;\n",
       "    }\n",
       "\n",
       "    .dataframe tbody tr th {\n",
       "        vertical-align: top;\n",
       "    }\n",
       "\n",
       "    .dataframe thead th {\n",
       "        text-align: right;\n",
       "    }\n",
       "</style>\n",
       "<table border=\"1\" class=\"dataframe\">\n",
       "  <thead>\n",
       "    <tr style=\"text-align: right;\">\n",
       "      <th></th>\n",
       "      <th>Name</th>\n",
       "      <th>Platform</th>\n",
       "      <th>Genre</th>\n",
       "      <th>Publisher</th>\n",
       "      <th>Critic_Score</th>\n",
       "      <th>Global_Sales</th>\n",
       "      <th>Year</th>\n",
       "    </tr>\n",
       "  </thead>\n",
       "  <tbody>\n",
       "    <tr>\n",
       "      <th>0</th>\n",
       "      <td>Wii Sports</td>\n",
       "      <td>Wii</td>\n",
       "      <td>Sports</td>\n",
       "      <td>Nintendo</td>\n",
       "      <td>7.70</td>\n",
       "      <td>82.86</td>\n",
       "      <td>2006.0</td>\n",
       "    </tr>\n",
       "    <tr>\n",
       "      <th>1</th>\n",
       "      <td>Super Mario Bros.</td>\n",
       "      <td>NES</td>\n",
       "      <td>Platform</td>\n",
       "      <td>Nintendo</td>\n",
       "      <td>10.00</td>\n",
       "      <td>40.24</td>\n",
       "      <td>1985.0</td>\n",
       "    </tr>\n",
       "    <tr>\n",
       "      <th>3</th>\n",
       "      <td>PlayerUnknown's Battlegrounds</td>\n",
       "      <td>PC</td>\n",
       "      <td>Shooter</td>\n",
       "      <td>PUBG Corporation</td>\n",
       "      <td>7.28</td>\n",
       "      <td>36.60</td>\n",
       "      <td>2017.0</td>\n",
       "    </tr>\n",
       "    <tr>\n",
       "      <th>4</th>\n",
       "      <td>Wii Sports Resort</td>\n",
       "      <td>Wii</td>\n",
       "      <td>Sports</td>\n",
       "      <td>Nintendo</td>\n",
       "      <td>8.00</td>\n",
       "      <td>33.09</td>\n",
       "      <td>2009.0</td>\n",
       "    </tr>\n",
       "    <tr>\n",
       "      <th>6</th>\n",
       "      <td>New Super Mario Bros.</td>\n",
       "      <td>DS</td>\n",
       "      <td>Platform</td>\n",
       "      <td>Nintendo</td>\n",
       "      <td>9.10</td>\n",
       "      <td>30.80</td>\n",
       "      <td>2006.0</td>\n",
       "    </tr>\n",
       "  </tbody>\n",
       "</table>\n",
       "</div>"
      ],
      "text/plain": [
       "                            Name Platform     Genre         Publisher  \\\n",
       "0                     Wii Sports      Wii    Sports          Nintendo   \n",
       "1              Super Mario Bros.      NES  Platform          Nintendo   \n",
       "3  PlayerUnknown's Battlegrounds       PC   Shooter  PUBG Corporation   \n",
       "4              Wii Sports Resort      Wii    Sports          Nintendo   \n",
       "6          New Super Mario Bros.       DS  Platform          Nintendo   \n",
       "\n",
       "   Critic_Score  Global_Sales    Year  \n",
       "0          7.70         82.86  2006.0  \n",
       "1         10.00         40.24  1985.0  \n",
       "3          7.28         36.60  2017.0  \n",
       "4          8.00         33.09  2009.0  \n",
       "6          9.10         30.80  2006.0  "
      ]
     },
     "execution_count": 59,
     "metadata": {},
     "output_type": "execute_result"
    }
   ],
   "source": [
    "top5_genre=top5_genre.to_frame()\n",
    "top5_genre_df = df_model[df_model[\"Genre\"].isin(top5_genre.index)]\n",
    "top5_genre_df.head()"
   ]
  },
  {
   "cell_type": "code",
   "execution_count": 60,
   "metadata": {},
   "outputs": [
    {
     "data": {
      "text/plain": [
       "Name\n",
       "Wii Sports                            82.86\n",
       "Grand Theft Auto V                    76.89\n",
       "Minecraft                             67.76\n",
       "Super Mario Bros.                     41.83\n",
       "PlayerUnknown's Battlegrounds         39.10\n",
       "Mario Kart Wii                        37.14\n",
       "Tetris                                36.44\n",
       "Wii Sports Resort                     33.09\n",
       "Call of Duty: Black Ops               32.61\n",
       "Pokemon Red / Green / Blue Version    31.38\n",
       "New Super Mario Bros.                 30.80\n",
       "Call of Duty: Modern Warfare 3        30.71\n",
       "New Super Mario Bros. Wii             30.22\n",
       "Call of Duty: Black Ops II            29.59\n",
       "Call of Duty: Ghosts                  28.80\n",
       "Duck Hunt                             28.31\n",
       "Wii Play                              28.02\n",
       "Call of Duty: Black Ops 3             26.72\n",
       "Call of Duty: Modern Warfare 2        26.64\n",
       "Mario Kart DS                         24.14\n",
       "Name: Global_Sales, dtype: float64"
      ]
     },
     "execution_count": 60,
     "metadata": {},
     "output_type": "execute_result"
    }
   ],
   "source": [
    "top20_name=df_model.groupby(['Name'])['Global_Sales'].sum().sort_values(ascending=False).head(20)\n",
    "top20_name"
   ]
  },
  {
   "cell_type": "code",
   "execution_count": 61,
   "metadata": {},
   "outputs": [
    {
     "data": {
      "text/html": [
       "<div>\n",
       "<style scoped>\n",
       "    .dataframe tbody tr th:only-of-type {\n",
       "        vertical-align: middle;\n",
       "    }\n",
       "\n",
       "    .dataframe tbody tr th {\n",
       "        vertical-align: top;\n",
       "    }\n",
       "\n",
       "    .dataframe thead th {\n",
       "        text-align: right;\n",
       "    }\n",
       "</style>\n",
       "<table border=\"1\" class=\"dataframe\">\n",
       "  <thead>\n",
       "    <tr style=\"text-align: right;\">\n",
       "      <th></th>\n",
       "      <th>Global_Sales</th>\n",
       "    </tr>\n",
       "    <tr>\n",
       "      <th>Name</th>\n",
       "      <th></th>\n",
       "    </tr>\n",
       "  </thead>\n",
       "  <tbody>\n",
       "    <tr>\n",
       "      <th>Wii Sports</th>\n",
       "      <td>82.86</td>\n",
       "    </tr>\n",
       "    <tr>\n",
       "      <th>Grand Theft Auto V</th>\n",
       "      <td>76.89</td>\n",
       "    </tr>\n",
       "    <tr>\n",
       "      <th>Minecraft</th>\n",
       "      <td>67.76</td>\n",
       "    </tr>\n",
       "    <tr>\n",
       "      <th>Super Mario Bros.</th>\n",
       "      <td>41.83</td>\n",
       "    </tr>\n",
       "    <tr>\n",
       "      <th>PlayerUnknown's Battlegrounds</th>\n",
       "      <td>39.10</td>\n",
       "    </tr>\n",
       "  </tbody>\n",
       "</table>\n",
       "</div>"
      ],
      "text/plain": [
       "                               Global_Sales\n",
       "Name                                       \n",
       "Wii Sports                            82.86\n",
       "Grand Theft Auto V                    76.89\n",
       "Minecraft                             67.76\n",
       "Super Mario Bros.                     41.83\n",
       "PlayerUnknown's Battlegrounds         39.10"
      ]
     },
     "execution_count": 61,
     "metadata": {},
     "output_type": "execute_result"
    }
   ],
   "source": [
    "top20_name=top20_name.to_frame()\n",
    "top20_name.head()"
   ]
  },
  {
   "cell_type": "code",
   "execution_count": 62,
   "metadata": {},
   "outputs": [
    {
     "data": {
      "image/png": "[encoded data removed]",
      "text/plain": [
       "<Figure size 1080x504 with 1 Axes>"
      ]
     },
     "metadata": {
      "needs_background": "light"
     },
     "output_type": "display_data"
    }
   ],
   "source": [
    "fig, ax3 = plt.subplots(figsize=(15,7))\n",
    "plt.barh(top20_name.index, top20_name[\"Global_Sales\"], align='center')\n",
    "plt.xlabel('Global sales in millions')\n",
    "ax3.invert_yaxis()\n",
    "plt.show()"
   ]
  },
  {
   "cell_type": "code",
   "execution_count": 63,
   "metadata": {},
   "outputs": [
    {
     "data": {
      "text/plain": [
       "Publisher\n",
       "Nintendo           2255.49\n",
       "Unknown            2147.92\n",
       "Sega               1053.68\n",
       "Electronic Arts    1000.68\n",
       "Activision          977.37\n",
       "Name: Global_Sales, dtype: float64"
      ]
     },
     "execution_count": 63,
     "metadata": {},
     "output_type": "execute_result"
    }
   ],
   "source": [
    "top5_publisher=df_model.groupby(['Publisher'])['Global_Sales'].sum().sort_values(ascending=False).head(5)\n",
    "top5_publisher"
   ]
  },
  {
   "cell_type": "code",
   "execution_count": 64,
   "metadata": {},
   "outputs": [
    {
     "data": {
      "text/html": [
       "<div>\n",
       "<style scoped>\n",
       "    .dataframe tbody tr th:only-of-type {\n",
       "        vertical-align: middle;\n",
       "    }\n",
       "\n",
       "    .dataframe tbody tr th {\n",
       "        vertical-align: top;\n",
       "    }\n",
       "\n",
       "    .dataframe thead th {\n",
       "        text-align: right;\n",
       "    }\n",
       "</style>\n",
       "<table border=\"1\" class=\"dataframe\">\n",
       "  <thead>\n",
       "    <tr style=\"text-align: right;\">\n",
       "      <th></th>\n",
       "      <th>Name</th>\n",
       "      <th>Platform</th>\n",
       "      <th>Genre</th>\n",
       "      <th>Publisher</th>\n",
       "      <th>Critic_Score</th>\n",
       "      <th>Global_Sales</th>\n",
       "      <th>Year</th>\n",
       "    </tr>\n",
       "  </thead>\n",
       "  <tbody>\n",
       "    <tr>\n",
       "      <th>0</th>\n",
       "      <td>Wii Sports</td>\n",
       "      <td>Wii</td>\n",
       "      <td>Sports</td>\n",
       "      <td>Nintendo</td>\n",
       "      <td>7.7</td>\n",
       "      <td>82.86</td>\n",
       "      <td>2006.0</td>\n",
       "    </tr>\n",
       "    <tr>\n",
       "      <th>1</th>\n",
       "      <td>Super Mario Bros.</td>\n",
       "      <td>NES</td>\n",
       "      <td>Platform</td>\n",
       "      <td>Nintendo</td>\n",
       "      <td>10.0</td>\n",
       "      <td>40.24</td>\n",
       "      <td>1985.0</td>\n",
       "    </tr>\n",
       "    <tr>\n",
       "      <th>2</th>\n",
       "      <td>Mario Kart Wii</td>\n",
       "      <td>Wii</td>\n",
       "      <td>Racing</td>\n",
       "      <td>Nintendo</td>\n",
       "      <td>8.2</td>\n",
       "      <td>37.14</td>\n",
       "      <td>2008.0</td>\n",
       "    </tr>\n",
       "    <tr>\n",
       "      <th>4</th>\n",
       "      <td>Wii Sports Resort</td>\n",
       "      <td>Wii</td>\n",
       "      <td>Sports</td>\n",
       "      <td>Nintendo</td>\n",
       "      <td>8.0</td>\n",
       "      <td>33.09</td>\n",
       "      <td>2009.0</td>\n",
       "    </tr>\n",
       "    <tr>\n",
       "      <th>5</th>\n",
       "      <td>Pokemon Red / Green / Blue Version</td>\n",
       "      <td>GB</td>\n",
       "      <td>Role-Playing</td>\n",
       "      <td>Nintendo</td>\n",
       "      <td>9.4</td>\n",
       "      <td>31.38</td>\n",
       "      <td>1998.0</td>\n",
       "    </tr>\n",
       "  </tbody>\n",
       "</table>\n",
       "</div>"
      ],
      "text/plain": [
       "                                 Name Platform         Genre Publisher  \\\n",
       "0                          Wii Sports      Wii        Sports  Nintendo   \n",
       "1                   Super Mario Bros.      NES      Platform  Nintendo   \n",
       "2                      Mario Kart Wii      Wii        Racing  Nintendo   \n",
       "4                   Wii Sports Resort      Wii        Sports  Nintendo   \n",
       "5  Pokemon Red / Green / Blue Version       GB  Role-Playing  Nintendo   \n",
       "\n",
       "   Critic_Score  Global_Sales    Year  \n",
       "0           7.7         82.86  2006.0  \n",
       "1          10.0         40.24  1985.0  \n",
       "2           8.2         37.14  2008.0  \n",
       "4           8.0         33.09  2009.0  \n",
       "5           9.4         31.38  1998.0  "
      ]
     },
     "execution_count": 64,
     "metadata": {},
     "output_type": "execute_result"
    }
   ],
   "source": [
    "top5_publisher=top5_publisher.to_frame()\n",
    "top5_publisher_df = df_model[df_model[\"Publisher\"].isin(top5_publisher.index)]\n",
    "top5_publisher_df.head()"
   ]
  },
  {
   "cell_type": "code",
   "execution_count": 65,
   "metadata": {},
   "outputs": [
    {
     "data": {
      "image/png": "[encoded data removed]",
      "text/plain": [
       "<Figure size 864x288 with 2 Axes>"
      ]
     },
     "metadata": {
      "needs_background": "light"
     },
     "output_type": "display_data"
    }
   ],
   "source": [
    "fig, (ax_genre, ax_publisher) = plt.subplots(1,2, figsize=(12,4))\n",
    "fig.subplots_adjust(wspace=0.5)\n",
    "ax_genre.barh(top5_genre.index, top5_genre['Global_Sales'], align='center')\n",
    "ax_publisher.barh(top5_publisher.index, top5_publisher['Global_Sales'], align='center')\n",
    "ax_genre.set_xlabel('Global sales in millions')\n",
    "ax_genre.set_ylabel('Genres')\n",
    "ax_publisher.set_xlabel('Global sales in millions')\n",
    "ax_publisher.set_ylabel('Publishers')\n",
    "ax_genre.invert_yaxis()\n",
    "ax_publisher.invert_yaxis()\n",
    "plt.show()"
   ]
  },
  {
   "cell_type": "markdown",
   "metadata": {},
   "source": [
    "#### Part 3: Modeling and prediction on future game sales"
   ]
  },
  {
   "cell_type": "markdown",
   "metadata": {},
   "source": [
    "Now that we know what kind of games are popular, we can proceed building a linear model to predict sales with selected features, namely Genre and Publisher."
   ]
  },
  {
   "cell_type": "code",
   "execution_count": 66,
   "metadata": {},
   "outputs": [],
   "source": [
    "mask3 = (df_model[\"Platform\"] == 'PS4') | (df_model[\"Platform\"] == 'XOne') | (df_model[\"Platform\"] == 'NS') | (df_model[\"Platform\"] == 'PC')\n",
    "df_model1 = df_model.loc[mask3]"
   ]
  },
  {
   "cell_type": "code",
   "execution_count": 67,
   "metadata": {
    "scrolled": false
   },
   "outputs": [
    {
     "data": {
      "text/html": [
       "<div>\n",
       "<style scoped>\n",
       "    .dataframe tbody tr th:only-of-type {\n",
       "        vertical-align: middle;\n",
       "    }\n",
       "\n",
       "    .dataframe tbody tr th {\n",
       "        vertical-align: top;\n",
       "    }\n",
       "\n",
       "    .dataframe thead th {\n",
       "        text-align: right;\n",
       "    }\n",
       "</style>\n",
       "<table border=\"1\" class=\"dataframe\">\n",
       "  <thead>\n",
       "    <tr style=\"text-align: right;\">\n",
       "      <th></th>\n",
       "      <th>Platform</th>\n",
       "      <th>Genre</th>\n",
       "      <th>Publisher</th>\n",
       "      <th>Critic_Score</th>\n",
       "      <th>Global_Sales</th>\n",
       "    </tr>\n",
       "  </thead>\n",
       "  <tbody>\n",
       "    <tr>\n",
       "      <th>3</th>\n",
       "      <td>PC</td>\n",
       "      <td>Shooter</td>\n",
       "      <td>PUBG Corporation</td>\n",
       "      <td>7.28</td>\n",
       "      <td>36.60</td>\n",
       "    </tr>\n",
       "    <tr>\n",
       "      <th>9</th>\n",
       "      <td>PC</td>\n",
       "      <td>Misc</td>\n",
       "      <td>Mojang</td>\n",
       "      <td>10.00</td>\n",
       "      <td>30.01</td>\n",
       "    </tr>\n",
       "    <tr>\n",
       "      <th>20</th>\n",
       "      <td>PS4</td>\n",
       "      <td>Action</td>\n",
       "      <td>Rockstar Games</td>\n",
       "      <td>9.70</td>\n",
       "      <td>19.39</td>\n",
       "    </tr>\n",
       "    <tr>\n",
       "      <th>22</th>\n",
       "      <td>PC</td>\n",
       "      <td>Misc</td>\n",
       "      <td>Unknown</td>\n",
       "      <td>6.88</td>\n",
       "      <td>18.58</td>\n",
       "    </tr>\n",
       "    <tr>\n",
       "      <th>34</th>\n",
       "      <td>PS4</td>\n",
       "      <td>Shooter</td>\n",
       "      <td>Activision</td>\n",
       "      <td>7.28</td>\n",
       "      <td>15.09</td>\n",
       "    </tr>\n",
       "  </tbody>\n",
       "</table>\n",
       "</div>"
      ],
      "text/plain": [
       "   Platform    Genre         Publisher  Critic_Score  Global_Sales\n",
       "3        PC  Shooter  PUBG Corporation          7.28         36.60\n",
       "9        PC     Misc            Mojang         10.00         30.01\n",
       "20      PS4   Action    Rockstar Games          9.70         19.39\n",
       "22       PC     Misc           Unknown          6.88         18.58\n",
       "34      PS4  Shooter        Activision          7.28         15.09"
      ]
     },
     "execution_count": 67,
     "metadata": {},
     "output_type": "execute_result"
    }
   ],
   "source": [
    "df_model1 = df_model1[[\"Platform\", \"Genre\", \"Publisher\", \"Critic_Score\", \"Global_Sales\"]]\n",
    "df_model1.head()"
   ]
  },
  {
   "cell_type": "code",
   "execution_count": 68,
   "metadata": {},
   "outputs": [
    {
     "data": {
      "text/plain": [
       "array(['PC', 'PS4', 'NS', 'XOne'], dtype=object)"
      ]
     },
     "execution_count": 68,
     "metadata": {},
     "output_type": "execute_result"
    }
   ],
   "source": [
    "df_model1['Platform'].unique()"
   ]
  },
  {
   "cell_type": "code",
   "execution_count": 69,
   "metadata": {},
   "outputs": [
    {
     "data": {
      "text/html": [
       "<div>\n",
       "<style scoped>\n",
       "    .dataframe tbody tr th:only-of-type {\n",
       "        vertical-align: middle;\n",
       "    }\n",
       "\n",
       "    .dataframe tbody tr th {\n",
       "        vertical-align: top;\n",
       "    }\n",
       "\n",
       "    .dataframe thead th {\n",
       "        text-align: right;\n",
       "    }\n",
       "</style>\n",
       "<table border=\"1\" class=\"dataframe\">\n",
       "  <thead>\n",
       "    <tr style=\"text-align: right;\">\n",
       "      <th></th>\n",
       "      <th>Critic_Score</th>\n",
       "      <th>Global_Sales</th>\n",
       "    </tr>\n",
       "  </thead>\n",
       "  <tbody>\n",
       "    <tr>\n",
       "      <th>count</th>\n",
       "      <td>15001.000000</td>\n",
       "      <td>15001.000000</td>\n",
       "    </tr>\n",
       "    <tr>\n",
       "      <th>mean</th>\n",
       "      <td>7.246964</td>\n",
       "      <td>0.458697</td>\n",
       "    </tr>\n",
       "    <tr>\n",
       "      <th>std</th>\n",
       "      <td>0.509529</td>\n",
       "      <td>0.806751</td>\n",
       "    </tr>\n",
       "    <tr>\n",
       "      <th>min</th>\n",
       "      <td>1.000000</td>\n",
       "      <td>0.000000</td>\n",
       "    </tr>\n",
       "    <tr>\n",
       "      <th>25%</th>\n",
       "      <td>6.900000</td>\n",
       "      <td>0.250000</td>\n",
       "    </tr>\n",
       "    <tr>\n",
       "      <th>50%</th>\n",
       "      <td>7.290000</td>\n",
       "      <td>0.370000</td>\n",
       "    </tr>\n",
       "    <tr>\n",
       "      <th>75%</th>\n",
       "      <td>7.420000</td>\n",
       "      <td>0.550000</td>\n",
       "    </tr>\n",
       "    <tr>\n",
       "      <th>max</th>\n",
       "      <td>10.000000</td>\n",
       "      <td>36.600000</td>\n",
       "    </tr>\n",
       "  </tbody>\n",
       "</table>\n",
       "</div>"
      ],
      "text/plain": [
       "       Critic_Score  Global_Sales\n",
       "count  15001.000000  15001.000000\n",
       "mean       7.246964      0.458697\n",
       "std        0.509529      0.806751\n",
       "min        1.000000      0.000000\n",
       "25%        6.900000      0.250000\n",
       "50%        7.290000      0.370000\n",
       "75%        7.420000      0.550000\n",
       "max       10.000000     36.600000"
      ]
     },
     "execution_count": 69,
     "metadata": {},
     "output_type": "execute_result"
    }
   ],
   "source": [
    "df_model1.describe()"
   ]
  },
  {
   "cell_type": "code",
   "execution_count": 70,
   "metadata": {},
   "outputs": [],
   "source": [
    "X = df_model1[['Platform', 'Genre', 'Publisher', 'Critic_Score']]\n",
    "y = df_model1['Global_Sales']"
   ]
  },
  {
   "cell_type": "code",
   "execution_count": 71,
   "metadata": {},
   "outputs": [],
   "source": [
    "categorical_columns = ['Platform', 'Genre', 'Publisher']\n",
    "numerical_columns = ['Critic_Score']"
   ]
  },
  {
   "cell_type": "code",
   "execution_count": 72,
   "metadata": {},
   "outputs": [],
   "source": [
    "features = ColumnTransformer([('categorical', OneHotEncoder(), categorical_columns),\n",
    "                              ('numerical', StandardScaler(), numerical_columns)])"
   ]
  },
  {
   "cell_type": "code",
   "execution_count": 73,
   "metadata": {
    "scrolled": true
   },
   "outputs": [
    {
     "name": "stdout",
     "output_type": "stream",
     "text": [
      "Mean squared error: 0.44\n",
      "R2 Score: 0.33\n"
     ]
    }
   ],
   "source": [
    "# Main model for interactive webapp\n",
    "# Linear regression without cross-validation\n",
    "lr = LinearRegression()\n",
    "pipe_lr = Pipeline([\n",
    "    ('features', features),\n",
    "    ('estimator', lr)\n",
    "])\n",
    "\n",
    "pipe_lr.fit(X, y)\n",
    "y_pred_lr = pipe_lr.predict(X)\n",
    "# The mean squared error\n",
    "print('Mean squared error: %.2f'\n",
    "      % mean_squared_error(y, y_pred_lr))\n",
    "# The r2 score\n",
    "print('R2 Score: %.2f'\n",
    "      % r2_score(y, y_pred_lr))"
   ]
  },
  {
   "cell_type": "code",
   "execution_count": 74,
   "metadata": {},
   "outputs": [
    {
     "name": "stdout",
     "output_type": "stream",
     "text": [
      "Mean squared error: 0.46\n",
      "R2 Score: 0.29\n"
     ]
    }
   ],
   "source": [
    "# Next let's try Ridge regression without cross-validation\n",
    "ridge = Ridge()\n",
    "pipe_ridge = Pipeline([\n",
    "    ('features', features),\n",
    "    ('estimator', ridge)\n",
    "])\n",
    "\n",
    "pipe_ridge.fit(X, y)\n",
    "y_pred_ridge = pipe_ridge.predict(X)\n",
    "# The mean squared error\n",
    "print('Mean squared error: %.2f'\n",
    "      % mean_squared_error(y, y_pred_ridge))\n",
    "# The r2 score\n",
    "print('R2 Score: %.2f'\n",
    "      % r2_score(y, y_pred_ridge))"
   ]
  },
  {
   "cell_type": "code",
   "execution_count": 75,
   "metadata": {},
   "outputs": [
    {
     "name": "stdout",
     "output_type": "stream",
     "text": [
      "Mean squared error: 0.56\n",
      "R2 Score: 0.14\n"
     ]
    }
   ],
   "source": [
    "# Ridge regression with cross-validation\n",
    "X_new = features.fit_transform(X,y)\n",
    "gs_ridge = GridSearchCV(\n",
    "                ridge,\n",
    "                {\"alpha\": np.arange(40, 50, 0.1)},  # range of hyperparameters to test\n",
    "                cv=10,  # 10-fold cross validation\n",
    "                n_jobs=2,  # run each hyperparameter in one of two parallel jobs\n",
    ")\n",
    "gs_ridge.fit(X_new, y)\n",
    "y_pred_ridge_gs = gs_ridge.predict(X_new)\n",
    "# The mean squared error\n",
    "print('Mean squared error: %.2f'\n",
    "      % mean_squared_error(y, y_pred_ridge_gs))\n",
    "# The r2 score\n",
    "print('R2 Score: %.2f'\n",
    "      % r2_score(y, y_pred_ridge_gs))"
   ]
  },
  {
   "cell_type": "code",
   "execution_count": 76,
   "metadata": {},
   "outputs": [
    {
     "data": {
      "text/plain": [
       "{'alpha': 49.90000000000014}"
      ]
     },
     "execution_count": 76,
     "metadata": {},
     "output_type": "execute_result"
    }
   ],
   "source": [
    "gs_ridge.best_params_"
   ]
  },
  {
   "cell_type": "code",
   "execution_count": 77,
   "metadata": {},
   "outputs": [
    {
     "data": {
      "text/plain": [
       "array([1.48685606, 1.84913605, 2.08828877, ..., 0.34603908, 0.25715109,\n",
       "       0.77129586])"
      ]
     },
     "execution_count": 77,
     "metadata": {},
     "output_type": "execute_result"
    }
   ],
   "source": [
    "y_pred_ridge_gs"
   ]
  },
  {
   "cell_type": "code",
   "execution_count": 78,
   "metadata": {},
   "outputs": [
    {
     "name": "stdout",
     "output_type": "stream",
     "text": [
      "Mean squared error: 0.17\n",
      "R2 Score: 0.74\n"
     ]
    }
   ],
   "source": [
    "# RandomForest regression without cross-validation\n",
    "rf = RandomForestRegressor(n_estimators=100)\n",
    "pipe_rf = Pipeline([\n",
    "    ('features', features),\n",
    "    ('estimator', rf)\n",
    "])\n",
    "\n",
    "pipe_rf.fit(X, y)\n",
    "y_pred_rf = pipe_rf.predict(X)\n",
    "# The mean squared error\n",
    "print('Mean squared error: %.2f'\n",
    "      % mean_squared_error(y, y_pred_rf))\n",
    "# The r2 score\n",
    "print('R2 Score: %.2f'\n",
    "      % r2_score(y, y_pred_rf))"
   ]
  },
  {
   "cell_type": "code",
   "execution_count": 79,
   "metadata": {
    "scrolled": true
   },
   "outputs": [],
   "source": [
    "# Testing model prediction by user input\n",
    "data = pd.DataFrame([('PS4', 'Shooter', 'Activision', 8.0)], columns = ['Platform' , 'Genre', 'Publisher' , 'Critic_Score'])"
   ]
  },
  {
   "cell_type": "code",
   "execution_count": 80,
   "metadata": {},
   "outputs": [
    {
     "data": {
      "text/html": [
       "<div>\n",
       "<style scoped>\n",
       "    .dataframe tbody tr th:only-of-type {\n",
       "        vertical-align: middle;\n",
       "    }\n",
       "\n",
       "    .dataframe tbody tr th {\n",
       "        vertical-align: top;\n",
       "    }\n",
       "\n",
       "    .dataframe thead th {\n",
       "        text-align: right;\n",
       "    }\n",
       "</style>\n",
       "<table border=\"1\" class=\"dataframe\">\n",
       "  <thead>\n",
       "    <tr style=\"text-align: right;\">\n",
       "      <th></th>\n",
       "      <th>Platform</th>\n",
       "      <th>Genre</th>\n",
       "      <th>Publisher</th>\n",
       "      <th>Critic_Score</th>\n",
       "    </tr>\n",
       "  </thead>\n",
       "  <tbody>\n",
       "    <tr>\n",
       "      <th>0</th>\n",
       "      <td>PS4</td>\n",
       "      <td>Shooter</td>\n",
       "      <td>Activision</td>\n",
       "      <td>8.0</td>\n",
       "    </tr>\n",
       "  </tbody>\n",
       "</table>\n",
       "</div>"
      ],
      "text/plain": [
       "  Platform    Genre   Publisher  Critic_Score\n",
       "0      PS4  Shooter  Activision           8.0"
      ]
     },
     "execution_count": 80,
     "metadata": {},
     "output_type": "execute_result"
    }
   ],
   "source": [
    "data"
   ]
  },
  {
   "cell_type": "code",
   "execution_count": 81,
   "metadata": {},
   "outputs": [],
   "source": [
    "# Save predictive_model\n",
    "pickle.dump(pipe_rf, open('predictive_model.sav', 'wb'))"
   ]
  },
  {
   "cell_type": "code",
   "execution_count": 82,
   "metadata": {},
   "outputs": [],
   "source": [
    "pipe_rf = pickle.load(open('predictive_model.sav', 'rb'))"
   ]
  },
  {
   "cell_type": "code",
   "execution_count": 83,
   "metadata": {},
   "outputs": [
    {
     "data": {
      "text/plain": [
       "'11.023732979373557'"
      ]
     },
     "execution_count": 83,
     "metadata": {},
     "output_type": "execute_result"
    }
   ],
   "source": [
    "# Results in millions\n",
    "str(pipe_rf.predict(data).tolist()[0])"
   ]
  },
  {
   "cell_type": "code",
   "execution_count": 84,
   "metadata": {},
   "outputs": [
    {
     "data": {
      "text/plain": [
       "'11.02'"
      ]
     },
     "execution_count": 84,
     "metadata": {},
     "output_type": "execute_result"
    }
   ],
   "source": [
    "str(round(pipe_rf.predict(data).tolist()[0], 2))"
   ]
  },
  {
   "cell_type": "code",
   "execution_count": 85,
   "metadata": {
    "scrolled": true
   },
   "outputs": [
    {
     "name": "stdout",
     "output_type": "stream",
     "text": [
      "Mean squared error: 0.16\n",
      "R2 Score: 0.75\n"
     ]
    }
   ],
   "source": [
    "# RandomForest regression with cross-validation\n",
    "X_new = features.fit_transform(X,y)\n",
    "gs_rf = GridSearchCV(\n",
    "                rf,\n",
    "                {\"max_depth\": [50,60,70,80,90]},  # range of hyperparameters to test\n",
    "                cv=10,  # 10-fold cross validation\n",
    "                n_jobs=2,  # run each hyperparameter in one of two parallel jobs\n",
    ")\n",
    "gs_rf.fit(X_new, y)\n",
    "y_pred_rf_gs = gs_rf.predict(X_new)\n",
    "# The mean squared error\n",
    "print('Mean squared error: %.2f'\n",
    "      % mean_squared_error(y, y_pred_rf_gs))\n",
    "# The r2 score\n",
    "print('R2 Score: %.2f'\n",
    "      % r2_score(y, y_pred_rf_gs))"
   ]
  },
  {
   "cell_type": "code",
   "execution_count": 86,
   "metadata": {},
   "outputs": [
    {
     "data": {
      "text/plain": [
       "{'max_depth': 90}"
      ]
     },
     "execution_count": 86,
     "metadata": {},
     "output_type": "execute_result"
    }
   ],
   "source": [
    "gs_rf.best_params_"
   ]
  },
  {
   "cell_type": "code",
   "execution_count": 87,
   "metadata": {},
   "outputs": [],
   "source": [
    "# Save best_predictive_model\n",
    "pickle.dump(gs_rf, open('best_predictive_model.sav', 'wb'))"
   ]
  },
  {
   "cell_type": "code",
   "execution_count": 88,
   "metadata": {},
   "outputs": [],
   "source": [
    "gs_rf = pickle.load(open('best_predictive_model.sav', 'rb'))"
   ]
  },
  {
   "cell_type": "markdown",
   "metadata": {},
   "source": [
    "From LinearRegression, RidgeRegression to RandomForestRegressor, there is a noticeable improvement in model performance. Since the results from RandomForestRegressor with or without cross-validation are the same, I will simply use the former as my predictive model. Some additional thoughts, instead of using OneHotEncoding, What if I use Label Encoding with respect to certain hiearchy."
   ]
  },
  {
   "cell_type": "markdown",
   "metadata": {},
   "source": [
    "In summary, we have successfully predicted game global sales based on platform, genre, publisher and critic_score. As you can see above, the MSE is low as we would prefer. Ideally, top genre games and top publisher games will have bigger sales as well as popular platform games. I'm sure there is room for improvement in the model, this is yet to be explored. For now, this concludes the modeling and predicting."
   ]
  },
  {
   "cell_type": "markdown",
   "metadata": {},
   "source": [
    "#### Part 4. Building a game recommender system"
   ]
  },
  {
   "cell_type": "markdown",
   "metadata": {},
   "source": [
    "Now that we are done with business analytics, let's build a game recommender system for us consumers."
   ]
  },
  {
   "cell_type": "code",
   "execution_count": 89,
   "metadata": {},
   "outputs": [],
   "source": [
    "mask2 = (df3[\"Platform\"] == 'PS4') | (df3[\"Platform\"] == 'XOne') | (df3[\"Platform\"] == 'NS') | (df3[\"Platform\"] == 'PC')\n",
    "df_rec = df3.loc[mask2]"
   ]
  },
  {
   "cell_type": "code",
   "execution_count": 90,
   "metadata": {},
   "outputs": [],
   "source": [
    "df_rec = df_rec[['Name', 'Platform', 'Genre', 'Publisher', 'Critic_Score', 'Year']]"
   ]
  },
  {
   "cell_type": "code",
   "execution_count": 91,
   "metadata": {},
   "outputs": [
    {
     "data": {
      "text/plain": [
       "Name              0\n",
       "Platform          0\n",
       "Genre             0\n",
       "Publisher         0\n",
       "Critic_Score      0\n",
       "Year            663\n",
       "dtype: int64"
      ]
     },
     "execution_count": 91,
     "metadata": {},
     "output_type": "execute_result"
    }
   ],
   "source": [
    "df_rec.isnull().sum()"
   ]
  },
  {
   "cell_type": "code",
   "execution_count": 92,
   "metadata": {},
   "outputs": [],
   "source": [
    "df_rec = df_rec.dropna(subset=['Year'])"
   ]
  },
  {
   "cell_type": "code",
   "execution_count": 93,
   "metadata": {},
   "outputs": [],
   "source": [
    "df_rec['Critic_Score'] = df_rec['Critic_Score'].astype(int)\n",
    "df_rec['Year'] = df_rec['Year'].astype(int)"
   ]
  },
  {
   "cell_type": "code",
   "execution_count": 94,
   "metadata": {
    "scrolled": true
   },
   "outputs": [],
   "source": [
    "df_rec['Critic_Score'] = df_rec['Critic_Score'].astype(str)\n",
    "df_rec['Year'] = df_rec['Year'].astype(str)"
   ]
  },
  {
   "cell_type": "code",
   "execution_count": 95,
   "metadata": {},
   "outputs": [],
   "source": [
    "df_rec['Name'] = df_rec['Name'].str.upper() "
   ]
  },
  {
   "cell_type": "code",
   "execution_count": 96,
   "metadata": {},
   "outputs": [],
   "source": [
    "# Remove quotations in game names\n",
    "df_rec['Name'] = df_rec['Name'].str.replace('\"','')"
   ]
  },
  {
   "cell_type": "code",
   "execution_count": 97,
   "metadata": {},
   "outputs": [],
   "source": [
    "df_rec['Joined Column'] = df_rec[['Name', 'Genre', 'Publisher']].apply(lambda x: ', '.join(x), axis = 1)"
   ]
  },
  {
   "cell_type": "code",
   "execution_count": 98,
   "metadata": {},
   "outputs": [
    {
     "data": {
      "text/html": [
       "<div>\n",
       "<style scoped>\n",
       "    .dataframe tbody tr th:only-of-type {\n",
       "        vertical-align: middle;\n",
       "    }\n",
       "\n",
       "    .dataframe tbody tr th {\n",
       "        vertical-align: top;\n",
       "    }\n",
       "\n",
       "    .dataframe thead th {\n",
       "        text-align: right;\n",
       "    }\n",
       "</style>\n",
       "<table border=\"1\" class=\"dataframe\">\n",
       "  <thead>\n",
       "    <tr style=\"text-align: right;\">\n",
       "      <th></th>\n",
       "      <th>Name</th>\n",
       "      <th>Platform</th>\n",
       "      <th>Genre</th>\n",
       "      <th>Publisher</th>\n",
       "      <th>Critic_Score</th>\n",
       "      <th>Year</th>\n",
       "      <th>Joined Column</th>\n",
       "    </tr>\n",
       "  </thead>\n",
       "  <tbody>\n",
       "    <tr>\n",
       "      <th>3</th>\n",
       "      <td>PLAYERUNKNOWN'S BATTLEGROUNDS</td>\n",
       "      <td>PC</td>\n",
       "      <td>Shooter</td>\n",
       "      <td>PUBG Corporation</td>\n",
       "      <td>7</td>\n",
       "      <td>2017</td>\n",
       "      <td>PLAYERUNKNOWN'S BATTLEGROUNDS, Shooter, PUBG C...</td>\n",
       "    </tr>\n",
       "    <tr>\n",
       "      <th>9</th>\n",
       "      <td>MINECRAFT</td>\n",
       "      <td>PC</td>\n",
       "      <td>Misc</td>\n",
       "      <td>Mojang</td>\n",
       "      <td>10</td>\n",
       "      <td>2010</td>\n",
       "      <td>MINECRAFT, Misc, Mojang</td>\n",
       "    </tr>\n",
       "    <tr>\n",
       "      <th>20</th>\n",
       "      <td>GRAND THEFT AUTO V</td>\n",
       "      <td>PS4</td>\n",
       "      <td>Action</td>\n",
       "      <td>Rockstar Games</td>\n",
       "      <td>9</td>\n",
       "      <td>2014</td>\n",
       "      <td>GRAND THEFT AUTO V, Action, Rockstar Games</td>\n",
       "    </tr>\n",
       "    <tr>\n",
       "      <th>22</th>\n",
       "      <td>GARRY'S MOD</td>\n",
       "      <td>PC</td>\n",
       "      <td>Misc</td>\n",
       "      <td>Unknown</td>\n",
       "      <td>6</td>\n",
       "      <td>2004</td>\n",
       "      <td>GARRY'S MOD, Misc, Unknown</td>\n",
       "    </tr>\n",
       "    <tr>\n",
       "      <th>34</th>\n",
       "      <td>CALL OF DUTY: BLACK OPS 3</td>\n",
       "      <td>PS4</td>\n",
       "      <td>Shooter</td>\n",
       "      <td>Activision</td>\n",
       "      <td>7</td>\n",
       "      <td>2015</td>\n",
       "      <td>CALL OF DUTY: BLACK OPS 3, Shooter, Activision</td>\n",
       "    </tr>\n",
       "  </tbody>\n",
       "</table>\n",
       "</div>"
      ],
      "text/plain": [
       "                             Name Platform    Genre         Publisher  \\\n",
       "3   PLAYERUNKNOWN'S BATTLEGROUNDS       PC  Shooter  PUBG Corporation   \n",
       "9                       MINECRAFT       PC     Misc            Mojang   \n",
       "20             GRAND THEFT AUTO V      PS4   Action    Rockstar Games   \n",
       "22                    GARRY'S MOD       PC     Misc           Unknown   \n",
       "34      CALL OF DUTY: BLACK OPS 3      PS4  Shooter        Activision   \n",
       "\n",
       "   Critic_Score  Year                                      Joined Column  \n",
       "3             7  2017  PLAYERUNKNOWN'S BATTLEGROUNDS, Shooter, PUBG C...  \n",
       "9            10  2010                            MINECRAFT, Misc, Mojang  \n",
       "20            9  2014         GRAND THEFT AUTO V, Action, Rockstar Games  \n",
       "22            6  2004                         GARRY'S MOD, Misc, Unknown  \n",
       "34            7  2015     CALL OF DUTY: BLACK OPS 3, Shooter, Activision  "
      ]
     },
     "execution_count": 98,
     "metadata": {},
     "output_type": "execute_result"
    }
   ],
   "source": [
    "df_rec.head()"
   ]
  },
  {
   "cell_type": "code",
   "execution_count": 99,
   "metadata": {},
   "outputs": [],
   "source": [
    "# Save df_rec\n",
    "df_rec.to_pickle('recommender_dataframe') "
   ]
  },
  {
   "cell_type": "code",
   "execution_count": 100,
   "metadata": {},
   "outputs": [],
   "source": [
    "df_rec = pd.read_pickle('recommender_dataframe')"
   ]
  },
  {
   "cell_type": "code",
   "execution_count": 101,
   "metadata": {},
   "outputs": [],
   "source": [
    "# Compute jaccard similarity\n",
    "def get_jaccard_sim(str1, str2): \n",
    "    a = set(str1.split()) \n",
    "    b = set(str2.split())\n",
    "    c = a.intersection(b)\n",
    "    return float(len(c)) / (len(a) + len(b) - len(c))"
   ]
  },
  {
   "cell_type": "code",
   "execution_count": 102,
   "metadata": {},
   "outputs": [],
   "source": [
    "# Recommend top 5 games\n",
    "def get_recommendation(name, platform):\n",
    "    df_rec1 = df_rec[['Name', 'Platform', 'Joined Column']]\n",
    "    df_rec_final = df_rec1[df_rec1['Platform'] == platform]\n",
    "    df_rec_final = df_rec_final[['Name', 'Joined Column']]\n",
    "    game_desc = df_rec_final.groupby('Name')['Joined Column'].apply(list).to_dict() # Convert dataframe to dictionary\n",
    "    rec_dict = {}\n",
    "    for k in game_desc.keys():\n",
    "        rec_dict[k] = get_jaccard_sim(game_desc[name][0], game_desc[k][0])\n",
    "    sort_dict = sorted(rec_dict.items(), key=lambda x: x[1], reverse=True)\n",
    "    return [tp[0] + \",\" + \" sim_score: \" + str(round(tp[1],2)) for tp in sort_dict[1:11]]"
   ]
  },
  {
   "cell_type": "code",
   "execution_count": 103,
   "metadata": {},
   "outputs": [
    {
     "data": {
      "text/plain": [
       "list"
      ]
     },
     "execution_count": 103,
     "metadata": {},
     "output_type": "execute_result"
    }
   ],
   "source": [
    "type(get_recommendation('GRAND THEFT AUTO V', 'PC'))"
   ]
  },
  {
   "cell_type": "code",
   "execution_count": 104,
   "metadata": {},
   "outputs": [
    {
     "data": {
      "text/plain": [
       "['GRAND THEFT AUTO III, sim_score: 0.75',\n",
       " 'GRAND THEFT AUTO IV, sim_score: 0.75',\n",
       " 'GRAND THEFT AUTO 2, sim_score: 0.56',\n",
       " 'GRAND THEFT AUTO IV: THE COMPLETE EDITION, sim_score: 0.55',\n",
       " 'GRAND THEFT AUTO: LONDON 1969, sim_score: 0.5',\n",
       " 'GRAND THEFT AUTO: SAN ANDREAS, sim_score: 0.5',\n",
       " 'GRAND THEFT AUTO: VICE CITY, sim_score: 0.5',\n",
       " 'GRAND THEFT AUTO, sim_score: 0.44',\n",
       " 'GRAND THEFT AUTO: EPISODES FROM LIBERTY CITY, sim_score: 0.42',\n",
       " 'GRAND THEFT AUTO IV: THE LOST AND DAMNED, sim_score: 0.38']"
      ]
     },
     "execution_count": 104,
     "metadata": {},
     "output_type": "execute_result"
    }
   ],
   "source": [
    "get_recommendation('GRAND THEFT AUTO V', 'PC')"
   ]
  },
  {
   "cell_type": "code",
   "execution_count": 105,
   "metadata": {},
   "outputs": [],
   "source": [
    "rec = get_recommendation('GRAND THEFT AUTO V', 'PC')\n",
    "str_rec = \"\\n\".join(rec)"
   ]
  },
  {
   "cell_type": "code",
   "execution_count": 106,
   "metadata": {},
   "outputs": [
    {
     "name": "stdout",
     "output_type": "stream",
     "text": [
      "GRAND THEFT AUTO III, sim_score: 0.75\n",
      "GRAND THEFT AUTO IV, sim_score: 0.75\n",
      "GRAND THEFT AUTO 2, sim_score: 0.56\n",
      "GRAND THEFT AUTO IV: THE COMPLETE EDITION, sim_score: 0.55\n",
      "GRAND THEFT AUTO: LONDON 1969, sim_score: 0.5\n",
      "GRAND THEFT AUTO: SAN ANDREAS, sim_score: 0.5\n",
      "GRAND THEFT AUTO: VICE CITY, sim_score: 0.5\n",
      "GRAND THEFT AUTO, sim_score: 0.44\n",
      "GRAND THEFT AUTO: EPISODES FROM LIBERTY CITY, sim_score: 0.42\n",
      "GRAND THEFT AUTO IV: THE LOST AND DAMNED, sim_score: 0.38\n"
     ]
    }
   ],
   "source": [
    "print(str_rec)"
   ]
  },
  {
   "cell_type": "markdown",
   "metadata": {},
   "source": [
    "#### Part 5. Building a better recommender system"
   ]
  },
  {
   "cell_type": "code",
   "execution_count": 107,
   "metadata": {},
   "outputs": [],
   "source": [
    "# load df_games\n",
    "df_games = pd.read_pickle('games_dataframe')"
   ]
  },
  {
   "cell_type": "code",
   "execution_count": 108,
   "metadata": {},
   "outputs": [],
   "source": [
    "df_games['name'] = df_games['name'].str.upper()"
   ]
  },
  {
   "cell_type": "code",
   "execution_count": 109,
   "metadata": {},
   "outputs": [],
   "source": [
    "df_games['summary'] = df_games['summary'].str.upper()"
   ]
  },
  {
   "cell_type": "code",
   "execution_count": 110,
   "metadata": {},
   "outputs": [],
   "source": [
    "df_games['summary'] = df_games['summary'].str.replace(r'[^a-zA-Z]',' ')"
   ]
  },
  {
   "cell_type": "code",
   "execution_count": 111,
   "metadata": {},
   "outputs": [
    {
     "data": {
      "text/html": [
       "<div>\n",
       "<style scoped>\n",
       "    .dataframe tbody tr th:only-of-type {\n",
       "        vertical-align: middle;\n",
       "    }\n",
       "\n",
       "    .dataframe tbody tr th {\n",
       "        vertical-align: top;\n",
       "    }\n",
       "\n",
       "    .dataframe thead th {\n",
       "        text-align: right;\n",
       "    }\n",
       "</style>\n",
       "<table border=\"1\" class=\"dataframe\">\n",
       "  <thead>\n",
       "    <tr style=\"text-align: right;\">\n",
       "      <th></th>\n",
       "      <th>id</th>\n",
       "      <th>name</th>\n",
       "      <th>platforms</th>\n",
       "      <th>summary</th>\n",
       "    </tr>\n",
       "  </thead>\n",
       "  <tbody>\n",
       "    <tr>\n",
       "      <th>14</th>\n",
       "      <td>76845</td>\n",
       "      <td>VESTA</td>\n",
       "      <td>PS4</td>\n",
       "      <td>SET IN A HIGHLY TECHNOLOGICAL UNIVERSE  WITH V...</td>\n",
       "    </tr>\n",
       "    <tr>\n",
       "      <th>18</th>\n",
       "      <td>17232</td>\n",
       "      <td>COMA:MORTUARY</td>\n",
       "      <td>PS4</td>\n",
       "      <td>THE STORY IS ABOUT A GUY WHO HAS LOST MEANING ...</td>\n",
       "    </tr>\n",
       "    <tr>\n",
       "      <th>20</th>\n",
       "      <td>119218</td>\n",
       "      <td>ARCADE ARCHIVES ALPINE SKI</td>\n",
       "      <td>PS4</td>\n",
       "      <td>ALPINE SKI IS AN ARCADE SPORTS GAME RELEASED B...</td>\n",
       "    </tr>\n",
       "    <tr>\n",
       "      <th>22</th>\n",
       "      <td>55038</td>\n",
       "      <td>IMMORTAL: UNCHAINED</td>\n",
       "      <td>PS4</td>\n",
       "      <td>IMMORTAL  UNCHAINED IS A SOULS INSPIRED THIRD ...</td>\n",
       "    </tr>\n",
       "    <tr>\n",
       "      <th>23</th>\n",
       "      <td>41058</td>\n",
       "      <td>THE SEVEN DEADLY SINS: KNIGHTS OF BRITANNIA</td>\n",
       "      <td>PS4</td>\n",
       "      <td>BASED ON THE POPULAR MANGA AND ANIME SERIES TH...</td>\n",
       "    </tr>\n",
       "  </tbody>\n",
       "</table>\n",
       "</div>"
      ],
      "text/plain": [
       "        id                                         name platforms  \\\n",
       "14   76845                                        VESTA       PS4   \n",
       "18   17232                                COMA:MORTUARY       PS4   \n",
       "20  119218                   ARCADE ARCHIVES ALPINE SKI       PS4   \n",
       "22   55038                          IMMORTAL: UNCHAINED       PS4   \n",
       "23   41058  THE SEVEN DEADLY SINS: KNIGHTS OF BRITANNIA       PS4   \n",
       "\n",
       "                                              summary  \n",
       "14  SET IN A HIGHLY TECHNOLOGICAL UNIVERSE  WITH V...  \n",
       "18  THE STORY IS ABOUT A GUY WHO HAS LOST MEANING ...  \n",
       "20  ALPINE SKI IS AN ARCADE SPORTS GAME RELEASED B...  \n",
       "22  IMMORTAL  UNCHAINED IS A SOULS INSPIRED THIRD ...  \n",
       "23  BASED ON THE POPULAR MANGA AND ANIME SERIES TH...  "
      ]
     },
     "execution_count": 111,
     "metadata": {},
     "output_type": "execute_result"
    }
   ],
   "source": [
    "# platform 48 is ps4\n",
    "df_ps4 = df_games[df_games['platforms'].str.contains(\"48\")]\n",
    "df_ps4['platforms'] = 'PS4'\n",
    "df_ps4.head()"
   ]
  },
  {
   "cell_type": "code",
   "execution_count": 112,
   "metadata": {},
   "outputs": [
    {
     "data": {
      "text/html": [
       "<div>\n",
       "<style scoped>\n",
       "    .dataframe tbody tr th:only-of-type {\n",
       "        vertical-align: middle;\n",
       "    }\n",
       "\n",
       "    .dataframe tbody tr th {\n",
       "        vertical-align: top;\n",
       "    }\n",
       "\n",
       "    .dataframe thead th {\n",
       "        text-align: right;\n",
       "    }\n",
       "</style>\n",
       "<table border=\"1\" class=\"dataframe\">\n",
       "  <thead>\n",
       "    <tr style=\"text-align: right;\">\n",
       "      <th></th>\n",
       "      <th>id</th>\n",
       "      <th>name</th>\n",
       "      <th>platforms</th>\n",
       "      <th>summary</th>\n",
       "    </tr>\n",
       "  </thead>\n",
       "  <tbody>\n",
       "    <tr>\n",
       "      <th>11</th>\n",
       "      <td>111226</td>\n",
       "      <td>LOST ARTIFACTS: TIME MACHINE</td>\n",
       "      <td>XONE</td>\n",
       "      <td>LOST ARTIFACTS  TIME MACHINE IS AN EXCITING ST...</td>\n",
       "    </tr>\n",
       "    <tr>\n",
       "      <th>22</th>\n",
       "      <td>55038</td>\n",
       "      <td>IMMORTAL: UNCHAINED</td>\n",
       "      <td>XONE</td>\n",
       "      <td>IMMORTAL  UNCHAINED IS A SOULS INSPIRED THIRD ...</td>\n",
       "    </tr>\n",
       "    <tr>\n",
       "      <th>25</th>\n",
       "      <td>111576</td>\n",
       "      <td>ZEROPTIAN INVASION</td>\n",
       "      <td>XONE</td>\n",
       "      <td>ZEROPTIAN INVASION IS A CLASSIC SHUMP WITH MEC...</td>\n",
       "    </tr>\n",
       "    <tr>\n",
       "      <th>28</th>\n",
       "      <td>75868</td>\n",
       "      <td>FARMING SIMULATOR 17: PLATINUM EDITION</td>\n",
       "      <td>XONE</td>\n",
       "      <td>TAKE ON THE ROLE OF A MODERN FARMER IN FARMING...</td>\n",
       "    </tr>\n",
       "    <tr>\n",
       "      <th>46</th>\n",
       "      <td>28061</td>\n",
       "      <td>OVERWATCH - COLLECTOR'S EDITION</td>\n",
       "      <td>XONE</td>\n",
       "      <td>THE OVERWATCH COLLECTOR S EDITION IS PACKED FU...</td>\n",
       "    </tr>\n",
       "  </tbody>\n",
       "</table>\n",
       "</div>"
      ],
      "text/plain": [
       "        id                                    name platforms  \\\n",
       "11  111226            LOST ARTIFACTS: TIME MACHINE      XONE   \n",
       "22   55038                     IMMORTAL: UNCHAINED      XONE   \n",
       "25  111576                      ZEROPTIAN INVASION      XONE   \n",
       "28   75868  FARMING SIMULATOR 17: PLATINUM EDITION      XONE   \n",
       "46   28061         OVERWATCH - COLLECTOR'S EDITION      XONE   \n",
       "\n",
       "                                              summary  \n",
       "11  LOST ARTIFACTS  TIME MACHINE IS AN EXCITING ST...  \n",
       "22  IMMORTAL  UNCHAINED IS A SOULS INSPIRED THIRD ...  \n",
       "25  ZEROPTIAN INVASION IS A CLASSIC SHUMP WITH MEC...  \n",
       "28  TAKE ON THE ROLE OF A MODERN FARMER IN FARMING...  \n",
       "46  THE OVERWATCH COLLECTOR S EDITION IS PACKED FU...  "
      ]
     },
     "execution_count": 112,
     "metadata": {},
     "output_type": "execute_result"
    }
   ],
   "source": [
    "# plaform 49 is xone\n",
    "df_xone = df_games[df_games['platforms'].str.contains(\"49\")]\n",
    "df_xone['platforms'] = 'XONE'\n",
    "df_xone.head()"
   ]
  },
  {
   "cell_type": "code",
   "execution_count": 113,
   "metadata": {},
   "outputs": [
    {
     "data": {
      "text/html": [
       "<div>\n",
       "<style scoped>\n",
       "    .dataframe tbody tr th:only-of-type {\n",
       "        vertical-align: middle;\n",
       "    }\n",
       "\n",
       "    .dataframe tbody tr th {\n",
       "        vertical-align: top;\n",
       "    }\n",
       "\n",
       "    .dataframe thead th {\n",
       "        text-align: right;\n",
       "    }\n",
       "</style>\n",
       "<table border=\"1\" class=\"dataframe\">\n",
       "  <thead>\n",
       "    <tr style=\"text-align: right;\">\n",
       "      <th></th>\n",
       "      <th>id</th>\n",
       "      <th>name</th>\n",
       "      <th>platforms</th>\n",
       "      <th>summary</th>\n",
       "    </tr>\n",
       "  </thead>\n",
       "  <tbody>\n",
       "    <tr>\n",
       "      <th>10</th>\n",
       "      <td>86241</td>\n",
       "      <td>MAD CARNAGE</td>\n",
       "      <td>NS</td>\n",
       "      <td>IN THE WORLD AFTER THE GREAT WAR  YOU WILL TAK...</td>\n",
       "    </tr>\n",
       "    <tr>\n",
       "      <th>14</th>\n",
       "      <td>76845</td>\n",
       "      <td>VESTA</td>\n",
       "      <td>NS</td>\n",
       "      <td>SET IN A HIGHLY TECHNOLOGICAL UNIVERSE  WITH V...</td>\n",
       "    </tr>\n",
       "    <tr>\n",
       "      <th>16</th>\n",
       "      <td>5145</td>\n",
       "      <td>SECRET FILES: TUNGUSKA</td>\n",
       "      <td>NS</td>\n",
       "      <td>UNRAVEL ONE OF THE GREATEST MYSTERIES OF OUR T...</td>\n",
       "    </tr>\n",
       "    <tr>\n",
       "      <th>20</th>\n",
       "      <td>119218</td>\n",
       "      <td>ARCADE ARCHIVES ALPINE SKI</td>\n",
       "      <td>NS</td>\n",
       "      <td>ALPINE SKI IS AN ARCADE SPORTS GAME RELEASED B...</td>\n",
       "    </tr>\n",
       "    <tr>\n",
       "      <th>50</th>\n",
       "      <td>26545</td>\n",
       "      <td>COMBAT CORE</td>\n",
       "      <td>NS</td>\n",
       "      <td>COMBAT CORE IS A  D ARENA FIGHTING GAME SPORTI...</td>\n",
       "    </tr>\n",
       "  </tbody>\n",
       "</table>\n",
       "</div>"
      ],
      "text/plain": [
       "        id                        name platforms  \\\n",
       "10   86241                 MAD CARNAGE        NS   \n",
       "14   76845                       VESTA        NS   \n",
       "16    5145      SECRET FILES: TUNGUSKA        NS   \n",
       "20  119218  ARCADE ARCHIVES ALPINE SKI        NS   \n",
       "50   26545                 COMBAT CORE        NS   \n",
       "\n",
       "                                              summary  \n",
       "10  IN THE WORLD AFTER THE GREAT WAR  YOU WILL TAK...  \n",
       "14  SET IN A HIGHLY TECHNOLOGICAL UNIVERSE  WITH V...  \n",
       "16  UNRAVEL ONE OF THE GREATEST MYSTERIES OF OUR T...  \n",
       "20  ALPINE SKI IS AN ARCADE SPORTS GAME RELEASED B...  \n",
       "50  COMBAT CORE IS A  D ARENA FIGHTING GAME SPORTI...  "
      ]
     },
     "execution_count": 113,
     "metadata": {},
     "output_type": "execute_result"
    }
   ],
   "source": [
    "# platform 130 is ns\n",
    "df_ns = df_games[df_games['platforms'].str.contains(\"130\")]\n",
    "df_ns['platforms'] = 'NS'\n",
    "df_ns.head()"
   ]
  },
  {
   "cell_type": "code",
   "execution_count": 114,
   "metadata": {
    "scrolled": false
   },
   "outputs": [
    {
     "data": {
      "text/html": [
       "<div>\n",
       "<style scoped>\n",
       "    .dataframe tbody tr th:only-of-type {\n",
       "        vertical-align: middle;\n",
       "    }\n",
       "\n",
       "    .dataframe tbody tr th {\n",
       "        vertical-align: top;\n",
       "    }\n",
       "\n",
       "    .dataframe thead th {\n",
       "        text-align: right;\n",
       "    }\n",
       "</style>\n",
       "<table border=\"1\" class=\"dataframe\">\n",
       "  <thead>\n",
       "    <tr style=\"text-align: right;\">\n",
       "      <th></th>\n",
       "      <th>id</th>\n",
       "      <th>name</th>\n",
       "      <th>platforms</th>\n",
       "      <th>summary</th>\n",
       "    </tr>\n",
       "  </thead>\n",
       "  <tbody>\n",
       "    <tr>\n",
       "      <th>0</th>\n",
       "      <td>34116</td>\n",
       "      <td>LEMURZIN</td>\n",
       "      <td>PC</td>\n",
       "      <td>LEMURZIN IS A UNIQUE CRAZY RUNNER GAME  PLAY F...</td>\n",
       "    </tr>\n",
       "    <tr>\n",
       "      <th>1</th>\n",
       "      <td>74857</td>\n",
       "      <td>TRANSCEND</td>\n",
       "      <td>PC</td>\n",
       "      <td>A PUZZLE PLATFORMER IN WHICH YOU TRANSCEND LIF...</td>\n",
       "    </tr>\n",
       "    <tr>\n",
       "      <th>2</th>\n",
       "      <td>52269</td>\n",
       "      <td>ALL HAZE EVE</td>\n",
       "      <td>PC</td>\n",
       "      <td>A  D ADVENTURE GAME WHERE YOU RE FOLLOWING A M...</td>\n",
       "    </tr>\n",
       "    <tr>\n",
       "      <th>3</th>\n",
       "      <td>138149</td>\n",
       "      <td>JUNIOR ARITHMANCER</td>\n",
       "      <td>PC</td>\n",
       "      <td>A ONE TO MANY ROOM PUZZLER</td>\n",
       "    </tr>\n",
       "    <tr>\n",
       "      <th>5</th>\n",
       "      <td>68841</td>\n",
       "      <td>CAPTIVUS</td>\n",
       "      <td>PC</td>\n",
       "      <td>JOIN THE MOVEMENT  BUILD A DECK  EQUIP YOUR SH...</td>\n",
       "    </tr>\n",
       "  </tbody>\n",
       "</table>\n",
       "</div>"
      ],
      "text/plain": [
       "       id                name platforms  \\\n",
       "0   34116            LEMURZIN        PC   \n",
       "1   74857           TRANSCEND        PC   \n",
       "2   52269        ALL HAZE EVE        PC   \n",
       "3  138149  JUNIOR ARITHMANCER        PC   \n",
       "5   68841            CAPTIVUS        PC   \n",
       "\n",
       "                                             summary  \n",
       "0  LEMURZIN IS A UNIQUE CRAZY RUNNER GAME  PLAY F...  \n",
       "1  A PUZZLE PLATFORMER IN WHICH YOU TRANSCEND LIF...  \n",
       "2  A  D ADVENTURE GAME WHERE YOU RE FOLLOWING A M...  \n",
       "3                        A ONE TO MANY ROOM PUZZLER   \n",
       "5  JOIN THE MOVEMENT  BUILD A DECK  EQUIP YOUR SH...  "
      ]
     },
     "execution_count": 114,
     "metadata": {},
     "output_type": "execute_result"
    }
   ],
   "source": [
    "# platform 6 is pc\n",
    "df_pc = df_games[df_games['platforms'].str.contains(\"6\")]\n",
    "df_pc['platforms'] = 'PC'\n",
    "df_pc.head()"
   ]
  },
  {
   "cell_type": "code",
   "execution_count": 115,
   "metadata": {},
   "outputs": [
    {
     "data": {
      "text/plain": [
       "201756"
      ]
     },
     "execution_count": 115,
     "metadata": {},
     "output_type": "execute_result"
    }
   ],
   "source": [
    "df_ps4.size + df_xone.size + df_ns.size + df_pc.size"
   ]
  },
  {
   "cell_type": "code",
   "execution_count": 116,
   "metadata": {},
   "outputs": [],
   "source": [
    "df_merge = df_ps4.append(df_xone).append(df_ns).append(df_pc)"
   ]
  },
  {
   "cell_type": "code",
   "execution_count": 117,
   "metadata": {},
   "outputs": [
    {
     "data": {
      "text/html": [
       "<div>\n",
       "<style scoped>\n",
       "    .dataframe tbody tr th:only-of-type {\n",
       "        vertical-align: middle;\n",
       "    }\n",
       "\n",
       "    .dataframe tbody tr th {\n",
       "        vertical-align: top;\n",
       "    }\n",
       "\n",
       "    .dataframe thead th {\n",
       "        text-align: right;\n",
       "    }\n",
       "</style>\n",
       "<table border=\"1\" class=\"dataframe\">\n",
       "  <thead>\n",
       "    <tr style=\"text-align: right;\">\n",
       "      <th></th>\n",
       "      <th>id</th>\n",
       "      <th>name</th>\n",
       "      <th>platforms</th>\n",
       "      <th>summary</th>\n",
       "    </tr>\n",
       "  </thead>\n",
       "  <tbody>\n",
       "    <tr>\n",
       "      <th>14</th>\n",
       "      <td>76845</td>\n",
       "      <td>VESTA</td>\n",
       "      <td>PS4</td>\n",
       "      <td>SET IN A HIGHLY TECHNOLOGICAL UNIVERSE  WITH V...</td>\n",
       "    </tr>\n",
       "    <tr>\n",
       "      <th>18</th>\n",
       "      <td>17232</td>\n",
       "      <td>COMA:MORTUARY</td>\n",
       "      <td>PS4</td>\n",
       "      <td>THE STORY IS ABOUT A GUY WHO HAS LOST MEANING ...</td>\n",
       "    </tr>\n",
       "    <tr>\n",
       "      <th>20</th>\n",
       "      <td>119218</td>\n",
       "      <td>ARCADE ARCHIVES ALPINE SKI</td>\n",
       "      <td>PS4</td>\n",
       "      <td>ALPINE SKI IS AN ARCADE SPORTS GAME RELEASED B...</td>\n",
       "    </tr>\n",
       "    <tr>\n",
       "      <th>22</th>\n",
       "      <td>55038</td>\n",
       "      <td>IMMORTAL: UNCHAINED</td>\n",
       "      <td>PS4</td>\n",
       "      <td>IMMORTAL  UNCHAINED IS A SOULS INSPIRED THIRD ...</td>\n",
       "    </tr>\n",
       "    <tr>\n",
       "      <th>23</th>\n",
       "      <td>41058</td>\n",
       "      <td>THE SEVEN DEADLY SINS: KNIGHTS OF BRITANNIA</td>\n",
       "      <td>PS4</td>\n",
       "      <td>BASED ON THE POPULAR MANGA AND ANIME SERIES TH...</td>\n",
       "    </tr>\n",
       "    <tr>\n",
       "      <th>...</th>\n",
       "      <td>...</td>\n",
       "      <td>...</td>\n",
       "      <td>...</td>\n",
       "      <td>...</td>\n",
       "    </tr>\n",
       "    <tr>\n",
       "      <th>40847</th>\n",
       "      <td>10989</td>\n",
       "      <td>THREE FOURTHS HOME</td>\n",
       "      <td>PC</td>\n",
       "      <td>IN HER MID    S  KELLY HAS BEEN FORCED TO MOVE...</td>\n",
       "    </tr>\n",
       "    <tr>\n",
       "      <th>40848</th>\n",
       "      <td>21024</td>\n",
       "      <td>DMC: DEVIL MAY CRY - VERGIL'S DOWNFALL</td>\n",
       "      <td>PC</td>\n",
       "      <td>ASIDE FROM PLAYING AS VERGIL THROUGHOUT THE CO...</td>\n",
       "    </tr>\n",
       "    <tr>\n",
       "      <th>40849</th>\n",
       "      <td>139748</td>\n",
       "      <td>SURFACE: THE PANTHEON</td>\n",
       "      <td>PC</td>\n",
       "      <td>IT SHOULD HAVE BEEN A TREMENDOUS ACHIEVEMENT  ...</td>\n",
       "    </tr>\n",
       "    <tr>\n",
       "      <th>40850</th>\n",
       "      <td>2971</td>\n",
       "      <td>LINEAGE 2</td>\n",
       "      <td>PC</td>\n",
       "      <td>LINEAGE II IS A MASSIVE MULTIPLAYER ONLINE ROL...</td>\n",
       "    </tr>\n",
       "    <tr>\n",
       "      <th>40853</th>\n",
       "      <td>75234</td>\n",
       "      <td>GUACAMELEE! 2</td>\n",
       "      <td>PC</td>\n",
       "      <td>SEVEN YEARS AFTER DEFEATING CARLOS CALACA  JUA...</td>\n",
       "    </tr>\n",
       "  </tbody>\n",
       "</table>\n",
       "<p>50439 rows × 4 columns</p>\n",
       "</div>"
      ],
      "text/plain": [
       "           id                                         name platforms  \\\n",
       "14      76845                                        VESTA       PS4   \n",
       "18      17232                                COMA:MORTUARY       PS4   \n",
       "20     119218                   ARCADE ARCHIVES ALPINE SKI       PS4   \n",
       "22      55038                          IMMORTAL: UNCHAINED       PS4   \n",
       "23      41058  THE SEVEN DEADLY SINS: KNIGHTS OF BRITANNIA       PS4   \n",
       "...       ...                                          ...       ...   \n",
       "40847   10989                           THREE FOURTHS HOME        PC   \n",
       "40848   21024       DMC: DEVIL MAY CRY - VERGIL'S DOWNFALL        PC   \n",
       "40849  139748                        SURFACE: THE PANTHEON        PC   \n",
       "40850    2971                                    LINEAGE 2        PC   \n",
       "40853   75234                                GUACAMELEE! 2        PC   \n",
       "\n",
       "                                                 summary  \n",
       "14     SET IN A HIGHLY TECHNOLOGICAL UNIVERSE  WITH V...  \n",
       "18     THE STORY IS ABOUT A GUY WHO HAS LOST MEANING ...  \n",
       "20     ALPINE SKI IS AN ARCADE SPORTS GAME RELEASED B...  \n",
       "22     IMMORTAL  UNCHAINED IS A SOULS INSPIRED THIRD ...  \n",
       "23     BASED ON THE POPULAR MANGA AND ANIME SERIES TH...  \n",
       "...                                                  ...  \n",
       "40847  IN HER MID    S  KELLY HAS BEEN FORCED TO MOVE...  \n",
       "40848  ASIDE FROM PLAYING AS VERGIL THROUGHOUT THE CO...  \n",
       "40849  IT SHOULD HAVE BEEN A TREMENDOUS ACHIEVEMENT  ...  \n",
       "40850  LINEAGE II IS A MASSIVE MULTIPLAYER ONLINE ROL...  \n",
       "40853  SEVEN YEARS AFTER DEFEATING CARLOS CALACA  JUA...  \n",
       "\n",
       "[50439 rows x 4 columns]"
      ]
     },
     "execution_count": 117,
     "metadata": {},
     "output_type": "execute_result"
    }
   ],
   "source": [
    "df_merge"
   ]
  },
  {
   "cell_type": "code",
   "execution_count": 118,
   "metadata": {
    "scrolled": false
   },
   "outputs": [
    {
     "data": {
      "text/html": [
       "<div>\n",
       "<style scoped>\n",
       "    .dataframe tbody tr th:only-of-type {\n",
       "        vertical-align: middle;\n",
       "    }\n",
       "\n",
       "    .dataframe tbody tr th {\n",
       "        vertical-align: top;\n",
       "    }\n",
       "\n",
       "    .dataframe thead th {\n",
       "        text-align: right;\n",
       "    }\n",
       "</style>\n",
       "<table border=\"1\" class=\"dataframe\">\n",
       "  <thead>\n",
       "    <tr style=\"text-align: right;\">\n",
       "      <th></th>\n",
       "      <th>id</th>\n",
       "      <th>name</th>\n",
       "      <th>platforms</th>\n",
       "      <th>summary</th>\n",
       "    </tr>\n",
       "  </thead>\n",
       "  <tbody>\n",
       "    <tr>\n",
       "      <th>14</th>\n",
       "      <td>76845</td>\n",
       "      <td>VESTA</td>\n",
       "      <td>PS4</td>\n",
       "      <td>SET IN A HIGHLY TECHNOLOGICAL UNIVERSE  WITH V...</td>\n",
       "    </tr>\n",
       "    <tr>\n",
       "      <th>18</th>\n",
       "      <td>17232</td>\n",
       "      <td>COMA:MORTUARY</td>\n",
       "      <td>PS4</td>\n",
       "      <td>THE STORY IS ABOUT A GUY WHO HAS LOST MEANING ...</td>\n",
       "    </tr>\n",
       "    <tr>\n",
       "      <th>20</th>\n",
       "      <td>119218</td>\n",
       "      <td>ARCADE ARCHIVES ALPINE SKI</td>\n",
       "      <td>PS4</td>\n",
       "      <td>ALPINE SKI IS AN ARCADE SPORTS GAME RELEASED B...</td>\n",
       "    </tr>\n",
       "    <tr>\n",
       "      <th>22</th>\n",
       "      <td>55038</td>\n",
       "      <td>IMMORTAL: UNCHAINED</td>\n",
       "      <td>PS4</td>\n",
       "      <td>IMMORTAL  UNCHAINED IS A SOULS INSPIRED THIRD ...</td>\n",
       "    </tr>\n",
       "    <tr>\n",
       "      <th>23</th>\n",
       "      <td>41058</td>\n",
       "      <td>THE SEVEN DEADLY SINS: KNIGHTS OF BRITANNIA</td>\n",
       "      <td>PS4</td>\n",
       "      <td>BASED ON THE POPULAR MANGA AND ANIME SERIES TH...</td>\n",
       "    </tr>\n",
       "  </tbody>\n",
       "</table>\n",
       "</div>"
      ],
      "text/plain": [
       "        id                                         name platforms  \\\n",
       "14   76845                                        VESTA       PS4   \n",
       "18   17232                                COMA:MORTUARY       PS4   \n",
       "20  119218                   ARCADE ARCHIVES ALPINE SKI       PS4   \n",
       "22   55038                          IMMORTAL: UNCHAINED       PS4   \n",
       "23   41058  THE SEVEN DEADLY SINS: KNIGHTS OF BRITANNIA       PS4   \n",
       "\n",
       "                                              summary  \n",
       "14  SET IN A HIGHLY TECHNOLOGICAL UNIVERSE  WITH V...  \n",
       "18  THE STORY IS ABOUT A GUY WHO HAS LOST MEANING ...  \n",
       "20  ALPINE SKI IS AN ARCADE SPORTS GAME RELEASED B...  \n",
       "22  IMMORTAL  UNCHAINED IS A SOULS INSPIRED THIRD ...  \n",
       "23  BASED ON THE POPULAR MANGA AND ANIME SERIES TH...  "
      ]
     },
     "execution_count": 118,
     "metadata": {},
     "output_type": "execute_result"
    }
   ],
   "source": [
    "df_merge.head()"
   ]
  },
  {
   "cell_type": "code",
   "execution_count": 119,
   "metadata": {},
   "outputs": [],
   "source": [
    "# Save df_merge\n",
    "df_merge.to_pickle('total_games_dataframe') "
   ]
  },
  {
   "cell_type": "code",
   "execution_count": 120,
   "metadata": {},
   "outputs": [],
   "source": [
    "df_merge = pd.read_pickle('total_games_dataframe')"
   ]
  },
  {
   "cell_type": "code",
   "execution_count": 121,
   "metadata": {},
   "outputs": [
    {
     "data": {
      "text/plain": [
       "array(['PS4', 'XONE', 'NS', 'PC'], dtype=object)"
      ]
     },
     "execution_count": 121,
     "metadata": {},
     "output_type": "execute_result"
    }
   ],
   "source": [
    "df_merge['platforms'].unique()"
   ]
  },
  {
   "cell_type": "code",
   "execution_count": 122,
   "metadata": {},
   "outputs": [],
   "source": [
    "tfidf = TfidfVectorizer(stop_words='english', ngram_range=(2,2))"
   ]
  },
  {
   "cell_type": "code",
   "execution_count": 123,
   "metadata": {},
   "outputs": [],
   "source": [
    "tfidf_dict = {}\n",
    "for platform in df_merge['platforms'].unique():\n",
    "    tfidf_dict[platform]= tfidf.fit_transform(df_merge[df_merge['platforms']==platform].reset_index(drop=True)['summary'])"
   ]
  },
  {
   "cell_type": "code",
   "execution_count": 124,
   "metadata": {},
   "outputs": [],
   "source": [
    "# save tfidf_dict\n",
    "pickle.dump(tfidf_dict, open(\"tfidf_dict.d\", \"wb\"))"
   ]
  },
  {
   "cell_type": "code",
   "execution_count": 125,
   "metadata": {},
   "outputs": [],
   "source": [
    "tfidf_dict = pickle.load(open(\"tfidf_dict.d\", \"rb\"))"
   ]
  },
  {
   "cell_type": "code",
   "execution_count": 126,
   "metadata": {},
   "outputs": [
    {
     "data": {
      "text/plain": [
       "dict_keys(['PS4', 'XONE', 'NS', 'PC'])"
      ]
     },
     "execution_count": 126,
     "metadata": {},
     "output_type": "execute_result"
    }
   ],
   "source": [
    "tfidf_dict.keys()"
   ]
  },
  {
   "cell_type": "code",
   "execution_count": 127,
   "metadata": {
    "scrolled": true
   },
   "outputs": [
    {
     "data": {
      "text/plain": [
       "(5010, 156989)"
      ]
     },
     "execution_count": 127,
     "metadata": {},
     "output_type": "execute_result"
    }
   ],
   "source": [
    "tfidf_dict['PS4'].shape"
   ]
  },
  {
   "cell_type": "code",
   "execution_count": 128,
   "metadata": {},
   "outputs": [],
   "source": [
    "tfidf_sim = {}\n",
    "for key in tfidf_dict.keys():\n",
    "    tfidf_sim[key] = cosine_similarity(tfidf_dict[key])"
   ]
  },
  {
   "cell_type": "code",
   "execution_count": 129,
   "metadata": {},
   "outputs": [],
   "source": [
    "# # save tfidf_sim\n",
    "# pickle.dump(tfidf_sim, open(\"tfidf_sim.m\", \"wb\"))"
   ]
  },
  {
   "cell_type": "code",
   "execution_count": 130,
   "metadata": {},
   "outputs": [],
   "source": [
    "# tfidf_sim = pickle.load(open(\"tfidf_sim.m\", \"rb\"))"
   ]
  },
  {
   "cell_type": "code",
   "execution_count": 131,
   "metadata": {},
   "outputs": [],
   "source": [
    "indices = pd.Series(df_merge[df_merge['platforms']=='PS4'].reset_index(drop=True).index, index=df_merge[df_merge['platforms']=='PS4'].reset_index(drop=True)['name']).drop_duplicates()"
   ]
  },
  {
   "cell_type": "code",
   "execution_count": 132,
   "metadata": {},
   "outputs": [],
   "source": [
    "df_test = df_merge[df_merge['platforms']=='PS4'].reset_index(drop=True)"
   ]
  },
  {
   "cell_type": "code",
   "execution_count": 133,
   "metadata": {},
   "outputs": [
    {
     "data": {
      "text/plain": [
       "RangeIndex(start=0, stop=5010, step=1)"
      ]
     },
     "execution_count": 133,
     "metadata": {},
     "output_type": "execute_result"
    }
   ],
   "source": [
    "df_test.index"
   ]
  },
  {
   "cell_type": "code",
   "execution_count": 134,
   "metadata": {},
   "outputs": [],
   "source": [
    "idx = indices['GRAND THEFT AUTO V']"
   ]
  },
  {
   "cell_type": "code",
   "execution_count": 135,
   "metadata": {},
   "outputs": [
    {
     "data": {
      "text/plain": [
       "3930"
      ]
     },
     "execution_count": 135,
     "metadata": {},
     "output_type": "execute_result"
    }
   ],
   "source": [
    "idx"
   ]
  },
  {
   "cell_type": "code",
   "execution_count": 136,
   "metadata": {},
   "outputs": [],
   "source": [
    "sim_scores = list(enumerate(tfidf_sim['PS4'][idx]))"
   ]
  },
  {
   "cell_type": "code",
   "execution_count": 137,
   "metadata": {},
   "outputs": [
    {
     "data": {
      "text/plain": [
       "[(0, 0.0),\n",
       " (1, 0.0),\n",
       " (2, 0.0),\n",
       " (3, 0.0),\n",
       " (4, 0.0),\n",
       " (5, 0.0),\n",
       " (6, 0.0),\n",
       " (7, 0.0),\n",
       " (8, 0.0),\n",
       " (9, 0.0),\n",
       " (10, 0.0),\n",
       " (11, 0.0),\n",
       " (12, 0.0),\n",
       " (13, 0.0),\n",
       " (14, 0.0),\n",
       " (15, 0.0),\n",
       " (16, 0.0),\n",
       " (17, 0.0),\n",
       " (18, 0.0),\n",
       " (19, 0.0),\n",
       " (20, 0.0),\n",
       " (21, 0.0),\n",
       " (22, 0.0),\n",
       " (23, 0.0),\n",
       " (24, 0.0),\n",
       " (25, 0.0),\n",
       " (26, 0.0),\n",
       " (27, 0.0),\n",
       " (28, 0.011157413337774265),\n",
       " (29, 0.014426287077627485),\n",
       " (30, 0.0),\n",
       " (31, 0.0),\n",
       " (32, 0.01307410796286024),\n",
       " (33, 0.0),\n",
       " (34, 0.0),\n",
       " (35, 0.0),\n",
       " (36, 0.0),\n",
       " (37, 0.0),\n",
       " (38, 0.0),\n",
       " (39, 0.0),\n",
       " (40, 0.0),\n",
       " (41, 0.0),\n",
       " (42, 0.0),\n",
       " (43, 0.0),\n",
       " (44, 0.0),\n",
       " (45, 0.0),\n",
       " (46, 0.0),\n",
       " (47, 0.0),\n",
       " (48, 0.0),\n",
       " (49, 0.0),\n",
       " (50, 0.0),\n",
       " (51, 0.0),\n",
       " (52, 0.0),\n",
       " (53, 0.0),\n",
       " (54, 0.0),\n",
       " (55, 0.0),\n",
       " (56, 0.0),\n",
       " (57, 0.0),\n",
       " (58, 0.0),\n",
       " (59, 0.0),\n",
       " (60, 0.0),\n",
       " (61, 0.0),\n",
       " (62, 0.0),\n",
       " (63, 0.0),\n",
       " (64, 0.0),\n",
       " (65, 0.0),\n",
       " (66, 0.0),\n",
       " (67, 0.0),\n",
       " (68, 0.0),\n",
       " (69, 0.0),\n",
       " (70, 0.0),\n",
       " (71, 0.0),\n",
       " (72, 0.0),\n",
       " (73, 0.0),\n",
       " (74, 0.008493663450299302),\n",
       " (75, 0.0),\n",
       " (76, 0.0),\n",
       " (77, 0.0),\n",
       " (78, 0.0),\n",
       " (79, 0.029844150392614583),\n",
       " (80, 0.0),\n",
       " (81, 0.0),\n",
       " (82, 0.0),\n",
       " (83, 0.01579361734633226),\n",
       " (84, 0.0),\n",
       " (85, 0.0),\n",
       " (86, 0.0),\n",
       " (87, 0.0),\n",
       " (88, 0.0),\n",
       " (89, 0.0),\n",
       " (90, 0.0),\n",
       " (91, 0.0),\n",
       " (92, 0.0),\n",
       " (93, 0.0),\n",
       " (94, 0.0),\n",
       " (95, 0.0),\n",
       " (96, 0.0),\n",
       " (97, 0.0),\n",
       " (98, 0.0),\n",
       " (99, 0.0),\n",
       " (100, 0.0),\n",
       " (101, 0.0),\n",
       " (102, 0.0),\n",
       " (103, 0.0),\n",
       " (104, 0.0),\n",
       " (105, 0.0),\n",
       " (106, 0.0),\n",
       " (107, 0.0),\n",
       " (108, 0.0),\n",
       " (109, 0.0),\n",
       " (110, 0.0),\n",
       " (111, 0.0),\n",
       " (112, 0.0),\n",
       " (113, 0.0),\n",
       " (114, 0.0),\n",
       " (115, 0.0),\n",
       " (116, 0.0),\n",
       " (117, 0.0),\n",
       " (118, 0.0),\n",
       " (119, 0.0),\n",
       " (120, 0.0),\n",
       " (121, 0.0),\n",
       " (122, 0.0),\n",
       " (123, 0.0),\n",
       " (124, 0.0),\n",
       " (125, 0.0),\n",
       " (126, 0.0),\n",
       " (127, 0.0),\n",
       " (128, 0.0),\n",
       " (129, 0.0),\n",
       " (130, 0.0),\n",
       " (131, 0.0),\n",
       " (132, 0.0),\n",
       " (133, 0.0),\n",
       " (134, 0.0),\n",
       " (135, 0.0),\n",
       " (136, 0.0),\n",
       " (137, 0.0),\n",
       " (138, 0.0),\n",
       " (139, 0.0),\n",
       " (140, 0.0),\n",
       " (141, 0.0),\n",
       " (142, 0.0),\n",
       " (143, 0.004711996548218521),\n",
       " (144, 0.0),\n",
       " (145, 0.0),\n",
       " (146, 0.0),\n",
       " (147, 0.0),\n",
       " (148, 0.0),\n",
       " (149, 0.0),\n",
       " (150, 0.0),\n",
       " (151, 0.0),\n",
       " (152, 0.0),\n",
       " (153, 0.0),\n",
       " (154, 0.0),\n",
       " (155, 0.0),\n",
       " (156, 0.0),\n",
       " (157, 0.0),\n",
       " (158, 0.0),\n",
       " (159, 0.0),\n",
       " (160, 0.0),\n",
       " (161, 0.0),\n",
       " (162, 0.0),\n",
       " (163, 0.0),\n",
       " (164, 0.0),\n",
       " (165, 0.0),\n",
       " (166, 0.0),\n",
       " (167, 0.0),\n",
       " (168, 0.0),\n",
       " (169, 0.0),\n",
       " (170, 0.0),\n",
       " (171, 0.0),\n",
       " (172, 0.0),\n",
       " (173, 0.0),\n",
       " (174, 0.0),\n",
       " (175, 0.0),\n",
       " (176, 0.0),\n",
       " (177, 0.0),\n",
       " (178, 0.0),\n",
       " (179, 0.0),\n",
       " (180, 0.0),\n",
       " (181, 0.0),\n",
       " (182, 0.0),\n",
       " (183, 0.0),\n",
       " (184, 0.0),\n",
       " (185, 0.0),\n",
       " (186, 0.0),\n",
       " (187, 0.0),\n",
       " (188, 0.0),\n",
       " (189, 0.0),\n",
       " (190, 0.0),\n",
       " (191, 0.0),\n",
       " (192, 0.0),\n",
       " (193, 0.0),\n",
       " (194, 0.0),\n",
       " (195, 0.0),\n",
       " (196, 0.0),\n",
       " (197, 0.0),\n",
       " (198, 0.0),\n",
       " (199, 0.0),\n",
       " (200, 0.0),\n",
       " (201, 0.0),\n",
       " (202, 0.0),\n",
       " (203, 0.0),\n",
       " (204, 0.0),\n",
       " (205, 0.0),\n",
       " (206, 0.0),\n",
       " (207, 0.0),\n",
       " (208, 0.0),\n",
       " (209, 0.005902521155878611),\n",
       " (210, 0.0),\n",
       " (211, 0.0),\n",
       " (212, 0.012531184676338264),\n",
       " (213, 0.0),\n",
       " (214, 0.0),\n",
       " (215, 0.0),\n",
       " (216, 0.0),\n",
       " (217, 0.013843355313698057),\n",
       " (218, 0.0),\n",
       " (219, 0.0),\n",
       " (220, 0.0),\n",
       " (221, 0.0),\n",
       " (222, 0.0),\n",
       " (223, 0.007758380906196083),\n",
       " (224, 0.0),\n",
       " (225, 0.0),\n",
       " (226, 0.0),\n",
       " (227, 0.0),\n",
       " (228, 0.0),\n",
       " (229, 0.0),\n",
       " (230, 0.0),\n",
       " (231, 0.0),\n",
       " (232, 0.0),\n",
       " (233, 0.0),\n",
       " (234, 0.0),\n",
       " (235, 0.0),\n",
       " (236, 0.0),\n",
       " (237, 0.0),\n",
       " (238, 0.0),\n",
       " (239, 0.0),\n",
       " (240, 0.0),\n",
       " (241, 0.0),\n",
       " (242, 0.0),\n",
       " (243, 0.0),\n",
       " (244, 0.0),\n",
       " (245, 0.0),\n",
       " (246, 0.0),\n",
       " (247, 0.0),\n",
       " (248, 0.0),\n",
       " (249, 0.0),\n",
       " (250, 0.0),\n",
       " (251, 0.0),\n",
       " (252, 0.0),\n",
       " (253, 0.0),\n",
       " (254, 0.0),\n",
       " (255, 0.0),\n",
       " (256, 0.0),\n",
       " (257, 0.0),\n",
       " (258, 0.0),\n",
       " (259, 0.0),\n",
       " (260, 0.0),\n",
       " (261, 0.0),\n",
       " (262, 0.0),\n",
       " (263, 0.0),\n",
       " (264, 0.0),\n",
       " (265, 0.0),\n",
       " (266, 0.0),\n",
       " (267, 0.0),\n",
       " (268, 0.0),\n",
       " (269, 0.0),\n",
       " (270, 0.0),\n",
       " (271, 0.0),\n",
       " (272, 0.0),\n",
       " (273, 0.0),\n",
       " (274, 0.0),\n",
       " (275, 0.0),\n",
       " (276, 0.0),\n",
       " (277, 0.0),\n",
       " (278, 0.0),\n",
       " (279, 0.0),\n",
       " (280, 0.0),\n",
       " (281, 0.0),\n",
       " (282, 0.0),\n",
       " (283, 0.0),\n",
       " (284, 0.0),\n",
       " (285, 0.0),\n",
       " (286, 0.0),\n",
       " (287, 0.0),\n",
       " (288, 0.0),\n",
       " (289, 0.0),\n",
       " (290, 0.0),\n",
       " (291, 0.0),\n",
       " (292, 0.0),\n",
       " (293, 0.0),\n",
       " (294, 0.030831709815017254),\n",
       " (295, 0.0),\n",
       " (296, 0.0),\n",
       " (297, 0.0),\n",
       " (298, 0.0),\n",
       " (299, 0.0),\n",
       " (300, 0.0),\n",
       " (301, 0.0),\n",
       " (302, 0.0),\n",
       " (303, 0.0),\n",
       " (304, 0.0),\n",
       " (305, 0.0),\n",
       " (306, 0.0),\n",
       " (307, 0.0),\n",
       " (308, 0.0),\n",
       " (309, 0.0),\n",
       " (310, 0.0),\n",
       " (311, 0.0),\n",
       " (312, 0.0),\n",
       " (313, 0.0),\n",
       " (314, 0.0),\n",
       " (315, 0.0),\n",
       " (316, 0.0),\n",
       " (317, 0.0),\n",
       " (318, 0.0),\n",
       " (319, 0.0),\n",
       " (320, 0.0),\n",
       " (321, 0.0),\n",
       " (322, 0.0),\n",
       " (323, 0.0),\n",
       " (324, 0.0),\n",
       " (325, 0.0),\n",
       " (326, 0.0),\n",
       " (327, 0.0),\n",
       " (328, 0.0),\n",
       " (329, 0.0),\n",
       " (330, 0.0),\n",
       " (331, 0.0),\n",
       " (332, 0.01240895441816581),\n",
       " (333, 0.0),\n",
       " (334, 0.0),\n",
       " (335, 0.0),\n",
       " (336, 0.0),\n",
       " (337, 0.0),\n",
       " (338, 0.0),\n",
       " (339, 0.0),\n",
       " (340, 0.0),\n",
       " (341, 0.0),\n",
       " (342, 0.0),\n",
       " (343, 0.0),\n",
       " (344, 0.0),\n",
       " (345, 0.0),\n",
       " (346, 0.0),\n",
       " (347, 0.0),\n",
       " (348, 0.0),\n",
       " (349, 0.0),\n",
       " (350, 0.0),\n",
       " (351, 0.0),\n",
       " (352, 0.0),\n",
       " (353, 0.0),\n",
       " (354, 0.0),\n",
       " (355, 0.0),\n",
       " (356, 0.0),\n",
       " (357, 0.0),\n",
       " (358, 0.0),\n",
       " (359, 0.0),\n",
       " (360, 0.0),\n",
       " (361, 0.0),\n",
       " (362, 0.0),\n",
       " (363, 0.0),\n",
       " (364, 0.0),\n",
       " (365, 0.0),\n",
       " (366, 0.0),\n",
       " (367, 0.0),\n",
       " (368, 0.0),\n",
       " (369, 0.0),\n",
       " (370, 0.0),\n",
       " (371, 0.0),\n",
       " (372, 0.0),\n",
       " (373, 0.0),\n",
       " (374, 0.01231041839987041),\n",
       " (375, 0.0),\n",
       " (376, 0.0),\n",
       " (377, 0.0),\n",
       " (378, 0.009416026133823526),\n",
       " (379, 0.0),\n",
       " (380, 0.0),\n",
       " (381, 0.0),\n",
       " (382, 0.0),\n",
       " (383, 0.0),\n",
       " (384, 0.0),\n",
       " (385, 0.0),\n",
       " (386, 0.0),\n",
       " (387, 0.0),\n",
       " (388, 0.0),\n",
       " (389, 0.0),\n",
       " (390, 0.0),\n",
       " (391, 0.0),\n",
       " (392, 0.0),\n",
       " (393, 0.0),\n",
       " (394, 0.0),\n",
       " (395, 0.0),\n",
       " (396, 0.0),\n",
       " (397, 0.0),\n",
       " (398, 0.0),\n",
       " (399, 0.0),\n",
       " (400, 0.0),\n",
       " (401, 0.0),\n",
       " (402, 0.0),\n",
       " (403, 0.0),\n",
       " (404, 0.0),\n",
       " (405, 0.0),\n",
       " (406, 0.0),\n",
       " (407, 0.0),\n",
       " (408, 0.0),\n",
       " (409, 0.0),\n",
       " (410, 0.0),\n",
       " (411, 0.011339877319589822),\n",
       " (412, 0.0),\n",
       " (413, 0.0),\n",
       " (414, 0.0),\n",
       " (415, 0.0),\n",
       " (416, 0.0),\n",
       " (417, 0.0),\n",
       " (418, 0.0),\n",
       " (419, 0.0),\n",
       " (420, 0.0),\n",
       " (421, 0.0),\n",
       " (422, 0.01242401356858754),\n",
       " (423, 0.0),\n",
       " (424, 0.0),\n",
       " (425, 0.0),\n",
       " (426, 0.0),\n",
       " (427, 0.0),\n",
       " (428, 0.0),\n",
       " (429, 0.0),\n",
       " (430, 0.0),\n",
       " (431, 0.0),\n",
       " (432, 0.0),\n",
       " (433, 0.0),\n",
       " (434, 0.0),\n",
       " (435, 0.0),\n",
       " (436, 0.0),\n",
       " (437, 0.0),\n",
       " (438, 0.0),\n",
       " (439, 0.0),\n",
       " (440, 0.0),\n",
       " (441, 0.0),\n",
       " (442, 0.0),\n",
       " (443, 0.0),\n",
       " (444, 0.0),\n",
       " (445, 0.0),\n",
       " (446, 0.0),\n",
       " (447, 0.0),\n",
       " (448, 0.0),\n",
       " (449, 0.0),\n",
       " (450, 0.0),\n",
       " (451, 0.0),\n",
       " (452, 0.0),\n",
       " (453, 0.0),\n",
       " (454, 0.0),\n",
       " (455, 0.0),\n",
       " (456, 0.011106507727834435),\n",
       " (457, 0.0),\n",
       " (458, 0.0),\n",
       " (459, 0.0),\n",
       " (460, 0.006470556114572978),\n",
       " (461, 0.0),\n",
       " (462, 0.0),\n",
       " (463, 0.0),\n",
       " (464, 0.0),\n",
       " (465, 0.0),\n",
       " (466, 0.0),\n",
       " (467, 0.0),\n",
       " (468, 0.0),\n",
       " (469, 0.0),\n",
       " (470, 0.0),\n",
       " (471, 0.0),\n",
       " (472, 0.0),\n",
       " (473, 0.0),\n",
       " (474, 0.0),\n",
       " (475, 0.0),\n",
       " (476, 0.0),\n",
       " (477, 0.0),\n",
       " (478, 0.0),\n",
       " (479, 0.0),\n",
       " (480, 0.0),\n",
       " (481, 0.0),\n",
       " (482, 0.0),\n",
       " (483, 0.0),\n",
       " (484, 0.0),\n",
       " (485, 0.0),\n",
       " (486, 0.0),\n",
       " (487, 0.0),\n",
       " (488, 0.0),\n",
       " (489, 0.0),\n",
       " (490, 0.0),\n",
       " (491, 0.0),\n",
       " (492, 0.0),\n",
       " (493, 0.0),\n",
       " (494, 0.0),\n",
       " (495, 0.0),\n",
       " (496, 0.0),\n",
       " (497, 0.013518230102848807),\n",
       " (498, 0.0),\n",
       " (499, 0.0),\n",
       " (500, 0.0),\n",
       " (501, 0.0),\n",
       " (502, 0.0),\n",
       " (503, 0.0),\n",
       " (504, 0.0),\n",
       " (505, 0.0),\n",
       " (506, 0.0),\n",
       " (507, 0.0),\n",
       " (508, 0.0),\n",
       " (509, 0.0),\n",
       " (510, 0.0),\n",
       " (511, 0.0),\n",
       " (512, 0.0),\n",
       " (513, 0.0),\n",
       " (514, 0.0),\n",
       " (515, 0.0),\n",
       " (516, 0.0),\n",
       " (517, 0.0),\n",
       " (518, 0.0),\n",
       " (519, 0.0),\n",
       " (520, 0.0),\n",
       " (521, 0.0),\n",
       " (522, 0.0),\n",
       " (523, 0.0),\n",
       " (524, 0.0),\n",
       " (525, 0.0),\n",
       " (526, 0.0),\n",
       " (527, 0.0),\n",
       " (528, 0.0),\n",
       " (529, 0.0),\n",
       " (530, 0.0),\n",
       " (531, 0.0),\n",
       " (532, 0.0),\n",
       " (533, 0.0),\n",
       " (534, 0.0),\n",
       " (535, 0.0),\n",
       " (536, 0.0),\n",
       " (537, 0.0),\n",
       " (538, 0.0),\n",
       " (539, 0.0),\n",
       " (540, 0.0),\n",
       " (541, 0.0),\n",
       " (542, 0.0),\n",
       " (543, 0.0),\n",
       " (544, 0.0),\n",
       " (545, 0.0),\n",
       " (546, 0.0),\n",
       " (547, 0.0),\n",
       " (548, 0.0),\n",
       " (549, 0.0),\n",
       " (550, 0.0),\n",
       " (551, 0.0),\n",
       " (552, 0.0),\n",
       " (553, 0.0),\n",
       " (554, 0.0),\n",
       " (555, 0.0),\n",
       " (556, 0.0),\n",
       " (557, 0.0),\n",
       " (558, 0.0),\n",
       " (559, 0.0),\n",
       " (560, 0.0),\n",
       " (561, 0.0),\n",
       " (562, 0.0),\n",
       " (563, 0.0),\n",
       " (564, 0.0),\n",
       " (565, 0.0),\n",
       " (566, 0.004424385511050963),\n",
       " (567, 0.0),\n",
       " (568, 0.0),\n",
       " (569, 0.0),\n",
       " (570, 0.0),\n",
       " (571, 0.0),\n",
       " (572, 0.0),\n",
       " (573, 0.0),\n",
       " (574, 0.0),\n",
       " (575, 0.0),\n",
       " (576, 0.0),\n",
       " (577, 0.0),\n",
       " (578, 0.0),\n",
       " (579, 0.0),\n",
       " (580, 0.0),\n",
       " (581, 0.0),\n",
       " (582, 0.0),\n",
       " (583, 0.0),\n",
       " (584, 0.0),\n",
       " (585, 0.0073537823340894745),\n",
       " (586, 0.0),\n",
       " (587, 0.0),\n",
       " (588, 0.0),\n",
       " (589, 0.0),\n",
       " (590, 0.0),\n",
       " (591, 0.0),\n",
       " (592, 0.0),\n",
       " (593, 0.0),\n",
       " (594, 0.0),\n",
       " (595, 0.0),\n",
       " (596, 0.0),\n",
       " (597, 0.0),\n",
       " (598, 0.0),\n",
       " (599, 0.0),\n",
       " (600, 0.0),\n",
       " (601, 0.0),\n",
       " (602, 0.0),\n",
       " (603, 0.02670151527748957),\n",
       " (604, 0.0),\n",
       " (605, 0.0),\n",
       " (606, 0.0),\n",
       " (607, 0.0),\n",
       " (608, 0.0),\n",
       " (609, 0.0),\n",
       " (610, 0.0),\n",
       " (611, 0.0),\n",
       " (612, 0.0),\n",
       " (613, 0.0),\n",
       " (614, 0.0),\n",
       " (615, 0.0),\n",
       " (616, 0.0),\n",
       " (617, 0.0),\n",
       " (618, 0.0),\n",
       " (619, 0.0),\n",
       " (620, 0.0),\n",
       " (621, 0.0),\n",
       " (622, 0.0),\n",
       " (623, 0.0),\n",
       " (624, 0.0),\n",
       " (625, 0.0),\n",
       " (626, 0.0),\n",
       " (627, 0.0),\n",
       " (628, 0.0),\n",
       " (629, 0.0),\n",
       " (630, 0.0),\n",
       " (631, 0.0),\n",
       " (632, 0.0),\n",
       " (633, 0.0),\n",
       " (634, 0.0),\n",
       " (635, 0.0),\n",
       " (636, 0.0),\n",
       " (637, 0.0),\n",
       " (638, 0.01544489439815049),\n",
       " (639, 0.0),\n",
       " (640, 0.0),\n",
       " (641, 0.0),\n",
       " (642, 0.0),\n",
       " (643, 0.0),\n",
       " (644, 0.0),\n",
       " (645, 0.0),\n",
       " (646, 0.0),\n",
       " (647, 0.0),\n",
       " (648, 0.0),\n",
       " (649, 0.0),\n",
       " (650, 0.0),\n",
       " (651, 0.0),\n",
       " (652, 0.0),\n",
       " (653, 0.005904978163155756),\n",
       " (654, 0.0),\n",
       " (655, 0.0),\n",
       " (656, 0.0),\n",
       " (657, 0.0),\n",
       " (658, 0.0),\n",
       " (659, 0.0),\n",
       " (660, 0.0),\n",
       " (661, 0.0),\n",
       " (662, 0.005803457863356719),\n",
       " (663, 0.0),\n",
       " (664, 0.0),\n",
       " (665, 0.0),\n",
       " (666, 0.0),\n",
       " (667, 0.0),\n",
       " (668, 0.0),\n",
       " (669, 0.0),\n",
       " (670, 0.0),\n",
       " (671, 0.0),\n",
       " (672, 0.0),\n",
       " (673, 0.0),\n",
       " (674, 0.0),\n",
       " (675, 0.0),\n",
       " (676, 0.0),\n",
       " (677, 0.0),\n",
       " (678, 0.0),\n",
       " (679, 0.0),\n",
       " (680, 0.0),\n",
       " (681, 0.0),\n",
       " (682, 0.0),\n",
       " (683, 0.0),\n",
       " (684, 0.0),\n",
       " (685, 0.0),\n",
       " (686, 0.0),\n",
       " (687, 0.0),\n",
       " (688, 0.0),\n",
       " (689, 0.0),\n",
       " (690, 0.0),\n",
       " (691, 0.0),\n",
       " (692, 0.0),\n",
       " (693, 0.0),\n",
       " (694, 0.0),\n",
       " (695, 0.02565754184091111),\n",
       " (696, 0.0),\n",
       " (697, 0.0),\n",
       " (698, 0.0),\n",
       " (699, 0.0),\n",
       " (700, 0.0),\n",
       " (701, 0.0),\n",
       " (702, 0.0),\n",
       " (703, 0.0),\n",
       " (704, 0.0),\n",
       " (705, 0.0),\n",
       " (706, 0.0),\n",
       " (707, 0.0),\n",
       " (708, 0.0),\n",
       " (709, 0.0),\n",
       " (710, 0.0),\n",
       " (711, 0.0),\n",
       " (712, 0.0),\n",
       " (713, 0.0),\n",
       " (714, 0.0),\n",
       " (715, 0.0),\n",
       " (716, 0.0),\n",
       " (717, 0.0),\n",
       " (718, 0.0),\n",
       " (719, 0.0),\n",
       " (720, 0.0),\n",
       " (721, 0.0),\n",
       " (722, 0.0),\n",
       " (723, 0.0),\n",
       " (724, 0.0),\n",
       " (725, 0.0),\n",
       " (726, 0.0),\n",
       " (727, 0.0),\n",
       " (728, 0.0),\n",
       " (729, 0.0),\n",
       " (730, 0.0),\n",
       " (731, 0.0),\n",
       " (732, 0.0),\n",
       " (733, 0.0),\n",
       " (734, 0.0),\n",
       " (735, 0.0),\n",
       " (736, 0.00829554571157618),\n",
       " (737, 0.0),\n",
       " (738, 0.0),\n",
       " (739, 0.0),\n",
       " (740, 0.0),\n",
       " (741, 0.0),\n",
       " (742, 0.0),\n",
       " (743, 0.0073590157077167255),\n",
       " (744, 0.0),\n",
       " (745, 0.0),\n",
       " (746, 0.0),\n",
       " (747, 0.0),\n",
       " (748, 0.0),\n",
       " (749, 0.0),\n",
       " (750, 0.0),\n",
       " (751, 0.0),\n",
       " (752, 0.0),\n",
       " (753, 0.0),\n",
       " (754, 0.0),\n",
       " (755, 0.0),\n",
       " (756, 0.0),\n",
       " (757, 0.0),\n",
       " (758, 0.0),\n",
       " (759, 0.0),\n",
       " (760, 0.0),\n",
       " (761, 0.0),\n",
       " (762, 0.0),\n",
       " (763, 0.0),\n",
       " (764, 0.0),\n",
       " (765, 0.0),\n",
       " (766, 0.0),\n",
       " (767, 0.0),\n",
       " (768, 0.0),\n",
       " (769, 0.0),\n",
       " (770, 0.0),\n",
       " (771, 0.0),\n",
       " (772, 0.0),\n",
       " (773, 0.0),\n",
       " (774, 0.0),\n",
       " (775, 0.0),\n",
       " (776, 0.0),\n",
       " (777, 0.0),\n",
       " (778, 0.0),\n",
       " (779, 0.0),\n",
       " (780, 0.0),\n",
       " (781, 0.0),\n",
       " (782, 0.0),\n",
       " (783, 0.0),\n",
       " (784, 0.0),\n",
       " (785, 0.0),\n",
       " (786, 0.0),\n",
       " (787, 0.0),\n",
       " (788, 0.0),\n",
       " (789, 0.0),\n",
       " (790, 0.0),\n",
       " (791, 0.0),\n",
       " (792, 0.0),\n",
       " (793, 0.0),\n",
       " (794, 0.0),\n",
       " (795, 0.0),\n",
       " (796, 0.0),\n",
       " (797, 0.0),\n",
       " (798, 0.0),\n",
       " (799, 0.012468950017459943),\n",
       " (800, 0.0),\n",
       " (801, 0.0),\n",
       " (802, 0.0),\n",
       " (803, 0.0),\n",
       " (804, 0.0),\n",
       " (805, 0.0),\n",
       " (806, 0.0),\n",
       " (807, 0.0),\n",
       " (808, 0.0),\n",
       " (809, 0.0),\n",
       " (810, 0.0),\n",
       " (811, 0.0),\n",
       " (812, 0.0),\n",
       " (813, 0.0),\n",
       " (814, 0.0),\n",
       " (815, 0.0),\n",
       " (816, 0.0),\n",
       " (817, 0.0),\n",
       " (818, 0.0),\n",
       " (819, 0.0),\n",
       " (820, 0.0),\n",
       " (821, 0.0),\n",
       " (822, 0.0),\n",
       " (823, 0.007478576577076114),\n",
       " (824, 0.0),\n",
       " (825, 0.0),\n",
       " (826, 0.0),\n",
       " (827, 0.0),\n",
       " (828, 0.0),\n",
       " (829, 0.0),\n",
       " (830, 0.0),\n",
       " (831, 0.0),\n",
       " (832, 0.0),\n",
       " (833, 0.0),\n",
       " (834, 0.0),\n",
       " (835, 0.0),\n",
       " (836, 0.0),\n",
       " (837, 0.0),\n",
       " (838, 0.0),\n",
       " (839, 0.0),\n",
       " (840, 0.0),\n",
       " (841, 0.0),\n",
       " (842, 0.0),\n",
       " (843, 0.0),\n",
       " (844, 0.0),\n",
       " (845, 0.0),\n",
       " (846, 0.0),\n",
       " (847, 0.0),\n",
       " (848, 0.0),\n",
       " (849, 0.0),\n",
       " (850, 0.0),\n",
       " (851, 0.0),\n",
       " (852, 0.0),\n",
       " (853, 0.0),\n",
       " (854, 0.0),\n",
       " (855, 0.0),\n",
       " (856, 0.0),\n",
       " (857, 0.0),\n",
       " (858, 0.0),\n",
       " (859, 0.0),\n",
       " (860, 0.0),\n",
       " (861, 0.0),\n",
       " (862, 0.0),\n",
       " (863, 0.0),\n",
       " (864, 0.0),\n",
       " (865, 0.0),\n",
       " (866, 0.0),\n",
       " (867, 0.0),\n",
       " (868, 0.0),\n",
       " (869, 0.0),\n",
       " (870, 0.0),\n",
       " (871, 0.0),\n",
       " (872, 0.0),\n",
       " (873, 0.0),\n",
       " (874, 0.0),\n",
       " (875, 0.0),\n",
       " (876, 0.0),\n",
       " (877, 0.0),\n",
       " (878, 0.0),\n",
       " (879, 0.0),\n",
       " (880, 0.0),\n",
       " (881, 0.0),\n",
       " (882, 0.0),\n",
       " (883, 0.0),\n",
       " (884, 0.0),\n",
       " (885, 0.0),\n",
       " (886, 0.0),\n",
       " (887, 0.0),\n",
       " (888, 0.0),\n",
       " (889, 0.0),\n",
       " (890, 0.0),\n",
       " (891, 0.0),\n",
       " (892, 0.0),\n",
       " (893, 0.0),\n",
       " (894, 0.0),\n",
       " (895, 0.0),\n",
       " (896, 0.0),\n",
       " (897, 0.0),\n",
       " (898, 0.0),\n",
       " (899, 0.0),\n",
       " (900, 0.0),\n",
       " (901, 0.0),\n",
       " (902, 0.0),\n",
       " (903, 0.014061910506538081),\n",
       " (904, 0.0),\n",
       " (905, 0.0),\n",
       " (906, 0.0),\n",
       " (907, 0.009004317255918822),\n",
       " (908, 0.0),\n",
       " (909, 0.0),\n",
       " (910, 0.0),\n",
       " (911, 0.0),\n",
       " (912, 0.0),\n",
       " (913, 0.0),\n",
       " (914, 0.0),\n",
       " (915, 0.0),\n",
       " (916, 0.0),\n",
       " (917, 0.01056293930830459),\n",
       " (918, 0.0),\n",
       " (919, 0.0),\n",
       " (920, 0.0),\n",
       " (921, 0.0),\n",
       " (922, 0.0),\n",
       " (923, 0.0),\n",
       " (924, 0.0),\n",
       " (925, 0.0),\n",
       " (926, 0.0),\n",
       " (927, 0.0),\n",
       " (928, 0.0),\n",
       " (929, 0.0),\n",
       " (930, 0.0),\n",
       " (931, 0.0),\n",
       " (932, 0.0),\n",
       " (933, 0.0),\n",
       " (934, 0.0),\n",
       " (935, 0.0),\n",
       " (936, 0.0),\n",
       " (937, 0.0),\n",
       " (938, 0.0),\n",
       " (939, 0.0),\n",
       " (940, 0.0),\n",
       " (941, 0.0),\n",
       " (942, 0.0),\n",
       " (943, 0.0),\n",
       " (944, 0.021918700531392256),\n",
       " (945, 0.0),\n",
       " (946, 0.0),\n",
       " (947, 0.0),\n",
       " (948, 0.0),\n",
       " (949, 0.0),\n",
       " (950, 0.0),\n",
       " (951, 0.0),\n",
       " (952, 0.0),\n",
       " (953, 0.0),\n",
       " (954, 0.0),\n",
       " (955, 0.0),\n",
       " (956, 0.0),\n",
       " (957, 0.0),\n",
       " (958, 0.0),\n",
       " (959, 0.0),\n",
       " (960, 0.006719723336450738),\n",
       " (961, 0.0),\n",
       " (962, 0.0),\n",
       " (963, 0.0),\n",
       " (964, 0.0),\n",
       " (965, 0.0),\n",
       " (966, 0.0),\n",
       " (967, 0.0),\n",
       " (968, 0.0),\n",
       " (969, 0.0066886813632240655),\n",
       " (970, 0.0),\n",
       " (971, 0.0),\n",
       " (972, 0.0),\n",
       " (973, 0.0),\n",
       " (974, 0.0),\n",
       " (975, 0.0),\n",
       " (976, 0.0),\n",
       " (977, 0.0),\n",
       " (978, 0.0),\n",
       " (979, 0.0),\n",
       " (980, 0.0),\n",
       " (981, 0.0),\n",
       " (982, 0.0),\n",
       " (983, 0.0),\n",
       " (984, 0.0),\n",
       " (985, 0.0),\n",
       " (986, 0.0),\n",
       " (987, 0.0),\n",
       " (988, 0.0),\n",
       " (989, 0.0),\n",
       " (990, 0.011534488131866754),\n",
       " (991, 0.0),\n",
       " (992, 0.0),\n",
       " (993, 0.0),\n",
       " (994, 0.0),\n",
       " (995, 0.0),\n",
       " (996, 0.0),\n",
       " (997, 0.0),\n",
       " (998, 0.0),\n",
       " (999, 0.0),\n",
       " ...]"
      ]
     },
     "execution_count": 137,
     "metadata": {},
     "output_type": "execute_result"
    }
   ],
   "source": [
    "sim_scores"
   ]
  },
  {
   "cell_type": "code",
   "execution_count": 138,
   "metadata": {},
   "outputs": [],
   "source": [
    "def get_recommendations(name, platform):\n",
    "    \n",
    "    try:\n",
    "        #Construct a reverse map of indices and game names\n",
    "        indices = pd.Series(df_merge[df_merge['platforms']==platform.upper()].reset_index(drop=True).index, index=df_merge[df_merge['platforms']==platform.upper()].reset_index(drop=True)['name']).drop_duplicates()\n",
    "\n",
    "        # Get the index of the game that matches the game name\n",
    "        idx = indices[name.upper()]\n",
    "\n",
    "        # Get the pairwsie similarity scores of all games with that game\n",
    "        sim_scores = list(enumerate(tfidf_sim[platform.upper()][idx]))\n",
    "\n",
    "        # Sort the games based on the similarity scores\n",
    "        sim_scores = sorted(sim_scores, key=lambda x: x[1], reverse=True)\n",
    "\n",
    "        # Get the scores of the 10 most similar games\n",
    "        sim_scores = sim_scores[1:11]\n",
    "\n",
    "        # Get the game indices\n",
    "        game_indices = [i[0] for i in sim_scores]\n",
    "        \n",
    "        # Get game titles and sim_scores\n",
    "        df_merge_test = pd.DataFrame(df_merge[df_merge['platforms']==platform.upper()].reset_index(drop=True)['name'].iloc[game_indices])\n",
    "        df_merge_test['cos_sim'] = [round(i[1],2) for i in sim_scores]\n",
    "        \n",
    "        # Print dataframe without index shown\n",
    "        print(df_merge_test[['name', 'cos_sim']].to_string(index=False))\n",
    "\n",
    "    except:\n",
    "        print(f'Game does not exist on {platform.upper()}')"
   ]
  },
  {
   "cell_type": "code",
   "execution_count": 139,
   "metadata": {},
   "outputs": [
    {
     "name": "stdout",
     "output_type": "stream",
     "text": [
      "                                                     name  cos_sim\n",
      " CALL OF DUTY: BLACK OPS III - ZOMBIES CHRONICLES EDITION     0.56\n",
      "               CALL OF DUTY: BLACK OPS III - GOLD EDITION     0.28\n",
      "     CALL OF DUTY: BLACK OPS III - DIGITAL DELUXE EDITION     0.26\n",
      "          CALL OF DUTY: BLACK OPS III - JUGGERNOG EDITION     0.14\n",
      "                         CALL OF DUTY: BLACK OPS COLD WAR     0.14\n",
      "                                CALL OF DUTY: BLACK OPS 4     0.13\n",
      "                    CALL OF DUTY: BLACK OPS III - DESCENT     0.12\n",
      "          CALL OF DUTY: BLACK OPS III - STEELBOOK EDITION     0.09\n",
      "      CALL OF DUTY: INFINITE WARFARE - LEGACY PRO EDITION     0.07\n",
      "                  CALL OF DUTY: BLACK OPS III - SALVATION     0.06\n"
     ]
    }
   ],
   "source": [
    "get_recommendations('call of duty: black ops iii', 'ps4')"
   ]
  },
  {
   "cell_type": "code",
   "execution_count": null,
   "metadata": {},
   "outputs": [],
   "source": []
  }
 ],
 "metadata": {
  "kernelspec": {
   "display_name": "Python 3",
   "language": "python",
   "name": "python3"
  },
  "language_info": {
   "codemirror_mode": {
    "name": "ipython",
    "version": 3
   },
   "file_extension": ".py",
   "mimetype": "text/x-python",
   "name": "python",
   "nbconvert_exporter": "python",
   "pygments_lexer": "ipython3",
   "version": "3.8.5"
  }
 },
 "nbformat": 4,
 "nbformat_minor": 2
}
